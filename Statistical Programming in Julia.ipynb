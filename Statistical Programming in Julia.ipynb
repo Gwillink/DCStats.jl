{
 "metadata": {
  "language": "Julia",
  "name": ""
 },
 "nbformat": 3,
 "nbformat_minor": 0,
 "worksheets": [
  {
   "cells": [
    {
     "cell_type": "heading",
     "level": 1,
     "metadata": {
      "slideshow": {
       "slide_type": "slide"
      }
     },
     "source": [
      "Basic Statistics in Julia"
     ]
    },
    {
     "cell_type": "code",
     "collapsed": false,
     "input": [
      "using Stats"
     ],
     "language": "python",
     "metadata": {
      "slideshow": {
       "slide_type": "slide"
      }
     },
     "outputs": [],
     "prompt_number": 1
    },
    {
     "cell_type": "code",
     "collapsed": false,
     "input": [
      "srand(1)"
     ],
     "language": "python",
     "metadata": {
      "slideshow": {
       "slide_type": "slide"
      }
     },
     "outputs": [],
     "prompt_number": 2
    },
    {
     "cell_type": "code",
     "collapsed": false,
     "input": [
      "x = rand(100)"
     ],
     "language": "python",
     "metadata": {
      "slideshow": {
       "slide_type": "slide"
      }
     },
     "outputs": [
      {
       "metadata": {},
       "output_type": "pyout",
       "prompt_number": 3,
       "text": [
        "100-element Array{Float64,1}:\n",
        " 0.751313 \n",
        " 0.644883 \n",
        " 0.0778264\n",
        " 0.848185 \n",
        " 0.0856352\n",
        " 0.553206 \n",
        " 0.46335  \n",
        " 0.185821 \n",
        " 0.111981 \n",
        " 0.976312 \n",
        " 0.0516146\n",
        " 0.53803  \n",
        " 0.455692 \n",
        " \u22ee        \n",
        " 0.0141033\n",
        " 0.502774 \n",
        " 0.224851 \n",
        " 0.287858 \n",
        " 0.104033 \n",
        " 0.475749 \n",
        " 0.416681 \n",
        " 0.521387 \n",
        " 0.908499 \n",
        " 0.102832 \n",
        " 0.670421 \n",
        " 0.755415 "
       ]
      }
     ],
     "prompt_number": 3
    },
    {
     "cell_type": "code",
     "collapsed": false,
     "input": [
      "min(x)"
     ],
     "language": "python",
     "metadata": {
      "slideshow": {
       "slide_type": "slide"
      }
     },
     "outputs": [
      {
       "metadata": {},
       "output_type": "pyout",
       "prompt_number": 4,
       "text": [
        "0.013540332577443914"
       ]
      }
     ],
     "prompt_number": 4
    },
    {
     "cell_type": "code",
     "collapsed": false,
     "input": [
      "median(x)"
     ],
     "language": "python",
     "metadata": {
      "slideshow": {
       "slide_type": "slide"
      }
     },
     "outputs": [
      {
       "metadata": {},
       "output_type": "pyout",
       "prompt_number": 5,
       "text": [
        "0.5171938141736522"
       ]
      }
     ],
     "prompt_number": 5
    },
    {
     "cell_type": "code",
     "collapsed": false,
     "input": [
      "max(x)"
     ],
     "language": "python",
     "metadata": {
      "slideshow": {
       "slide_type": "slide"
      }
     },
     "outputs": [
      {
       "metadata": {},
       "output_type": "pyout",
       "prompt_number": 6,
       "text": [
        "0.9981360570779374"
       ]
      }
     ],
     "prompt_number": 6
    },
    {
     "cell_type": "code",
     "collapsed": false,
     "input": [
      "quantile(x, [0.0, 0.5, 1.0])"
     ],
     "language": "python",
     "metadata": {
      "slideshow": {
       "slide_type": "slide"
      }
     },
     "outputs": [
      {
       "metadata": {},
       "output_type": "pyout",
       "prompt_number": 7,
       "text": [
        "3-element Array{Float64,1}:\n",
        " 0.0135403\n",
        " 0.517194 \n",
        " 0.998136 "
       ]
      }
     ],
     "prompt_number": 7
    },
    {
     "cell_type": "code",
     "collapsed": false,
     "input": [
      "describe(x)"
     ],
     "language": "python",
     "metadata": {
      "slideshow": {
       "slide_type": "slide"
      }
     },
     "outputs": [
      {
       "output_type": "stream",
       "stream": "stdout",
       "text": [
        "Min:          0"
       ]
      },
      {
       "output_type": "stream",
       "stream": "stdout",
       "text": [
        ".013540\n",
        "1st Quartile: 0.284476\n",
        "Median:       0.517194\n",
        "Mean:         0.506404\n",
        "3rd Quartile: 0.737570\n",
        "Max:          0.998136\n"
       ]
      }
     ],
     "prompt_number": 8
    },
    {
     "cell_type": "heading",
     "level": 1,
     "metadata": {
      "slideshow": {
       "slide_type": "slide"
      }
     },
     "source": [
      "Probability Distributions in Julia"
     ]
    },
    {
     "cell_type": "code",
     "collapsed": false,
     "input": [
      "using Distributions"
     ],
     "language": "python",
     "metadata": {
      "slideshow": {
       "slide_type": "slide"
      }
     },
     "outputs": [],
     "prompt_number": 9
    },
    {
     "cell_type": "code",
     "collapsed": false,
     "input": [
      "x = rand(Gamma(1, 2), 100)"
     ],
     "language": "python",
     "metadata": {
      "slideshow": {
       "slide_type": "slide"
      }
     },
     "outputs": [
      {
       "metadata": {},
       "output_type": "pyout",
       "prompt_number": 10,
       "text": [
        "100-element Array{Float64,1}:\n",
        " 3.65444  \n",
        " 3.27915  \n",
        " 2.42074  \n",
        " 0.304669 \n",
        " 5.07389  \n",
        " 0.857865 \n",
        " 1.53316  \n",
        " 2.16078  \n",
        " 0.0241301\n",
        " 0.952379 \n",
        " 3.09903  \n",
        " 1.11849  \n",
        " 0.311267 \n",
        " \u22ee        \n",
        " 0.361228 \n",
        " 2.42048  \n",
        " 1.63559  \n",
        " 0.152136 \n",
        " 0.504553 \n",
        " 0.164735 \n",
        " 0.90393  \n",
        " 0.428654 \n",
        " 0.0218694\n",
        " 0.734934 \n",
        " 0.0572778\n",
        " 0.0138912"
       ]
      }
     ],
     "prompt_number": 10
    },
    {
     "cell_type": "heading",
     "level": 1,
     "metadata": {
      "slideshow": {
       "slide_type": "slide"
      }
     },
     "source": [
      "Standard R Functions with Simpler Names"
     ]
    },
    {
     "cell_type": "code",
     "collapsed": false,
     "input": [
      "d = Normal(0, 1)"
     ],
     "language": "python",
     "metadata": {
      "slideshow": {
       "slide_type": "slide"
      }
     },
     "outputs": [
      {
       "metadata": {},
       "output_type": "pyout",
       "prompt_number": 11,
       "text": [
        "Normal( \u03bc=0.0 \u03c3=1.0 )"
       ]
      }
     ],
     "prompt_number": 11
    },
    {
     "cell_type": "code",
     "collapsed": false,
     "input": [
      "pdf(d, 0.0)"
     ],
     "language": "python",
     "metadata": {
      "slideshow": {
       "slide_type": "slide"
      }
     },
     "outputs": [
      {
       "metadata": {},
       "output_type": "pyout",
       "prompt_number": 12,
       "text": [
        "0.39894228040143265"
       ]
      }
     ],
     "prompt_number": 12
    },
    {
     "cell_type": "code",
     "collapsed": false,
     "input": [
      "cdf(d, 0.0)"
     ],
     "language": "python",
     "metadata": {
      "slideshow": {
       "slide_type": "slide"
      }
     },
     "outputs": [
      {
       "metadata": {},
       "output_type": "pyout",
       "prompt_number": 13,
       "text": [
        "0.5"
       ]
      }
     ],
     "prompt_number": 13
    },
    {
     "cell_type": "code",
     "collapsed": false,
     "input": [
      "quantile(d, 0.1)"
     ],
     "language": "python",
     "metadata": {
      "slideshow": {
       "slide_type": "slide"
      }
     },
     "outputs": [
      {
       "metadata": {},
       "output_type": "pyout",
       "prompt_number": 14,
       "text": [
        "-1.2815515655446008"
       ]
      }
     ],
     "prompt_number": 14
    },
    {
     "cell_type": "code",
     "collapsed": false,
     "input": [
      "rand(d)"
     ],
     "language": "python",
     "metadata": {
      "slideshow": {
       "slide_type": "slide"
      }
     },
     "outputs": [
      {
       "metadata": {},
       "output_type": "pyout",
       "prompt_number": 15,
       "text": [
        "-1.148303450749148"
       ]
      }
     ],
     "prompt_number": 15
    },
    {
     "cell_type": "code",
     "collapsed": false,
     "input": [
      "rand(Categorical([0.1, 0.9]))"
     ],
     "language": "python",
     "metadata": {
      "slideshow": {
       "slide_type": "slide"
      }
     },
     "outputs": [
      {
       "metadata": {},
       "output_type": "pyout",
       "prompt_number": 16,
       "text": [
        "2"
       ]
      }
     ],
     "prompt_number": 16
    },
    {
     "cell_type": "code",
     "collapsed": false,
     "input": [
      "rand(sampler(Categorical([0.5, 0.5])))"
     ],
     "language": "python",
     "metadata": {
      "slideshow": {
       "slide_type": "slide"
      }
     },
     "outputs": [
      {
       "metadata": {},
       "output_type": "pyout",
       "prompt_number": 17,
       "text": [
        "2"
       ]
      }
     ],
     "prompt_number": 17
    },
    {
     "cell_type": "code",
     "collapsed": false,
     "input": [
      "Categorical([0.5, 0.5])"
     ],
     "language": "python",
     "metadata": {
      "slideshow": {
       "slide_type": "slide"
      }
     },
     "outputs": [
      {
       "metadata": {},
       "output_type": "pyout",
       "prompt_number": 18,
       "text": [
        "Categorical( K=2 prob=.5\n",
        ".5\n",
        " )"
       ]
      }
     ],
     "prompt_number": 18
    },
    {
     "cell_type": "code",
     "collapsed": false,
     "input": [
      "sampler(Categorical([0.5, 0.5]))"
     ],
     "language": "python",
     "metadata": {
      "slideshow": {
       "slide_type": "slide"
      }
     },
     "outputs": [
      {
       "metadata": {},
       "output_type": "pyout",
       "prompt_number": 19,
       "text": [
        "CategoricalSampler( d=Categorical( K=2 prob=.5\n",
        ".5\n",
        " ) alias=AliasTable with 2 entries )"
       ]
      }
     ],
     "prompt_number": 19
    },
    {
     "cell_type": "heading",
     "level": 1,
     "metadata": {
      "slideshow": {
       "slide_type": "slide"
      }
     },
     "source": [
      "Additional Abstractions around PDF's, CDF's, etc."
     ]
    },
    {
     "cell_type": "code",
     "collapsed": false,
     "input": [
      "quantile(d, [0.25, 0.75])"
     ],
     "language": "python",
     "metadata": {
      "slideshow": {
       "slide_type": "slide"
      }
     },
     "outputs": [
      {
       "metadata": {},
       "output_type": "pyout",
       "prompt_number": 20,
       "text": [
        "2-element Array{Float64,1}:\n",
        " -0.67449\n",
        "  0.67449"
       ]
      }
     ],
     "prompt_number": 20
    },
    {
     "cell_type": "code",
     "collapsed": false,
     "input": [
      "-loglikelihood(d, rand(d, 100_000)) / 100_000"
     ],
     "language": "python",
     "metadata": {
      "slideshow": {
       "slide_type": "slide"
      }
     },
     "outputs": [
      {
       "metadata": {},
       "output_type": "pyout",
       "prompt_number": 21,
       "text": [
        "1.4215515006582424"
       ]
      }
     ],
     "prompt_number": 21
    },
    {
     "cell_type": "heading",
     "level": 1,
     "metadata": {
      "slideshow": {
       "slide_type": "slide"
      }
     },
     "source": [
      "Theoretical Properties of Distributions"
     ]
    },
    {
     "cell_type": "code",
     "collapsed": false,
     "input": [
      "entropy(d)"
     ],
     "language": "python",
     "metadata": {
      "slideshow": {
       "slide_type": "slide"
      }
     },
     "outputs": [
      {
       "metadata": {},
       "output_type": "pyout",
       "prompt_number": 22,
       "text": [
        "1.4189385332046727"
       ]
      }
     ],
     "prompt_number": 22
    },
    {
     "cell_type": "code",
     "collapsed": false,
     "input": [
      "mean(d)"
     ],
     "language": "python",
     "metadata": {
      "slideshow": {
       "slide_type": "slide"
      }
     },
     "outputs": [
      {
       "metadata": {},
       "output_type": "pyout",
       "prompt_number": 23,
       "text": [
        "0.0"
       ]
      }
     ],
     "prompt_number": 23
    },
    {
     "cell_type": "code",
     "collapsed": false,
     "input": [
      "skewness(d)"
     ],
     "language": "python",
     "metadata": {
      "slideshow": {
       "slide_type": "slide"
      }
     },
     "outputs": [
      {
       "metadata": {},
       "output_type": "pyout",
       "prompt_number": 24,
       "text": [
        "0.0"
       ]
      }
     ],
     "prompt_number": 24
    },
    {
     "cell_type": "code",
     "collapsed": false,
     "input": [
      "kurtosis(d)"
     ],
     "language": "python",
     "metadata": {
      "slideshow": {
       "slide_type": "slide"
      }
     },
     "outputs": [
      {
       "metadata": {},
       "output_type": "pyout",
       "prompt_number": 25,
       "text": [
        "0.0"
       ]
      }
     ],
     "prompt_number": 25
    },
    {
     "cell_type": "code",
     "collapsed": false,
     "input": [
      "var(d)"
     ],
     "language": "python",
     "metadata": {
      "slideshow": {
       "slide_type": "slide"
      }
     },
     "outputs": [
      {
       "metadata": {},
       "output_type": "pyout",
       "prompt_number": 26,
       "text": [
        "1.0"
       ]
      }
     ],
     "prompt_number": 26
    },
    {
     "cell_type": "code",
     "collapsed": false,
     "input": [
      "modes(d)"
     ],
     "language": "python",
     "metadata": {
      "slideshow": {
       "slide_type": "slide"
      }
     },
     "outputs": [
      {
       "metadata": {},
       "output_type": "pyout",
       "prompt_number": 27,
       "text": [
        "1-element Array{Float64,1}:\n",
        " 0.0"
       ]
      }
     ],
     "prompt_number": 27
    },
    {
     "cell_type": "heading",
     "level": 1,
     "metadata": {
      "slideshow": {
       "slide_type": "slide"
      }
     },
     "source": [
      "Fit Distributions to Data"
     ]
    },
    {
     "cell_type": "code",
     "collapsed": false,
     "input": [
      "x = rand(d, 1_000)"
     ],
     "language": "python",
     "metadata": {
      "slideshow": {
       "slide_type": "slide"
      }
     },
     "outputs": [
      {
       "metadata": {},
       "output_type": "pyout",
       "prompt_number": 28,
       "text": [
        "1000-element Array{Float64,1}:\n",
        "  0.310605\n",
        "  0.221402\n",
        "  0.95593 \n",
        " -1.04024 \n",
        " -0.266503\n",
        "  1.42033 \n",
        " -0.126218\n",
        " -0.869445\n",
        " -0.106429\n",
        "  0.382252\n",
        "  1.07753 \n",
        "  0.105937\n",
        "  0.782879\n",
        "  \u22ee       \n",
        " -0.539552\n",
        " -0.803974\n",
        " -0.148499\n",
        "  1.32252 \n",
        "  1.37698 \n",
        "  0.587283\n",
        " -0.443303\n",
        " -0.612026\n",
        " -0.893927\n",
        " -0.72312 \n",
        " -0.183116\n",
        "  0.083744"
       ]
      }
     ],
     "prompt_number": 28
    },
    {
     "cell_type": "code",
     "collapsed": false,
     "input": [
      "fit_mle(Normal, x)"
     ],
     "language": "python",
     "metadata": {
      "slideshow": {
       "slide_type": "slide"
      }
     },
     "outputs": [
      {
       "metadata": {},
       "output_type": "pyout",
       "prompt_number": 29,
       "text": [
        "Normal( \u03bc=-0.041058233595773846 \u03c3=0.9695971799512735 )"
       ]
      }
     ],
     "prompt_number": 29
    },
    {
     "cell_type": "code",
     "collapsed": false,
     "input": [
      "(mean(d), std(d)), (mean(x), std(x))"
     ],
     "language": "python",
     "metadata": {
      "slideshow": {
       "slide_type": "slide"
      }
     },
     "outputs": [
      {
       "metadata": {},
       "output_type": "pyout",
       "prompt_number": 30,
       "text": [
        "((0.0,1.0),(-0.041058233595773846,0.9700823424434561))"
       ]
      }
     ],
     "prompt_number": 30
    },
    {
     "cell_type": "code",
     "collapsed": false,
     "input": [
      "methods(mean)"
     ],
     "language": "python",
     "metadata": {
      "slideshow": {
       "slide_type": "slide"
      }
     },
     "outputs": [
      {
       "metadata": {},
       "output_type": "pyout",
       "prompt_number": 31,
       "text": [
        "# 57 methods for generic function \"mean\":\n",
        "mean{T<:Real}(x::Union(AbstractUnsafeView{T<:Real,N},Array{T<:Real,N})) at /Users/johnmyleswhite/.julia/NumericExtensions/src/statistics.jl:18\n",
        "mean(v::AbstractArray{T,N}) at statistics.jl:15\n",
        "mean(d::Arcsine) at /Users/johnmyleswhite/.julia/Distributions/src/univariate/arcsine.jl:19\n",
        "mean(d::Bernoulli) at /Users/johnmyleswhite/.julia/Distributions/src/univariate/bernoulli.jl:35\n",
        "mean(d::Beta) at /Users/johnmyleswhite/.julia/Distributions/src/univariate/beta.jl:33\n",
        "mean(d::BetaPrime) at /Users/johnmyleswhite/.julia/Distributions/src/univariate/betaprime.jl:22\n",
        "mean(d::Binomial) at /Users/johnmyleswhite/.julia/Distributions/src/univariate/binomial.jl:41\n",
        "mean(d::Categorical) at /Users/johnmyleswhite/.julia/Distributions/src/univariate/categorical.jl:53\n",
        "mean(d::Cauchy) at /Users/johnmyleswhite/.julia/Distributions/src/univariate/cauchy.jl:22\n",
        "mean(d::Chi) at /Users/johnmyleswhite/.julia/Distributions/src/univariate/chi.jl:19\n",
        "mean(d::Chisq) at /Users/johnmyleswhite/.julia/Distributions/src/univariate/chisq.jl:21\n",
        "mean(d::Cosine) at /Users/johnmyleswhite/.julia/Distributions/src/univariate/cosine.jl:20\n",
        "mean(d::DiscreteUniform) at /Users/johnmyleswhite/.julia/Distributions/src/univariate/discreteuniform.jl:30\n",
        "mean(d::EmpiricalUnivariateDistribution) at /Users/johnmyleswhite/.julia/Distributions/src/univariate/empirical.jl:41\n",
        "mean(d::Exponential) at /Users/johnmyleswhite/.julia/Distributions/src/univariate/exponential.jl:33\n",
        "mean(d::FDist) at /Users/johnmyleswhite/.julia/Distributions/src/univariate/fdist.jl:16\n",
        "mean(d::Gamma) at /Users/johnmyleswhite/.julia/Distributions/src/univariate/gamma.jl:29\n",
        "mean(d::EdgeworthZ{D<:Distribution{Univariate,S<:ValueSupport}}) at /Users/johnmyleswhite/.julia/Distributions/src/univariate/edgeworth.jl:23\n",
        "mean(d::EdgeworthSum{D<:Distribution{Univariate,S<:ValueSupport}}) at /Users/johnmyleswhite/.julia/Distributions/src/univariate/edgeworth.jl:87\n",
        "mean(d::EdgeworthMean{D<:Distribution{Univariate,S<:ValueSupport}}) at /Users/johnmyleswhite/.julia/Distributions/src/univariate/edgeworth.jl:103\n",
        "mean(d::Erlang) at /Users/johnmyleswhite/.julia/Distributions/src/univariate/erlang.jl:29\n",
        "mean(d::Geometric) at /Users/johnmyleswhite/.julia/Distributions/src/univariate/geometric.jl:28\n",
        "mean(d::Gumbel) at /Users/johnmyleswhite/.julia/Distributions/src/univariate/gumbel.jl:25\n",
        "mean(d::HyperGeometric) at /Users/johnmyleswhite/.julia/Distributions/src/univariate/hypergeometric.jl:20\n",
        "mean(d::InverseGamma) at /Users/johnmyleswhite/.julia/Distributions/src/univariate/inversegamma.jl:20\n",
        "mean(d::InverseGaussian) at /Users/johnmyleswhite/.julia/Distributions/src/univariate/inversegaussian.jl:16\n",
        "mean(d::Kolmogorov) at /Users/johnmyleswhite/.julia/Distributions/src/univariate/kolmogorov.jl:11\n",
        "mean(d::Laplace) at /Users/johnmyleswhite/.julia/Distributions/src/univariate/laplace.jl:27\n",
        "mean(d::Levy) at /Users/johnmyleswhite/.julia/Distributions/src/univariate/levy.jl:22\n",
        "mean(d::Logistic) at /Users/johnmyleswhite/.julia/Distributions/src/univariate/logistic.jl:21\n",
        "mean(d::LogNormal) at /Users/johnmyleswhite/.julia/Distributions/src/univariate/lognormal.jl:25\n",
        "mean(d::NegativeBinomial) at /Users/johnmyleswhite/.julia/Distributions/src/univariate/negativebinomial.jl:36\n",
        "mean(d::NoncentralChisq) at /Users/johnmyleswhite/.julia/Distributions/src/univariate/noncentralchisq.jl:10\n",
        "mean(d::NoncentralF) at /Users/johnmyleswhite/.julia/Distributions/src/univariate/noncentralf.jl:14\n",
        "mean(d::NoncentralT) at /Users/johnmyleswhite/.julia/Distributions/src/univariate/noncentralt.jl:12\n",
        "mean(d::Normal) at /Users/johnmyleswhite/.julia/Distributions/src/univariate/normal.jl:38\n",
        "mean(d::Pareto) at /Users/johnmyleswhite/.julia/Distributions/src/univariate/pareto.jl:15\n",
        "mean(d::Poisson) at /Users/johnmyleswhite/.julia/Distributions/src/univariate/poisson.jl:33\n",
        "mean(d::Rayleigh) at /Users/johnmyleswhite/.julia/Distributions/src/univariate/rayleigh.jl:25\n",
        "mean(d::Skellam) at /Users/johnmyleswhite/.julia/Distributions/src/univariate/skellam.jl:12\n",
        "mean(d::TDist) at /Users/johnmyleswhite/.julia/Distributions/src/univariate/tdist.jl:21\n",
        "mean(d::Triangular) at /Users/johnmyleswhite/.julia/Distributions/src/univariate/triangular.jl:41\n",
        "mean(d::Uniform) at /Users/johnmyleswhite/.julia/Distributions/src/univariate/uniform.jl:23\n",
        "mean(d::Weibull) at /Users/johnmyleswhite/.julia/Distributions/src/univariate/weibull.jl:42\n",
        "mean(d::Dirichlet) at /Users/johnmyleswhite/.julia/Distributions/src/multivariate/dirichlet.jl:31\n",
        "mean(d::Multinomial) at /Users/johnmyleswhite/.julia/Distributions/src/multivariate/multinomial.jl:61\n",
        "mean(d::MultivariateNormal{Cov<:AbstractPDMat}) at /Users/johnmyleswhite/.julia/Distributions/src/multivariate/multivariatenormal.jl:52\n",
        "mean(d::VonMisesFisher) at /Users/johnmyleswhite/.julia/Distributions/src/multivariate/vonmisesfisher.jl:23\n",
        "mean(IW::InverseWishart) at /Users/johnmyleswhite/.julia/Distributions/src/matrix/inversewishart.jl:32\n",
        "mean(w::Wishart) at /Users/johnmyleswhite/.julia/Distributions/src/matrix/wishart.jl:31\n",
        "mean(d::Truncated{Normal,S<:ValueSupport}) at /Users/johnmyleswhite/.julia/Distributions/src/univariate/truncated/normal.jl:17\n",
        "mean(d::MixtureModel) at /Users/johnmyleswhite/.julia/Distributions/src/mixturemodel.jl:23\n",
        "mean(d::UnivariateLocationScaleFamily{T<:Distribution{Univariate,S<:ValueSupport}}) at /Users/johnmyleswhite/.julia/Distributions/src/locationscale.jl:34\n",
        "mean(d::Distribution{F<:VariateForm,S<:ValueSupport}) at /Users/johnmyleswhite/.julia/Distributions/src/fallbacks.jl:14\n",
        "mean(iterable) at statistics.jl:2\n",
        "mean{T<:Real}(x::Union(AbstractUnsafeView{T<:Real,N},Array{T<:Real,N}),dims::Union((Int64,Int64),Int64)) at /Users/johnmyleswhite/.julia/NumericExtensions/src/statistics.jl:23\n",
        "mean(v::AbstractArray{T,N},region) at statistics.jl:16"
       ]
      }
     ],
     "prompt_number": 31
    },
    {
     "cell_type": "heading",
     "level": 1,
     "metadata": {
      "slideshow": {
       "slide_type": "slide"
      }
     },
     "source": [
      "Bayesian Updating with Conjugate Priors"
     ]
    },
    {
     "cell_type": "code",
     "collapsed": false,
     "input": [
      "x = rand(Bernoulli(0.9), 10_000)"
     ],
     "language": "python",
     "metadata": {
      "slideshow": {
       "slide_type": "slide"
      }
     },
     "outputs": [
      {
       "metadata": {},
       "output_type": "pyout",
       "prompt_number": 32,
       "text": [
        "10000-element Array{Int64,1}:\n",
        " 1\n",
        " 1\n",
        " 1\n",
        " 1\n",
        " 1\n",
        " 1\n",
        " 1\n",
        " 1\n",
        " 1\n",
        " 1\n",
        " 1\n",
        " 1\n",
        " 0\n",
        " \u22ee\n",
        " 1\n",
        " 1\n",
        " 1\n",
        " 1\n",
        " 1\n",
        " 1\n",
        " 1\n",
        " 1\n",
        " 0\n",
        " 1\n",
        " 1\n",
        " 1"
       ]
      }
     ],
     "prompt_number": 32
    },
    {
     "cell_type": "code",
     "collapsed": false,
     "input": [
      "posterior(Beta(3, 3), Bernoulli, x)"
     ],
     "language": "python",
     "metadata": {
      "slideshow": {
       "slide_type": "slide"
      }
     },
     "outputs": [
      {
       "metadata": {},
       "output_type": "pyout",
       "prompt_number": 33,
       "text": [
        "Beta( alpha=8986.0 beta=1020.0 )"
       ]
      }
     ],
     "prompt_number": 33
    },
    {
     "cell_type": "heading",
     "level": 1,
     "metadata": {
      "slideshow": {
       "slide_type": "slide"
      }
     },
     "source": [
      "Kernel Density Estimation"
     ]
    },
    {
     "cell_type": "code",
     "collapsed": false,
     "input": [
      "using Gadfly"
     ],
     "language": "python",
     "metadata": {
      "slideshow": {
       "slide_type": "slide"
      }
     },
     "outputs": [
      {
       "html": [
        "<script charset=\"utf-8\">d3=function(){function n(n){return null!=n&&!isNaN(n)}function t(n){return n.length}function e(n){for(var t=1;n*t%1;)t*=10;return t}function r(n,t){try{for(var e in t)Object.defineProperty(n.prototype,e,{value:t[e],enumerable:!1})}catch(r){n.prototype=t}}function u(){}function i(){}function a(n,t,e){return function(){var r=e.apply(t,arguments);return r===t?n:r}}function o(){}function c(n){function t(){for(var t,r=e,u=-1,i=r.length;++u<i;)(t=r[u].on)&&t.apply(this,arguments);return n}var e=[],r=new u;return t.on=function(t,u){var i,a=r.get(t);return arguments.length<2?a&&a.on:(a&&(a.on=null,e=e.slice(0,i=e.indexOf(a)).concat(e.slice(i+1)),r.remove(t)),u&&e.push(r.set(t,{on:u})),n)},t}function l(){oa.event.stopPropagation(),oa.event.preventDefault()}function f(){for(var n,t=oa.event;n=t.sourceEvent;)t=n;return t}function s(n){for(var t=new o,e=0,r=arguments.length;++e<r;)t[arguments[e]]=c(t);return t.of=function(e,r){return function(u){try{var i=u.sourceEvent=oa.event;u.target=n,oa.event=u,t[u.type].apply(e,r)}finally{oa.event=i}}},t}function h(n,t){var e=n.ownerSVGElement||n;if(e.createSVGPoint){var r=e.createSVGPoint();if(0>ma&&(la.scrollX||la.scrollY)){e=oa.select(ca.body).append(\"svg\").style(\"position\",\"absolute\").style(\"top\",0).style(\"left\",0);var u=e[0][0].getScreenCTM();ma=!(u.f||u.e),e.remove()}return ma?(r.x=t.pageX,r.y=t.pageY):(r.x=t.clientX,r.y=t.clientY),r=r.matrixTransform(n.getScreenCTM().inverse()),[r.x,r.y]}var i=n.getBoundingClientRect();return[t.clientX-i.left-n.clientLeft,t.clientY-i.top-n.clientTop]}function g(n){for(var t=-1,e=n.length,r=[];++t<e;)r.push(n[t]);return r}function p(n){return Array.prototype.slice.call(n)}function d(n){return Ma(n,Ea),n}function m(n){return function(){return xa(n,this)}}function v(n){return function(){return ba(n,this)}}function y(n,t){function e(){this.removeAttribute(n)}function r(){this.removeAttributeNS(n.space,n.local)}function u(){this.setAttribute(n,t)}function i(){this.setAttributeNS(n.space,n.local,t)}function a(){var e=t.apply(this,arguments);null==e?this.removeAttribute(n):this.setAttribute(n,e)}function o(){var e=t.apply(this,arguments);null==e?this.removeAttributeNS(n.space,n.local):this.setAttributeNS(n.space,n.local,e)}return n=oa.ns.qualify(n),null==t?n.local?r:e:\"function\"==typeof t?n.local?o:a:n.local?i:u}function M(n){return n.trim().replace(/\\s+/g,\" \")}function x(n){return RegExp(\"(?:^|\\\\s+)\"+oa.requote(n)+\"(?:\\\\s+|$)\",\"g\")}function _(n,t){function e(){for(var e=-1;++e<u;)n[e](this,t)}function r(){for(var e=-1,r=t.apply(this,arguments);++e<u;)n[e](this,r)}n=n.trim().split(/\\s+/).map(w);var u=n.length;return\"function\"==typeof t?r:e}function w(n){var t=x(n);return function(e,r){if(u=e.classList)return r?u.add(n):u.remove(n);var u=e.getAttribute(\"class\")||\"\";r?(t.lastIndex=0,t.test(u)||e.setAttribute(\"class\",M(u+\" \"+n))):e.setAttribute(\"class\",M(u.replace(t,\" \")))}}function S(n,t,e){function r(){this.style.removeProperty(n)}function u(){this.style.setProperty(n,t,e)}function i(){var r=t.apply(this,arguments);null==r?this.style.removeProperty(n):this.style.setProperty(n,r,e)}return null==t?r:\"function\"==typeof t?i:u}function E(n,t){function e(){delete this[n]}function r(){this[n]=t}function u(){var e=t.apply(this,arguments);null==e?delete this[n]:this[n]=e}return null==t?e:\"function\"==typeof t?u:r}function k(n){return{__data__:n}}function A(n){return function(){return Sa(this,n)}}function q(n){return arguments.length||(n=oa.ascending),function(t,e){return!t-!e||n(t.__data__,e.__data__)}}function N(){}function T(n,t,e){function r(){var t=this[a];t&&(this.removeEventListener(n,t,t.$),delete this[a])}function u(){var u=c(t,va(arguments));r.call(this),this.addEventListener(n,this[a]=u,u.$=e),u._=t}function i(){var t,e=RegExp(\"^__on([^.]+)\"+oa.requote(n)+\"$\");for(var r in this)if(t=r.match(e)){var u=this[r];this.removeEventListener(t[1],u,u.$),delete this[r]}}var a=\"__on\"+n,o=n.indexOf(\".\"),c=C;o>0&&(n=n.substring(0,o));var l=qa.get(n);return l&&(n=l,c=z),o?t?u:r:t?N:i}function C(n,t){return function(e){var r=oa.event;oa.event=e,t[0]=this.__data__;try{n.apply(this,t)}finally{oa.event=r}}}function z(n,t){var e=C(n,t);return function(n){var t=this,r=n.relatedTarget;r&&(r===t||r.compareDocumentPosition(t)&8)||e.call(t,n)}}function D(n,t){for(var e=0,r=n.length;r>e;e++)for(var u,i=n[e],a=0,o=i.length;o>a;a++)(u=i[a])&&t(u,a,e);return n}function j(n){return Ma(n,Na),n}function L(){}function F(n,t,e){return new H(n,t,e)}function H(n,t,e){this.h=n,this.s=t,this.l=e}function P(n,t,e){function r(n){return n>360?n-=360:0>n&&(n+=360),60>n?i+(a-i)*n/60:180>n?a:240>n?i+(a-i)*(240-n)/60:i}function u(n){return Math.round(r(n)*255)}var i,a;return n%=360,0>n&&(n+=360),t=0>t?0:t>1?1:t,e=0>e?0:e>1?1:e,a=.5>=e?e*(1+t):e+t-e*t,i=2*e-a,tt(u(n+120),u(n),u(n-120))}function R(n){return n>0?1:0>n?-1:0}function O(n){return Math.acos(Math.max(-1,Math.min(1,n)))}function Y(n){return n>1?La/2:-1>n?-La/2:Math.asin(n)}function U(n){return(Math.exp(n)-Math.exp(-n))/2}function I(n){return(Math.exp(n)+Math.exp(-n))/2}function V(n){return(n=Math.sin(n/2))*n}function X(n,t,e){return new Z(n,t,e)}function Z(n,t,e){this.h=n,this.c=t,this.l=e}function B(n,t,e){return $(e,Math.cos(n*=Ha)*t,Math.sin(n)*t)}function $(n,t,e){return new J(n,t,e)}function J(n,t,e){this.l=n,this.a=t,this.b=e}function G(n,t,e){var r=(n+16)/116,u=r+t/500,i=r-e/200;return u=W(u)*Ya,r=W(r)*Ua,i=W(i)*Ia,tt(nt(3.2404542*u-1.5371385*r-.4985314*i),nt(-.969266*u+1.8760108*r+.041556*i),nt(.0556434*u-.2040259*r+1.0572252*i))}function K(n,t,e){return X(Math.atan2(e,t)*Pa,Math.sqrt(t*t+e*e),n)}function W(n){return n>.206893034?n*n*n:(n-4/29)/7.787037}function Q(n){return n>.008856?Math.pow(n,1/3):7.787037*n+4/29}function nt(n){return Math.round(255*(.00304>=n?12.92*n:1.055*Math.pow(n,1/2.4)-.055))}function tt(n,t,e){return new et(n,t,e)}function et(n,t,e){this.r=n,this.g=t,this.b=e}function rt(n){return 16>n?\"0\"+Math.max(0,n).toString(16):Math.min(255,n).toString(16)}function ut(n,t,e){var r,u,i,a=0,o=0,c=0;if(r=/([a-z]+)\\((.*)\\)/i.exec(n))switch(u=r[2].split(\",\"),r[1]){case\"hsl\":return e(parseFloat(u[0]),parseFloat(u[1])/100,parseFloat(u[2])/100);case\"rgb\":return t(ct(u[0]),ct(u[1]),ct(u[2]))}return(i=Za.get(n))?t(i.r,i.g,i.b):(null!=n&&n.charAt(0)===\"#\"&&(n.length===4?(a=n.charAt(1),a+=a,o=n.charAt(2),o+=o,c=n.charAt(3),c+=c):n.length===7&&(a=n.substring(1,3),o=n.substring(3,5),c=n.substring(5,7)),a=parseInt(a,16),o=parseInt(o,16),c=parseInt(c,16)),t(a,o,c))}function it(n,t,e){var r,u,i=Math.min(n/=255,t/=255,e/=255),a=Math.max(n,t,e),o=a-i,c=(a+i)/2;return o?(u=.5>c?o/(a+i):o/(2-a-i),r=n==a?(t-e)/o+(e>t?6:0):t==a?(e-n)/o+2:(n-t)/o+4,r*=60):u=r=0,F(r,u,c)}function at(n,t,e){n=ot(n),t=ot(t),e=ot(e);var r=Q((.4124564*n+.3575761*t+.1804375*e)/Ya),u=Q((.2126729*n+.7151522*t+.072175*e)/Ua),i=Q((.0193339*n+.119192*t+.9503041*e)/Ia);return $(116*u-16,500*(r-u),200*(u-i))}function ot(n){return(n/=255)<=.04045?n/12.92:Math.pow((n+.055)/1.055,2.4)}function ct(n){var t=parseFloat(n);return n.charAt(n.length-1)===\"%\"?Math.round(2.55*t):t}function lt(n){return\"function\"==typeof n?n:function(){return n}}function ft(n){return n}function st(n){return n.length===1?function(t,e){n(null==t?e:null)}:n}function ht(n,t){function e(n,e,i){arguments.length<3&&(i=e,e=null);var a=oa.xhr(n,t,i);return a.row=function(n){return arguments.length?a.response((e=n)==null?r:u(n)):e},a.row(e)}function r(n){return e.parse(n.responseText)}function u(n){return function(t){return e.parse(t.responseText,n)}}function a(t){return t.map(o).join(n)}function o(n){return c.test(n)?'\"'+n.replace(/\\\"/g,'\"\"')+'\"':n}var c=RegExp('[\"'+n+\"\\n]\"),l=n.charCodeAt(0);return e.parse=function(n,t){var r;return e.parseRows(n,function(n,e){if(r)return r(n,e-1);var u=Function(\"d\",\"return {\"+n.map(function(n,t){return JSON.stringify(n)+\": d[\"+t+\"]\"}).join(\",\")+\"}\");r=t?function(n,e){return t(u(n),e)}:u})},e.parseRows=function(n,t){function e(){if(f>=c)return a;if(u)return u=!1,i;var t=f;if(n.charCodeAt(t)===34){for(var e=t;e++<c;)if(n.charCodeAt(e)===34){if(n.charCodeAt(e+1)!==34)break;++e}f=e+2;var r=n.charCodeAt(e+1);return 13===r?(u=!0,n.charCodeAt(e+2)===10&&++f):10===r&&(u=!0),n.substring(t+1,e).replace(/\"\"/g,'\"')}for(;c>f;){var r=n.charCodeAt(f++),o=1;if(10===r)u=!0;else if(13===r)u=!0,n.charCodeAt(f)===10&&(++f,++o);else if(r!==l)continue;return n.substring(t,f-o)}return n.substring(t)}for(var r,u,i={},a={},o=[],c=n.length,f=0,s=0;(r=e())!==a;){for(var h=[];r!==i&&r!==a;)h.push(r),r=e();(!t||(h=t(h,s++)))&&o.push(h)}return o},e.format=function(t){if(Array.isArray(t[0]))return e.formatRows(t);var r=new i,u=[];return t.forEach(function(n){for(var t in n)r.has(t)||u.push(r.add(t))}),[u.map(o).join(n)].concat(t.map(function(t){return u.map(function(n){return o(t[n])}).join(n)})).join(\"\\n\")},e.formatRows=function(n){return n.map(a).join(\"\\n\")},e}function gt(){for(var n,t=Date.now(),e=Ka;e;)n=t-e.then,n>=e.delay&&(e.flush=e.callback(n)),e=e.next;var r=pt()-t;r>24?(isFinite(r)&&(clearTimeout($a),$a=setTimeout(gt,r)),Ba=0):(Ba=1,Wa(gt))}function pt(){for(var n=null,t=Ka,e=1/0;t;)t.flush?(delete Ga[t.callback.id],t=n?n.next=t.next:Ka=t.next):(e=Math.min(e,t.then+t.delay),t=(n=t).next);return e}function dt(n,t){var e=Math.pow(10,Math.abs(8-t)*3);return{scale:t>8?function(n){return n/e}:function(n){return n*e},symbol:n}}function mt(n,t){return t-(n?Math.ceil(Math.log(n)/Math.LN10):1)}function vt(n){return n+\"\"}function yt(n,t){co.hasOwnProperty(n.type)&&co[n.type](n,t)}function Mt(n,t,e){var r,u=-1,i=n.length-e;for(t.lineStart();++u<i;)r=n[u],t.point(r[0],r[1]);t.lineEnd()}function xt(n,t){var e=-1,r=n.length;for(t.polygonStart();++e<r;)Mt(n[e],t,1);t.polygonEnd()}function bt(){function n(n,t){n*=Ha,t=t*Ha/2+La/4;var e=n-r,a=Math.cos(t),o=Math.sin(t),c=i*o,l=fo,f=so,s=u*a+c*Math.cos(e),h=c*Math.sin(e);fo=l*s-f*h,so=f*s+l*h,r=n,u=a,i=o}var t,e,r,u,i;ho.point=function(a,o){ho.point=n,r=(t=a)*Ha,u=Math.cos(o=(e=o)*Ha/2+La/4),i=Math.sin(o)},ho.lineEnd=function(){n(t,e)}}function _t(n){function t(n,t){r>n&&(r=n),n>i&&(i=n),u>t&&(u=t),t>a&&(a=t)}function e(){o.point=o.lineEnd=N}var r,u,i,a,o={point:t,lineStart:N,lineEnd:N,polygonStart:function(){o.lineEnd=e},polygonEnd:function(){o.point=t}};return function(t){return a=i=-(r=u=1/0),oa.geo.stream(t,n(o)),[[r,u],[i,a]]}}function wt(n,t){if(!go){++po,n*=Ha;var e=Math.cos(t*=Ha);mo+=(e*Math.cos(n)-mo)/po,vo+=(e*Math.sin(n)-vo)/po,yo+=(Math.sin(t)-yo)/po}}function St(){var n,t;go=1,Et(),go=2;var e=Mo.point;Mo.point=function(r,u){e(n=r,t=u)},Mo.lineEnd=function(){Mo.point(n,t),kt(),Mo.lineEnd=kt}}function Et(){function n(n,u){n*=Ha;var i=Math.cos(u*=Ha),a=i*Math.cos(n),o=i*Math.sin(n),c=Math.sin(u),l=Math.atan2(Math.sqrt((l=e*c-r*o)*l+(l=r*a-t*c)*l+(l=t*o-e*a)*l),t*a+e*o+r*c);po+=l,mo+=l*(t+(t=a)),vo+=l*(e+(e=o)),yo+=l*(r+(r=c))}var t,e,r;go>1||(1>go&&(go=1,po=mo=vo=yo=0),Mo.point=function(u,i){u*=Ha;var a=Math.cos(i*=Ha);t=a*Math.cos(u),e=a*Math.sin(u),r=Math.sin(i),Mo.point=n})}function kt(){Mo.point=wt}function At(n){var t=n[0],e=n[1],r=Math.cos(e);return[r*Math.cos(t),r*Math.sin(t),Math.sin(e)]}function qt(n,t){return n[0]*t[0]+n[1]*t[1]+n[2]*t[2]}function Nt(n,t){return[n[1]*t[2]-n[2]*t[1],n[2]*t[0]-n[0]*t[2],n[0]*t[1]-n[1]*t[0]]}function Tt(n,t){n[0]+=t[0],n[1]+=t[1],n[2]+=t[2]}function Ct(n,t){return[n[0]*t,n[1]*t,n[2]*t]}function zt(n){var t=Math.sqrt(n[0]*n[0]+n[1]*n[1]+n[2]*n[2]);n[0]/=t,n[1]/=t,n[2]/=t}function Dt(){return!0}function jt(n){return[Math.atan2(n[1],n[0]),Math.asin(Math.max(-1,Math.min(1,n[2])))]}function Lt(n,t){return Math.abs(n[0]-t[0])<Fa&&Math.abs(n[1]-t[1])<Fa}function Ft(n,t,e,r,u){var i=[],a=[];if(n.forEach(function(n){if(!((t=n.length)<=1)){var t,e=n[0],r=n[t-1];if(Lt(e,r)){u.lineStart();for(var o=0;t>o;++o)u.point((e=n[o])[0],e[1]);return u.lineEnd(),void 0}var c={point:e,points:n,other:null,visited:!1,entry:!0,subject:!0},l={point:e,points:[e],other:c,visited:!1,entry:!1,subject:!1};c.other=l,i.push(c),a.push(l),c={point:r,points:[r],other:null,visited:!1,entry:!1,subject:!0},l={point:r,points:[r],other:c,visited:!1,entry:!0,subject:!1},c.other=l,i.push(c),a.push(l)}}),a.sort(t),Ht(i),Ht(a),i.length){if(e)for(var o=1,c=!e(a[0].point),l=a.length;l>o;++o)a[o].entry=c=!c;for(var f,s,h,g=i[0];;){for(f=g;f.visited;)if((f=f.next)===g)return;s=f.points,u.lineStart();do{if(f.visited=f.other.visited=!0,f.entry){if(f.subject)for(var o=0;o<s.length;o++)u.point((h=s[o])[0],h[1]);else r(f.point,f.next.point,1,u);f=f.next}else{if(f.subject){s=f.prev.points;for(var o=s.length;--o>=0;)u.point((h=s[o])[0],h[1])}else r(f.point,f.prev.point,-1,u);f=f.prev}f=f.other,s=f.points}while(!f.visited);u.lineEnd()}}}function Ht(n){if(t=n.length){for(var t,e,r=0,u=n[0];++r<t;)u.next=e=n[r],e.prev=u,u=e;u.next=e=n[0],e.prev=u}}function Pt(n,t,e){return function(r){function u(t,e){n(t,e)&&r.point(t,e)}function i(n,t){m.point(n,t)}function a(){v.point=i,m.lineStart()}function o(){v.point=u,m.lineEnd()}function c(n,t){M.point(n,t),d.push([n,t])}function l(){M.lineStart(),d=[]}function f(){c(d[0][0],d[0][1]),M.lineEnd();var n,t=M.clean(),e=y.buffer(),u=e.length;if(!u)return p=!0,g+=Yt(d,-1),d=null,void 0;if(d=null,1&t){n=e[0],h+=Yt(n,1);var i,u=n.length-1,a=-1;for(r.lineStart();++a<u;)r.point((i=n[a])[0],i[1]);return r.lineEnd(),void 0}u>1&&2&t&&e.push(e.pop().concat(e.shift())),s.push(e.filter(Rt))}var s,h,g,p,d,m=t(r),v={point:u,lineStart:a,lineEnd:o,polygonStart:function(){v.point=c,v.lineStart=l,v.lineEnd=f,p=!1,g=h=0,s=[],r.polygonStart()},polygonEnd:function(){v.point=u,v.lineStart=a,v.lineEnd=o,s=oa.merge(s),s.length?Ft(s,Ut,null,e,r):(-Fa>h||p&&-Fa>g)&&(r.lineStart(),e(null,null,1,r),r.lineEnd()),r.polygonEnd(),s=null},sphere:function(){r.polygonStart(),r.lineStart(),e(null,null,1,r),r.lineEnd(),r.polygonEnd()}},y=Ot(),M=t(y);return v}}function Rt(n){return n.length>1}function Ot(){var n,t=[];return{lineStart:function(){t.push(n=[])},point:function(t,e){n.push([t,e])},lineEnd:N,buffer:function(){var e=t;return t=[],n=null,e},rejoin:function(){t.length>1&&t.push(t.pop().concat(t.shift()))}}}function Yt(n,t){if(!(e=n.length))return 0;for(var e,r,u,i=0,a=0,o=n[0],c=o[0],l=o[1],f=Math.cos(l),s=Math.atan2(t*Math.sin(c)*f,Math.sin(l)),h=1-t*Math.cos(c)*f,g=s;++i<e;)o=n[i],f=Math.cos(l=o[1]),r=Math.atan2(t*Math.sin(c=o[0])*f,Math.sin(l)),u=1-t*Math.cos(c)*f,Math.abs(h-2)<Fa&&Math.abs(u-2)<Fa||(Math.abs(u)<Fa||Math.abs(h)<Fa||(Math.abs(Math.abs(r-s)-La)<Fa?u+h>2&&(a+=4*(r-s)):a+=Math.abs(h-2)<Fa?4*(r-g):((3*La+r-s)%(2*La)-La)*(h+u)),g=s,s=r,h=u);return a}function Ut(n,t){return((n=n.point)[0]<0?n[1]-La/2-Fa:La/2-n[1])-((t=t.point)[0]<0?t[1]-La/2-Fa:La/2-t[1])}function It(n){var t,e=0/0,r=0/0,u=0/0;return{lineStart:function(){n.lineStart(),t=1},point:function(i,a){var o=i>0?La:-La,c=Math.abs(i-e);Math.abs(c-La)<Fa?(n.point(e,r=(r+a)/2>0?La/2:-La/2),n.point(u,r),n.lineEnd(),n.lineStart(),n.point(o,r),n.point(i,r),t=0):u!==o&&c>=La&&(Math.abs(e-u)<Fa&&(e-=u*Fa),Math.abs(i-o)<Fa&&(i-=o*Fa),r=Vt(e,r,i,a),n.point(u,r),n.lineEnd(),n.lineStart(),n.point(o,r),t=0),n.point(e=i,r=a),u=o},lineEnd:function(){n.lineEnd(),e=r=0/0},clean:function(){return 2-t}}}function Vt(n,t,e,r){var u,i,a=Math.sin(n-e);return Math.abs(a)>Fa?Math.atan((Math.sin(t)*(i=Math.cos(r))*Math.sin(e)-Math.sin(r)*(u=Math.cos(t))*Math.sin(n))/(u*i*a)):(t+r)/2}function Xt(n,t,e,r){var u;if(null==n)u=e*La/2,r.point(-La,u),r.point(0,u),r.point(La,u),r.point(La,0),r.point(La,-u),r.point(0,-u),r.point(-La,-u),r.point(-La,0),r.point(-La,u);else if(Math.abs(n[0]-t[0])>Fa){var i=(n[0]<t[0]?1:-1)*La;u=e*i/2,r.point(-i,u),r.point(0,u),r.point(i,u)}else r.point(t[0],t[1])}function Zt(n){function t(n,t){return Math.cos(n)*Math.cos(t)>i}function e(n){var e,i,c,l,f;return{lineStart:function(){l=c=!1,f=1},point:function(s,h){var g,p=[s,h],d=t(s,h),m=a?d?0:u(s,h):d?u(s+(0>s?La:-La),h):0;if(!e&&(l=c=d)&&n.lineStart(),d!==c&&(g=r(e,p),(Lt(e,g)||Lt(p,g))&&(p[0]+=Fa,p[1]+=Fa,d=t(p[0],p[1]))),d!==c)f=0,d?(n.lineStart(),g=r(p,e),n.point(g[0],g[1])):(g=r(e,p),n.point(g[0],g[1]),n.lineEnd()),e=g;else if(o&&e&&a^d){var v;m&i||!(v=r(p,e,!0))||(f=0,a?(n.lineStart(),n.point(v[0][0],v[0][1]),n.point(v[1][0],v[1][1]),n.lineEnd()):(n.point(v[1][0],v[1][1]),n.lineEnd(),n.lineStart(),n.point(v[0][0],v[0][1])))}!d||e&&Lt(e,p)||n.point(p[0],p[1]),e=p,c=d,i=m},lineEnd:function(){c&&n.lineEnd(),e=null},clean:function(){return f|(l&&c)<<1}}}function r(n,t,e){var r=At(n),u=At(t),a=[1,0,0],o=Nt(r,u),c=qt(o,o),l=o[0],f=c-l*l;if(!f)return!e&&n;var s=i*c/f,h=-i*l/f,g=Nt(a,o),p=Ct(a,s),d=Ct(o,h);Tt(p,d);var m=g,v=qt(p,m),y=qt(m,m),M=v*v-y*(qt(p,p)-1);if(!(0>M)){var x=Math.sqrt(M),b=Ct(m,(-v-x)/y);if(Tt(b,p),b=jt(b),!e)return b;var _,w=n[0],S=t[0],E=n[1],k=t[1];w>S&&(_=w,w=S,S=_);var A=S-w,q=Math.abs(A-La)<Fa,N=q||Fa>A;if(!q&&E>k&&(_=E,E=k,k=_),N?q?E+k>0^b[1]<(Math.abs(b[0]-w)<Fa?E:k):E<=b[1]&&b[1]<=k:A>La^(w<=b[0]&&b[0]<=S)){var T=Ct(m,(-v+x)/y);return Tt(T,p),[b,jt(T)]}}}function u(t,e){var r=a?n:La-n,u=0;return-r>t?u|=1:t>r&&(u|=2),-r>e?u|=4:e>r&&(u|=8),u}var i=Math.cos(n),a=i>0,o=Math.abs(i)>Fa,c=ie(n,6*Ha);return Pt(t,e,c)}function Bt(n,t,e,r){function u(r,u){return Math.abs(r[0]-n)<Fa?u>0?0:3:Math.abs(r[0]-e)<Fa?u>0?2:1:Math.abs(r[1]-t)<Fa?u>0?1:0:u>0?3:2}function i(n,t){return a(n.point,t.point)}function a(n,t){var e=u(n,1),r=u(t,1);return e!==r?e-r:0===e?t[1]-n[1]:1===e?n[0]-t[0]:2===e?n[1]-t[1]:t[0]-n[0]}function o(u,i){var a=i[0]-u[0],o=i[1]-u[1],c=[0,1];return Math.abs(a)<Fa&&Math.abs(o)<Fa?n<=u[0]&&u[0]<=e&&t<=u[1]&&u[1]<=r:$t(n-u[0],a,c)&&$t(u[0]-e,-a,c)&&$t(t-u[1],o,c)&&$t(u[1]-r,-o,c)?(c[1]<1&&(i[0]=u[0]+c[1]*a,i[1]=u[1]+c[1]*o),c[0]>0&&(u[0]+=c[0]*a,u[1]+=c[0]*o),!0):!1}return function(c){function l(i){var a=u(i,-1),o=f([0===a||3===a?n:e,a>1?r:t]);return o}function f(n){for(var t=0,e=M.length,r=n[1],u=0;e>u;++u)for(var i=1,a=M[u],o=a.length,c=a[0];o>i;++i)b=a[i],c[1]<=r?b[1]>r&&s(c,b,n)>0&&++t:b[1]<=r&&s(c,b,n)<0&&--t,c=b;return 0!==t}function s(n,t,e){return(t[0]-n[0])*(e[1]-n[1])-(e[0]-n[0])*(t[1]-n[1])}function h(i,o,c,l){var f=0,s=0;if(null==i||(f=u(i,c))!==(s=u(o,c))||a(i,o)<0^c>0){do l.point(0===f||3===f?n:e,f>1?r:t);while((f=(f+c+4)%4)!==s)}else l.point(o[0],o[1])}function g(u,i){return u>=n&&e>=u&&i>=t&&r>=i}function p(n,t){g(n,t)&&c.point(n,t)}function d(){C.point=v,M&&M.push(x=[]),q=!0,A=!1,E=k=0/0}function m(){y&&(v(_,w),S&&A&&T.rejoin(),y.push(T.buffer())),C.point=p,A&&c.lineEnd()}function v(n,t){n=Math.max(-bo,Math.min(bo,n)),t=Math.max(-bo,Math.min(bo,t));var e=g(n,t);if(M&&x.push([n,t]),q)_=n,w=t,S=e,q=!1,e&&(c.lineStart(),c.point(n,t));else if(e&&A)c.point(n,t);else{var r=[E,k],u=[n,t];o(r,u)?(A||(c.lineStart(),c.point(r[0],r[1])),c.point(u[0],u[1]),e||c.lineEnd()):(c.lineStart(),c.point(n,t))}E=n,k=t,A=e}var y,M,x,_,w,S,E,k,A,q,N=c,T=Ot(),C={point:p,lineStart:d,lineEnd:m,polygonStart:function(){c=T,y=[],M=[]},polygonEnd:function(){c=N,(y=oa.merge(y)).length?(c.polygonStart(),Ft(y,i,l,h,c),c.polygonEnd()):f([n,t])&&(c.polygonStart(),c.lineStart(),h(null,null,1,c),c.lineEnd(),c.polygonEnd()),y=M=x=null}};return C}}function $t(n,t,e){if(Math.abs(t)<Fa)return 0>=n;var r=n/t;if(t>0){if(r>e[1])return!1;r>e[0]&&(e[0]=r)}else{if(r<e[0])return!1;r<e[1]&&(e[1]=r)}return!0}function Jt(n,t){function e(e,r){return e=n(e,r),t(e[0],e[1])}return n.invert&&t.invert&&(e.invert=function(e,r){return e=t.invert(e,r),e&&n.invert(e[0],e[1])}),e}function Gt(n){function t(t){function r(e,r){e=n(e,r),t.point(e[0],e[1])}function i(){f=0/0,d.point=a,t.lineStart()}function a(r,i){var a=At([r,i]),o=n(r,i);e(f,s,l,h,g,p,f=o[0],s=o[1],l=r,h=a[0],g=a[1],p=a[2],u,t),t.point(f,s)}function o(){d.point=r,t.lineEnd()}function c(){var n,r,c,m,v,y,M;i(),d.point=function(t,e){a(n=t,r=e),c=f,m=s,v=h,y=g,M=p,d.point=a},d.lineEnd=function(){e(f,s,l,h,g,p,c,m,n,v,y,M,u,t),d.lineEnd=o,o()}}var l,f,s,h,g,p,d={point:r,lineStart:i,lineEnd:o,polygonStart:function(){t.polygonStart(),d.lineStart=c},polygonEnd:function(){t.polygonEnd(),d.lineStart=i}};return d}function e(t,u,i,a,o,c,l,f,s,h,g,p,d,m){var v=l-t,y=f-u,M=v*v+y*y;if(M>4*r&&d--){var x=a+h,b=o+g,_=c+p,w=Math.sqrt(x*x+b*b+_*_),S=Math.asin(_/=w),E=Math.abs(Math.abs(_)-1)<Fa?(i+s)/2:Math.atan2(b,x),k=n(E,S),A=k[0],q=k[1],N=A-t,T=q-u,C=y*N-v*T;(C*C/M>r||Math.abs((v*N+y*T)/M-.5)>.3)&&(e(t,u,i,a,o,c,A,q,E,x/=w,b/=w,_,d,m),m.point(A,q),e(A,q,E,x,b,_,l,f,s,h,g,p,d,m))}}var r=.5,u=16;return t.precision=function(n){return arguments.length?(u=(r=n*n)>0&&16,t):Math.sqrt(r)},t}function Kt(n){return Wt(function(){return n})()}function Wt(n){function t(n){return n=a(n[0]*Ha,n[1]*Ha),[n[0]*f+o,c-n[1]*f]}function e(n){return n=a.invert((n[0]-o)/f,(c-n[1])/f),n&&[n[0]*Pa,n[1]*Pa]}function r(){a=Jt(i=te(d,m,v),u);var n=u(g,p);return o=s-n[0]*f,c=h+n[1]*f,t}var u,i,a,o,c,l=Gt(function(n,t){return n=u(n,t),[n[0]*f+o,c-n[1]*f]}),f=150,s=480,h=250,g=0,p=0,d=0,m=0,v=0,y=xo,M=ft,x=null,b=null;return t.stream=function(n){return Qt(i,y(l(M(n))))},t.clipAngle=function(n){return arguments.length?(y=null==n?(x=n,xo):Zt((x=+n)*Ha),t):x},t.clipExtent=function(n){return arguments.length?(b=n,M=null==n?ft:Bt(n[0][0],n[0][1],n[1][0],n[1][1]),t):b},t.scale=function(n){return arguments.length?(f=+n,r()):f},t.translate=function(n){return arguments.length?(s=+n[0],h=+n[1],r()):[s,h]},t.center=function(n){return arguments.length?(g=n[0]%360*Ha,p=n[1]%360*Ha,r()):[g*Pa,p*Pa]},t.rotate=function(n){return arguments.length?(d=n[0]%360*Ha,m=n[1]%360*Ha,v=n.length>2?n[2]%360*Ha:0,r()):[d*Pa,m*Pa,v*Pa]},oa.rebind(t,l,\"precision\"),function(){return u=n.apply(this,arguments),t.invert=u.invert&&e,r()}}function Qt(n,t){return{point:function(e,r){r=n(e*Ha,r*Ha),e=r[0],t.point(e>La?e-2*La:-La>e?e+2*La:e,r[1])},sphere:function(){t.sphere()},lineStart:function(){t.lineStart()},lineEnd:function(){t.lineEnd()},polygonStart:function(){t.polygonStart()},polygonEnd:function(){t.polygonEnd()}}}function ne(n,t){return[n,t]}function te(n,t,e){return n?t||e?Jt(re(n),ue(t,e)):re(n):t||e?ue(t,e):ne}function ee(n){return function(t,e){return t+=n,[t>La?t-2*La:-La>t?t+2*La:t,e]}}function re(n){var t=ee(n);return t.invert=ee(-n),t}function ue(n,t){function e(n,t){var e=Math.cos(t),o=Math.cos(n)*e,c=Math.sin(n)*e,l=Math.sin(t),f=l*r+o*u;return[Math.atan2(c*i-f*a,o*r-l*u),Math.asin(Math.max(-1,Math.min(1,f*i+c*a)))]}var r=Math.cos(n),u=Math.sin(n),i=Math.cos(t),a=Math.sin(t);return e.invert=function(n,t){var e=Math.cos(t),o=Math.cos(n)*e,c=Math.sin(n)*e,l=Math.sin(t),f=l*i-c*a;return[Math.atan2(c*i+l*a,o*r+f*u),Math.asin(Math.max(-1,Math.min(1,f*r-o*u)))]},e}function ie(n,t){var e=Math.cos(n),r=Math.sin(n);return function(u,i,a,o){null!=u?(u=ae(e,u),i=ae(e,i),(a>0?i>u:u>i)&&(u+=2*a*La)):(u=n+2*a*La,i=n);for(var c,l=a*t,f=u;a>0?f>i:i>f;f-=l)o.point((c=jt([e,-r*Math.cos(f),-r*Math.sin(f)]))[0],c[1])}}function ae(n,t){var e=At(t);e[0]-=n,zt(e);var r=O(-e[1]);return((-e[2]<0?-r:r)+2*Math.PI-Fa)%(2*Math.PI)}function oe(n,t,e){var r=oa.range(n,t-Fa,e).concat(t);return function(n){return r.map(function(t){return[n,t]})}}function ce(n,t,e){var r=oa.range(n,t-Fa,e).concat(t);return function(n){return r.map(function(t){return[t,n]})}}function le(n){return n.source}function fe(n){return n.target}function se(n,t,e,r){var u=Math.cos(t),i=Math.sin(t),a=Math.cos(r),o=Math.sin(r),c=u*Math.cos(n),l=u*Math.sin(n),f=a*Math.cos(e),s=a*Math.sin(e),h=2*Math.asin(Math.sqrt(V(r-t)+u*a*V(e-n))),g=1/Math.sin(h),p=h?function(n){var t=Math.sin(n*=h)*g,e=Math.sin(h-n)*g,r=e*c+t*f,u=e*l+t*s,a=e*i+t*o;return[Math.atan2(u,r)*Pa,Math.atan2(a,Math.sqrt(r*r+u*u))*Pa]}:function(){return[n*Pa,t*Pa]};return p.distance=h,p}function he(){function n(n,u){var i=Math.sin(u*=Ha),a=Math.cos(u),o=Math.abs((n*=Ha)-t),c=Math.cos(o);_o+=Math.atan2(Math.sqrt((o=a*Math.sin(o))*o+(o=r*i-e*a*c)*o),e*i+r*a*c),t=n,e=i,r=a}var t,e,r;wo.point=function(u,i){t=u*Ha,e=Math.sin(i*=Ha),r=Math.cos(i),wo.point=n},wo.lineEnd=function(){wo.point=wo.lineEnd=N}}function ge(n){var t=0,e=La/3,r=Wt(n),u=r(t,e);return u.parallels=function(n){return arguments.length?r(t=n[0]*La/180,e=n[1]*La/180):[180*(t/La),180*(e/La)]},u}function pe(n,t){function e(n,t){var e=Math.sqrt(i-2*u*Math.sin(t))/u;return[e*Math.sin(n*=u),a-e*Math.cos(n)]}var r=Math.sin(n),u=(r+Math.sin(t))/2,i=1+r*(2*u-r),a=Math.sqrt(i)/u;return e.invert=function(n,t){var e=a-t;return[Math.atan2(n,e)/u,Math.asin((i-(n*n+e*e)*u*u)/(2*u))]},e}function de(n,t){var e=n(t[0]),r=n([.5*(t[0][0]+t[1][0]),t[0][1]]),u=n([t[1][0],t[0][1]]),i=n(t[1]),a=r[1]-e[1],o=r[0]-e[0],c=u[1]-r[1],l=u[0]-r[0],f=a/o,s=c/l,h=.5*(f*s*(e[1]-u[1])+s*(e[0]+r[0])-f*(r[0]+u[0]))/(s-f),g=(.5*(e[0]+r[0])-h)/f+.5*(e[1]+r[1]),p=i[0]-h,d=i[1]-g,m=e[0]-h,v=e[1]-g,y=p*p+d*d,M=m*m+v*v,x=Math.atan2(d,p),b=Math.atan2(v,m);return function(t){var e=t[0]-h,r=t[1]-g,u=e*e+r*r,i=Math.atan2(r,e);return u>y&&M>u&&i>x&&b>i?n.invert(t):void 0}}function me(){function n(n,t){Eo+=u*n-r*t,r=n,u=t}var t,e,r,u;ko.point=function(i,a){ko.point=n,t=r=i,e=u=a},ko.lineEnd=function(){n(t,e)}}function ve(){function n(n,t){a.push(\"M\",n,\",\",t,i)}function t(n,t){a.push(\"M\",n,\",\",t),o.point=e}function e(n,t){a.push(\"L\",n,\",\",t)}function r(){o.point=n}function u(){a.push(\"Z\")}var i=we(4.5),a=[],o={point:n,lineStart:function(){o.point=t},lineEnd:r,polygonStart:function(){o.lineEnd=u},polygonEnd:function(){o.lineEnd=r,o.point=n},pointRadius:function(n){return i=we(n),o},result:function(){if(a.length){var n=a.join(\"\");return a=[],n}}};return o}function ye(n,t){go||(mo+=n,vo+=t,++yo)}function Me(){function n(n,r){var u=n-t,i=r-e,a=Math.sqrt(u*u+i*i);mo+=a*(t+n)/2,vo+=a*(e+r)/2,yo+=a,t=n,e=r}var t,e;if(1!==go){if(!(1>go))return;go=1,mo=vo=yo=0}Ao.point=function(r,u){Ao.point=n,t=r,e=u}}function xe(){Ao.point=ye}function be(){function n(n,t){var e=u*n-r*t;mo+=e*(r+n),vo+=e*(u+t),yo+=3*e,r=n,u=t}var t,e,r,u;2>go&&(go=2,mo=vo=yo=0),Ao.point=function(i,a){Ao.point=n,t=r=i,e=u=a},Ao.lineEnd=function(){n(t,e)}}function _e(n){function t(t,e){n.moveTo(t,e),n.arc(t,e,a,0,2*La)}function e(t,e){n.moveTo(t,e),o.point=r}function r(t,e){n.lineTo(t,e)}function u(){o.point=t}function i(){n.closePath()}var a=4.5,o={point:t,lineStart:function(){o.point=e},lineEnd:u,polygonStart:function(){o.lineEnd=i},polygonEnd:function(){o.lineEnd=u,o.point=t},pointRadius:function(n){return a=n,o},result:N};return o}function we(n){return\"m0,\"+n+\"a\"+n+\",\"+n+\" 0 1,1 0,\"+-2*n+\"a\"+n+\",\"+n+\" 0 1,1 0,\"+2*n+\"z\"}function Se(n){var t=Gt(function(t,e){return n([t*Pa,e*Pa])});return function(n){return n=t(n),{point:function(t,e){n.point(t*Ha,e*Ha)},sphere:function(){n.sphere()},lineStart:function(){n.lineStart()},lineEnd:function(){n.lineEnd()},polygonStart:function(){n.polygonStart()},polygonEnd:function(){n.polygonEnd()}}}}function Ee(n,t){function e(t,e){var r=Math.cos(t),u=Math.cos(e),i=n(r*u);return[i*u*Math.sin(t),i*Math.sin(e)]}return e.invert=function(n,e){var r=Math.sqrt(n*n+e*e),u=t(r),i=Math.sin(u),a=Math.cos(u);return[Math.atan2(n*i,r*a),Math.asin(r&&e*i/r)]},e}function ke(n,t){function e(n,t){var e=Math.abs(Math.abs(t)-La/2)<Fa?0:a/Math.pow(u(t),i);return[e*Math.sin(i*n),a-e*Math.cos(i*n)]}var r=Math.cos(n),u=function(n){return Math.tan(La/4+n/2)},i=n===t?Math.sin(n):Math.log(r/Math.cos(t))/Math.log(u(t)/u(n)),a=r*Math.pow(u(n),i)/i;return i?(e.invert=function(n,t){var e=a-t,r=R(i)*Math.sqrt(n*n+e*e);return[Math.atan2(n,e)/i,2*Math.atan(Math.pow(a/r,1/i))-La/2]},e):qe}function Ae(n,t){function e(n,t){var e=i-t;return[e*Math.sin(u*n),i-e*Math.cos(u*n)]}var r=Math.cos(n),u=n===t?Math.sin(n):(r-Math.cos(t))/(t-n),i=r/u+n;return Math.abs(u)<Fa?ne:(e.invert=function(n,t){var e=i-t;return[Math.atan2(n,e)/u,i-R(u)*Math.sqrt(n*n+e*e)]},e)}function qe(n,t){return[n,Math.log(Math.tan(La/4+t/2))]}function Ne(n){var t,e=Kt(n),r=e.scale,u=e.translate,i=e.clipExtent;return e.scale=function(){var n=r.apply(e,arguments);return n===e?t?e.clipExtent(null):e:n},e.translate=function(){var n=u.apply(e,arguments);return n===e?t?e.clipExtent(null):e:n},e.clipExtent=function(n){var a=i.apply(e,arguments);if(a===e){if(t=null==n){var o=La*r(),c=u();i([[c[0]-o,c[1]-o],[c[0]+o,c[1]+o]])}}else t&&(a=null);return a},e.clipExtent(null)}function Te(n,t){var e=Math.cos(t)*Math.sin(n);return[Math.log((1+e)/(1-e))/2,Math.atan2(Math.tan(t),Math.cos(n))]}function Ce(n){function t(t){function a(){l.push(\"M\",i(n(f),o))}for(var c,l=[],f=[],s=-1,h=t.length,g=lt(e),p=lt(r);++s<h;)u.call(this,c=t[s],s)?f.push([+g.call(this,c,s),+p.call(this,c,s)]):f.length&&(a(),f=[]);return f.length&&a(),l.length?l.join(\"\"):null}var e=ze,r=De,u=Dt,i=je,a=i.key,o=.7;return t.x=function(n){return arguments.length?(e=n,t):e},t.y=function(n){return arguments.length?(r=n,t):r},t.defined=function(n){return arguments.length?(u=n,t):u},t.interpolate=function(n){return arguments.length?(a=\"function\"==typeof n?i=n:(i=Do.get(n)||je).key,t):a},t.tension=function(n){return arguments.length?(o=n,t):o},t}function ze(n){return n[0]}function De(n){return n[1]}function je(n){return n.join(\"L\")}function Le(n){return je(n)+\"Z\"}function Fe(n){for(var t=0,e=n.length,r=n[0],u=[r[0],\",\",r[1]];++t<e;)u.push(\"V\",(r=n[t])[1],\"H\",r[0]);return u.join(\"\")}function He(n){for(var t=0,e=n.length,r=n[0],u=[r[0],\",\",r[1]];++t<e;)u.push(\"H\",(r=n[t])[0],\"V\",r[1]);return u.join(\"\")}function Pe(n,t){return n.length<4?je(n):n[1]+Ye(n.slice(1,n.length-1),Ue(n,t))}function Re(n,t){return n.length<3?je(n):n[0]+Ye((n.push(n[0]),n),Ue([n[n.length-2]].concat(n,[n[1]]),t))}function Oe(n,t){return n.length<3?je(n):n[0]+Ye(n,Ue(n,t))}function Ye(n,t){if(t.length<1||n.length!=t.length&&n.length!=t.length+2)return je(n);var e=n.length!=t.length,r=\"\",u=n[0],i=n[1],a=t[0],o=a,c=1;if(e&&(r+=\"Q\"+(i[0]-a[0]*2/3)+\",\"+(i[1]-a[1]*2/3)+\",\"+i[0]+\",\"+i[1],u=n[1],c=2),t.length>1){o=t[1],i=n[c],c++,r+=\"C\"+(u[0]+a[0])+\",\"+(u[1]+a[1])+\",\"+(i[0]-o[0])+\",\"+(i[1]-o[1])+\",\"+i[0]+\",\"+i[1];for(var l=2;l<t.length;l++,c++)i=n[c],o=t[l],r+=\"S\"+(i[0]-o[0])+\",\"+(i[1]-o[1])+\",\"+i[0]+\",\"+i[1]}if(e){var f=n[c];r+=\"Q\"+(i[0]+o[0]*2/3)+\",\"+(i[1]+o[1]*2/3)+\",\"+f[0]+\",\"+f[1]}return r}function Ue(n,t){for(var e,r=[],u=(1-t)/2,i=n[0],a=n[1],o=1,c=n.length;++o<c;)e=i,i=a,a=n[o],r.push([u*(a[0]-e[0]),u*(a[1]-e[1])]);return r}function Ie(n){if(n.length<3)return je(n);var t=1,e=n.length,r=n[0],u=r[0],i=r[1],a=[u,u,u,(r=n[1])[0]],o=[i,i,i,r[1]],c=[u,\",\",i];for($e(c,a,o);++t<e;)r=n[t],a.shift(),a.push(r[0]),o.shift(),o.push(r[1]),$e(c,a,o);for(t=-1;++t<2;)a.shift(),a.push(r[0]),o.shift(),o.push(r[1]),$e(c,a,o);return c.join(\"\")}function Ve(n){if(n.length<4)return je(n);for(var t,e=[],r=-1,u=n.length,i=[0],a=[0];++r<3;)t=n[r],i.push(t[0]),a.push(t[1]);for(e.push(Be(Fo,i)+\",\"+Be(Fo,a)),--r;++r<u;)t=n[r],i.shift(),i.push(t[0]),a.shift(),a.push(t[1]),$e(e,i,a);return e.join(\"\")}function Xe(n){for(var t,e,r=-1,u=n.length,i=u+4,a=[],o=[];++r<4;)e=n[r%u],a.push(e[0]),o.push(e[1]);for(t=[Be(Fo,a),\",\",Be(Fo,o)],--r;++r<i;)e=n[r%u],a.shift(),a.push(e[0]),o.shift(),o.push(e[1]),$e(t,a,o);return t.join(\"\")}function Ze(n,t){var e=n.length-1;if(e)for(var r,u,i=n[0][0],a=n[0][1],o=n[e][0]-i,c=n[e][1]-a,l=-1;++l<=e;)r=n[l],u=l/e,r[0]=t*r[0]+(1-t)*(i+u*o),r[1]=t*r[1]+(1-t)*(a+u*c);return Ie(n)}function Be(n,t){return n[0]*t[0]+n[1]*t[1]+n[2]*t[2]+n[3]*t[3]}function $e(n,t,e){n.push(\"C\",Be(jo,t),\",\",Be(jo,e),\",\",Be(Lo,t),\",\",Be(Lo,e),\",\",Be(Fo,t),\",\",Be(Fo,e))}function Je(n,t){return(t[1]-n[1])/(t[0]-n[0])}function Ge(n){for(var t=0,e=n.length-1,r=[],u=n[0],i=n[1],a=r[0]=Je(u,i);++t<e;)r[t]=(a+(a=Je(u=i,i=n[t+1])))/2;return r[t]=a,r}function Ke(n){for(var t,e,r,u,i=[],a=Ge(n),o=-1,c=n.length-1;++o<c;)t=Je(n[o],n[o+1]),Math.abs(t)<1e-6?a[o]=a[o+1]=0:(e=a[o]/t,r=a[o+1]/t,u=e*e+r*r,u>9&&(u=3*t/Math.sqrt(u),a[o]=u*e,a[o+1]=u*r));for(o=-1;++o<=c;)u=(n[Math.min(c,o+1)][0]-n[Math.max(0,o-1)][0])/(6*(1+a[o]*a[o])),i.push([u||0,a[o]*u||0]);return i}function We(n){return n.length<3?je(n):n[0]+Ye(n,Ke(n))}function Qe(n,t,e,r){var u,i,a,o,c,l,f;return u=r[n],i=u[0],a=u[1],u=r[t],o=u[0],c=u[1],u=r[e],l=u[0],f=u[1],(f-a)*(o-i)-(c-a)*(l-i)>0}function nr(n,t,e){return(e[0]-t[0])*(n[1]-t[1])<(e[1]-t[1])*(n[0]-t[0])}function tr(n,t,e,r){var u=n[0],i=e[0],a=t[0]-u,o=r[0]-i,c=n[1],l=e[1],f=t[1]-c,s=r[1]-l,h=(o*(c-l)-s*(u-i))/(s*a-o*f);\n",
        "return[u+h*a,c+h*f]}function er(n,t){var e={list:n.map(function(n,t){return{index:t,x:n[0],y:n[1]}}).sort(function(n,t){return n.y<t.y?-1:n.y>t.y?1:n.x<t.x?-1:n.x>t.x?1:0}),bottomSite:null},r={list:[],leftEnd:null,rightEnd:null,init:function(){r.leftEnd=r.createHalfEdge(null,\"l\"),r.rightEnd=r.createHalfEdge(null,\"l\"),r.leftEnd.r=r.rightEnd,r.rightEnd.l=r.leftEnd,r.list.unshift(r.leftEnd,r.rightEnd)},createHalfEdge:function(n,t){return{edge:n,side:t,vertex:null,l:null,r:null}},insert:function(n,t){t.l=n,t.r=n.r,n.r.l=t,n.r=t},leftBound:function(n){var t=r.leftEnd;do t=t.r;while(t!=r.rightEnd&&u.rightOf(t,n));return t=t.l},del:function(n){n.l.r=n.r,n.r.l=n.l,n.edge=null},right:function(n){return n.r},left:function(n){return n.l},leftRegion:function(n){return n.edge==null?e.bottomSite:n.edge.region[n.side]},rightRegion:function(n){return n.edge==null?e.bottomSite:n.edge.region[Ho[n.side]]}},u={bisect:function(n,t){var e={region:{l:n,r:t},ep:{l:null,r:null}},r=t.x-n.x,u=t.y-n.y,i=r>0?r:-r,a=u>0?u:-u;return e.c=n.x*r+n.y*u+.5*(r*r+u*u),i>a?(e.a=1,e.b=u/r,e.c/=r):(e.b=1,e.a=r/u,e.c/=u),e},intersect:function(n,t){var e=n.edge,r=t.edge;if(!e||!r||e.region.r==r.region.r)return null;var u=e.a*r.b-e.b*r.a;if(Math.abs(u)<1e-10)return null;var i,a,o=(e.c*r.b-r.c*e.b)/u,c=(r.c*e.a-e.c*r.a)/u,l=e.region.r,f=r.region.r;l.y<f.y||l.y==f.y&&l.x<f.x?(i=n,a=e):(i=t,a=r);var s=o>=a.region.r.x;return s&&i.side===\"l\"||!s&&i.side===\"r\"?null:{x:o,y:c}},rightOf:function(n,t){var e=n.edge,r=e.region.r,u=t.x>r.x;if(u&&n.side===\"l\")return 1;if(!u&&n.side===\"r\")return 0;if(e.a===1){var i=t.y-r.y,a=t.x-r.x,o=0,c=0;if(!u&&e.b<0||u&&e.b>=0?c=o=i>=e.b*a:(c=t.x+t.y*e.b>e.c,e.b<0&&(c=!c),c||(o=1)),!o){var l=r.x-e.region.l.x;c=e.b*(a*a-i*i)<l*i*(1+2*a/l+e.b*e.b),e.b<0&&(c=!c)}}else{var f=e.c-e.a*t.x,s=t.y-f,h=t.x-r.x,g=f-r.y;c=s*s>h*h+g*g}return n.side===\"l\"?c:!c},endPoint:function(n,e,r){n.ep[e]=r,n.ep[Ho[e]]&&t(n)},distance:function(n,t){var e=n.x-t.x,r=n.y-t.y;return Math.sqrt(e*e+r*r)}},i={list:[],insert:function(n,t,e){n.vertex=t,n.ystar=t.y+e;for(var r=0,u=i.list,a=u.length;a>r;r++){var o=u[r];if(!(n.ystar>o.ystar||n.ystar==o.ystar&&t.x>o.vertex.x))break}u.splice(r,0,n)},del:function(n){for(var t=0,e=i.list,r=e.length;r>t&&e[t]!=n;++t);e.splice(t,1)},empty:function(){return i.list.length===0},nextEvent:function(n){for(var t=0,e=i.list,r=e.length;r>t;++t)if(e[t]==n)return e[t+1];return null},min:function(){var n=i.list[0];return{x:n.vertex.x,y:n.ystar}},extractMin:function(){return i.list.shift()}};r.init(),e.bottomSite=e.list.shift();for(var a,o,c,l,f,s,h,g,p,d,m,v,y,M=e.list.shift();;)if(i.empty()||(a=i.min()),M&&(i.empty()||M.y<a.y||M.y==a.y&&M.x<a.x))o=r.leftBound(M),c=r.right(o),h=r.rightRegion(o),v=u.bisect(h,M),s=r.createHalfEdge(v,\"l\"),r.insert(o,s),d=u.intersect(o,s),d&&(i.del(o),i.insert(o,d,u.distance(d,M))),o=s,s=r.createHalfEdge(v,\"r\"),r.insert(o,s),d=u.intersect(s,c),d&&i.insert(s,d,u.distance(d,M)),M=e.list.shift();else{if(i.empty())break;o=i.extractMin(),l=r.left(o),c=r.right(o),f=r.right(c),h=r.leftRegion(o),g=r.rightRegion(c),m=o.vertex,u.endPoint(o.edge,o.side,m),u.endPoint(c.edge,c.side,m),r.del(o),i.del(c),r.del(c),y=\"l\",h.y>g.y&&(p=h,h=g,g=p,y=\"r\"),v=u.bisect(h,g),s=r.createHalfEdge(v,y),r.insert(l,s),u.endPoint(v,Ho[y],m),d=u.intersect(l,s),d&&(i.del(l),i.insert(l,d,u.distance(d,h))),d=u.intersect(s,f),d&&i.insert(s,d,u.distance(d,h))}for(o=r.right(r.leftEnd);o!=r.rightEnd;o=r.right(o))t(o.edge)}function rr(n){return n.x}function ur(n){return n.y}function ir(){return{leaf:!0,nodes:[],point:null,x:null,y:null}}function ar(n,t,e,r,u,i){if(!n(t,e,r,u,i)){var a=.5*(e+u),o=.5*(r+i),c=t.nodes;c[0]&&ar(n,c[0],e,r,a,o),c[1]&&ar(n,c[1],a,r,u,o),c[2]&&ar(n,c[2],e,o,a,i),c[3]&&ar(n,c[3],a,o,u,i)}}function or(n,t){n=oa.rgb(n),t=oa.rgb(t);var e=n.r,r=n.g,u=n.b,i=t.r-e,a=t.g-r,o=t.b-u;return function(n){return\"#\"+rt(Math.round(e+i*n))+rt(Math.round(r+a*n))+rt(Math.round(u+o*n))}}function cr(n){var t=[n.a,n.b],e=[n.c,n.d],r=fr(t),u=lr(t,e),i=fr(sr(e,t,-u))||0;t[0]*e[1]<e[0]*t[1]&&(t[0]*=-1,t[1]*=-1,r*=-1,u*=-1),this.rotate=(r?Math.atan2(t[1],t[0]):Math.atan2(-e[0],e[1]))*Pa,this.translate=[n.e,n.f],this.scale=[r,i],this.skew=i?Math.atan2(u,i)*Pa:0}function lr(n,t){return n[0]*t[0]+n[1]*t[1]}function fr(n){var t=Math.sqrt(lr(n,n));return t&&(n[0]/=t,n[1]/=t),t}function sr(n,t,e){return n[0]+=e*t[0],n[1]+=e*t[1],n}function hr(n,t){return t-=n,function(e){return n+t*e}}function gr(n,t){var e,r=[],u=[],i=oa.transform(n),a=oa.transform(t),o=i.translate,c=a.translate,l=i.rotate,f=a.rotate,s=i.skew,h=a.skew,g=i.scale,p=a.scale;return o[0]!=c[0]||o[1]!=c[1]?(r.push(\"translate(\",null,\",\",null,\")\"),u.push({i:1,x:hr(o[0],c[0])},{i:3,x:hr(o[1],c[1])})):c[0]||c[1]?r.push(\"translate(\"+c+\")\"):r.push(\"\"),l!=f?(l-f>180?f+=360:f-l>180&&(l+=360),u.push({i:r.push(r.pop()+\"rotate(\",null,\")\")-2,x:hr(l,f)})):f&&r.push(r.pop()+\"rotate(\"+f+\")\"),s!=h?u.push({i:r.push(r.pop()+\"skewX(\",null,\")\")-2,x:hr(s,h)}):h&&r.push(r.pop()+\"skewX(\"+h+\")\"),g[0]!=p[0]||g[1]!=p[1]?(e=r.push(r.pop()+\"scale(\",null,\",\",null,\")\"),u.push({i:e-4,x:hr(g[0],p[0])},{i:e-2,x:hr(g[1],p[1])})):(p[0]!=1||p[1]!=1)&&r.push(r.pop()+\"scale(\"+p+\")\"),e=u.length,function(n){for(var t,i=-1;++i<e;)r[(t=u[i]).i]=t.x(n);return r.join(\"\")}}function pr(n,t){var e,r={},u={};for(e in n)e in t?r[e]=vr(e)(n[e],t[e]):u[e]=n[e];for(e in t)e in n||(u[e]=t[e]);return function(n){for(e in r)u[e]=r[e](n);return u}}function dr(n,t){var e,r,u,i,a,o=0,c=0,l=[],f=[];for(Ro.lastIndex=0,r=0;e=Ro.exec(t);++r)e.index&&l.push(t.substring(o,c=e.index)),f.push({i:l.length,x:e[0]}),l.push(null),o=Ro.lastIndex;for(o<t.length&&l.push(t.substring(o)),r=0,i=f.length;(e=Ro.exec(n))&&i>r;++r)if(a=f[r],a.x==e[0]){if(a.i)if(l[a.i+1]==null)for(l[a.i-1]+=a.x,l.splice(a.i,1),u=r+1;i>u;++u)f[u].i--;else for(l[a.i-1]+=a.x+l[a.i+1],l.splice(a.i,2),u=r+1;i>u;++u)f[u].i-=2;else if(l[a.i+1]==null)l[a.i]=a.x;else for(l[a.i]=a.x+l[a.i+1],l.splice(a.i+1,1),u=r+1;i>u;++u)f[u].i--;f.splice(r,1),i--,r--}else a.x=hr(parseFloat(e[0]),parseFloat(a.x));for(;i>r;)a=f.pop(),l[a.i+1]==null?l[a.i]=a.x:(l[a.i]=a.x+l[a.i+1],l.splice(a.i+1,1)),i--;return l.length===1?l[0]==null?f[0].x:function(){return t}:function(n){for(r=0;i>r;++r)l[(a=f[r]).i]=a.x(n);return l.join(\"\")}}function mr(n,t){for(var e,r=oa.interpolators.length;--r>=0&&!(e=oa.interpolators[r](n,t)););return e}function vr(n){return\"transform\"==n?gr:mr}function yr(n,t){var e,r=[],u=[],i=n.length,a=t.length,o=Math.min(n.length,t.length);for(e=0;o>e;++e)r.push(mr(n[e],t[e]));for(;i>e;++e)u[e]=n[e];for(;a>e;++e)u[e]=t[e];return function(n){for(e=0;o>e;++e)u[e]=r[e](n);return u}}function Mr(n){return function(t){return 0>=t?0:t>=1?1:n(t)}}function xr(n){return function(t){return 1-n(1-t)}}function br(n){return function(t){return.5*(.5>t?n(2*t):2-n(2-2*t))}}function _r(n){return n*n}function wr(n){return n*n*n}function Sr(n){if(0>=n)return 0;if(n>=1)return 1;var t=n*n,e=t*n;return 4*(.5>n?e:3*(n-t)+e-.75)}function Er(n){return function(t){return Math.pow(t,n)}}function kr(n){return 1-Math.cos(n*La/2)}function Ar(n){return Math.pow(2,10*(n-1))}function qr(n){return 1-Math.sqrt(1-n*n)}function Nr(n,t){var e;return arguments.length<2&&(t=.45),arguments.length?e=t/(2*La)*Math.asin(1/n):(n=1,e=t/4),function(r){return 1+n*Math.pow(2,10*-r)*Math.sin(2*(r-e)*La/t)}}function Tr(n){return n||(n=1.70158),function(t){return t*t*((n+1)*t-n)}}function Cr(n){return 1/2.75>n?7.5625*n*n:2/2.75>n?7.5625*(n-=1.5/2.75)*n+.75:2.5/2.75>n?7.5625*(n-=2.25/2.75)*n+.9375:7.5625*(n-=2.625/2.75)*n+.984375}function zr(n,t){n=oa.hcl(n),t=oa.hcl(t);var e=n.h,r=n.c,u=n.l,i=t.h-e,a=t.c-r,o=t.l-u;return i>180?i-=360:-180>i&&(i+=360),function(n){return B(e+i*n,r+a*n,u+o*n)+\"\"}}function Dr(n,t){n=oa.hsl(n),t=oa.hsl(t);var e=n.h,r=n.s,u=n.l,i=t.h-e,a=t.s-r,o=t.l-u;return i>180?i-=360:-180>i&&(i+=360),function(n){return P(e+i*n,r+a*n,u+o*n)+\"\"}}function jr(n,t){n=oa.lab(n),t=oa.lab(t);var e=n.l,r=n.a,u=n.b,i=t.l-e,a=t.a-r,o=t.b-u;return function(n){return G(e+i*n,r+a*n,u+o*n)+\"\"}}function Lr(n,t){return t-=n,function(e){return Math.round(n+t*e)}}function Fr(n,t){return t=t-(n=+n)?1/(t-n):0,function(e){return(e-n)*t}}function Hr(n,t){return t=t-(n=+n)?1/(t-n):0,function(e){return Math.max(0,Math.min(1,(e-n)*t))}}function Pr(n){for(var t=n.source,e=n.target,r=Or(t,e),u=[t];t!==r;)t=t.parent,u.push(t);for(var i=u.length;e!==r;)u.splice(i,0,e),e=e.parent;return u}function Rr(n){for(var t=[],e=n.parent;null!=e;)t.push(n),n=e,e=e.parent;return t.push(n),t}function Or(n,t){if(n===t)return n;for(var e=Rr(n),r=Rr(t),u=e.pop(),i=r.pop(),a=null;u===i;)a=u,u=e.pop(),i=r.pop();return a}function Yr(n){n.fixed|=2}function Ur(n){n.fixed&=-7}function Ir(n){n.fixed|=4,n.px=n.x,n.py=n.y}function Vr(n){n.fixed&=-5}function Xr(n,t,e){var r=0,u=0;if(n.charge=0,!n.leaf)for(var i,a=n.nodes,o=a.length,c=-1;++c<o;)i=a[c],null!=i&&(Xr(i,t,e),n.charge+=i.charge,r+=i.charge*i.cx,u+=i.charge*i.cy);if(n.point){n.leaf||(n.point.x+=Math.random()-.5,n.point.y+=Math.random()-.5);var l=t*e[n.point.index];n.charge+=n.pointCharge=l,r+=l*n.point.x,u+=l*n.point.y}n.cx=r/n.charge,n.cy=u/n.charge}function Zr(n,t){return oa.rebind(n,t,\"sort\",\"children\",\"value\"),n.nodes=n,n.links=Gr,n}function Br(n){return n.children}function $r(n){return n.value}function Jr(n,t){return t.value-n.value}function Gr(n){return oa.merge(n.map(function(n){return(n.children||[]).map(function(t){return{source:n,target:t}})}))}function Kr(n){return n.x}function Wr(n){return n.y}function Qr(n,t,e){n.y0=t,n.y=e}function nu(n){return oa.range(n.length)}function tu(n){for(var t=-1,e=n[0].length,r=[];++t<e;)r[t]=0;return r}function eu(n){for(var t,e=1,r=0,u=n[0][1],i=n.length;i>e;++e)(t=n[e][1])>u&&(r=e,u=t);return r}function ru(n){return n.reduce(uu,0)}function uu(n,t){return n+t[1]}function iu(n,t){return au(n,Math.ceil(Math.log(t.length)/Math.LN2+1))}function au(n,t){for(var e=-1,r=+n[0],u=(n[1]-r)/t,i=[];++e<=t;)i[e]=u*e+r;return i}function ou(n){return[oa.min(n),oa.max(n)]}function cu(n,t){return n.parent==t.parent?1:2}function lu(n){var t=n.children;return t&&t.length?t[0]:n._tree.thread}function fu(n){var t,e=n.children;return e&&(t=e.length)?e[t-1]:n._tree.thread}function su(n,t){var e=n.children;if(e&&(u=e.length))for(var r,u,i=-1;++i<u;)t(r=su(e[i],t),n)>0&&(n=r);return n}function hu(n,t){return n.x-t.x}function gu(n,t){return t.x-n.x}function pu(n,t){return n.depth-t.depth}function du(n,t){function e(n,r){var u=n.children;if(u&&(a=u.length))for(var i,a,o=null,c=-1;++c<a;)i=u[c],e(i,o),o=i;t(n,r)}e(n,null)}function mu(n){for(var t,e=0,r=0,u=n.children,i=u.length;--i>=0;)t=u[i]._tree,t.prelim+=e,t.mod+=e,e+=t.shift+(r+=t.change)}function vu(n,t,e){n=n._tree,t=t._tree;var r=e/(t.number-n.number);n.change+=r,t.change-=r,t.shift+=e,t.prelim+=e,t.mod+=e}function yu(n,t,e){return n._tree.ancestor.parent==t.parent?n._tree.ancestor:e}function Mu(n,t){return n.value-t.value}function xu(n,t){var e=n._pack_next;n._pack_next=t,t._pack_prev=n,t._pack_next=e,e._pack_prev=t}function bu(n,t){n._pack_next=t,t._pack_prev=n}function _u(n,t){var e=t.x-n.x,r=t.y-n.y,u=n.r+t.r;return u*u-e*e-r*r>.001}function wu(n){function t(n){f=Math.min(n.x-n.r,f),s=Math.max(n.x+n.r,s),h=Math.min(n.y-n.r,h),g=Math.max(n.y+n.r,g)}if((e=n.children)&&(l=e.length)){var e,r,u,i,a,o,c,l,f=1/0,s=-1/0,h=1/0,g=-1/0;if(e.forEach(Su),r=e[0],r.x=-r.r,r.y=0,t(r),l>1&&(u=e[1],u.x=u.r,u.y=0,t(u),l>2))for(i=e[2],Au(r,u,i),t(i),xu(r,i),r._pack_prev=i,xu(i,u),u=r._pack_next,a=3;l>a;a++){Au(r,u,i=e[a]);var p=0,d=1,m=1;for(o=u._pack_next;o!==u;o=o._pack_next,d++)if(_u(o,i)){p=1;break}if(1==p)for(c=r._pack_prev;c!==o._pack_prev&&!_u(c,i);c=c._pack_prev,m++);p?(m>d||d==m&&u.r<r.r?bu(r,u=o):bu(r=c,u),a--):(xu(r,i),u=i,t(i))}var v=(f+s)/2,y=(h+g)/2,M=0;for(a=0;l>a;a++)i=e[a],i.x-=v,i.y-=y,M=Math.max(M,i.r+Math.sqrt(i.x*i.x+i.y*i.y));n.r=M,e.forEach(Eu)}}function Su(n){n._pack_next=n._pack_prev=n}function Eu(n){delete n._pack_next,delete n._pack_prev}function ku(n,t,e,r){var u=n.children;if(n.x=t+=r*n.x,n.y=e+=r*n.y,n.r*=r,u)for(var i=-1,a=u.length;++i<a;)ku(u[i],t,e,r)}function Au(n,t,e){var r=n.r+e.r,u=t.x-n.x,i=t.y-n.y;if(r&&(u||i)){var a=t.r+e.r,o=u*u+i*i;a*=a,r*=r;var c=.5+(r-a)/(2*o),l=Math.sqrt(Math.max(0,2*a*(r+o)-(r-=o)*r-a*a))/(2*o);e.x=n.x+c*u+l*i,e.y=n.y+c*i-l*u}else e.x=n.x+r,e.y=n.y}function qu(n){return 1+oa.max(n,function(n){return n.y})}function Nu(n){return n.reduce(function(n,t){return n+t.x},0)/n.length}function Tu(n){var t=n.children;return t&&t.length?Tu(t[0]):n}function Cu(n){var t,e=n.children;return e&&(t=e.length)?Cu(e[t-1]):n}function zu(n){return{x:n.x,y:n.y,dx:n.dx,dy:n.dy}}function Du(n,t){var e=n.x+t[3],r=n.y+t[0],u=n.dx-t[1]-t[3],i=n.dy-t[0]-t[2];return 0>u&&(e+=u/2,u=0),0>i&&(r+=i/2,i=0),{x:e,y:r,dx:u,dy:i}}function ju(n){var t=n[0],e=n[n.length-1];return e>t?[t,e]:[e,t]}function Lu(n){return n.rangeExtent?n.rangeExtent():ju(n.range())}function Fu(n,t,e,r){var u=e(n[0],n[1]),i=r(t[0],t[1]);return function(n){return i(u(n))}}function Hu(n,t){var e,r=0,u=n.length-1,i=n[r],a=n[u];return i>a&&(e=r,r=u,u=e,e=i,i=a,a=e),(t=t(a-i))&&(n[r]=t.floor(i),n[u]=t.ceil(a)),n}function Pu(n,t,e,r){var u=[],i=[],a=0,o=Math.min(n.length,t.length)-1;for(n[o]<n[0]&&(n=n.slice().reverse(),t=t.slice().reverse());++a<=o;)u.push(e(n[a-1],n[a])),i.push(r(t[a-1],t[a]));return function(t){var e=oa.bisect(n,t,1,o)-1;return i[e](u[e](t))}}function Ru(n,t,e,r){function u(){var u=Math.min(n.length,t.length)>2?Pu:Fu,c=r?Hr:Fr;return a=u(n,t,c,e),o=u(t,n,c,mr),i}function i(n){return a(n)}var a,o;return i.invert=function(n){return o(n)},i.domain=function(t){return arguments.length?(n=t.map(Number),u()):n},i.range=function(n){return arguments.length?(t=n,u()):t},i.rangeRound=function(n){return i.range(n).interpolate(Lr)},i.clamp=function(n){return arguments.length?(r=n,u()):r},i.interpolate=function(n){return arguments.length?(e=n,u()):e},i.ticks=function(t){return Iu(n,t)},i.tickFormat=function(t,e){return Vu(n,t,e)},i.nice=function(){return Hu(n,Yu),u()},i.copy=function(){return Ru(n,t,e,r)},u()}function Ou(n,t){return oa.rebind(n,t,\"range\",\"rangeRound\",\"interpolate\",\"clamp\")}function Yu(n){return n=Math.pow(10,Math.round(Math.log(n)/Math.LN10)-1),n&&{floor:function(t){return Math.floor(t/n)*n},ceil:function(t){return Math.ceil(t/n)*n}}}function Uu(n,t){var e=ju(n),r=e[1]-e[0],u=Math.pow(10,Math.floor(Math.log(r/t)/Math.LN10)),i=t/r*u;return.15>=i?u*=10:.35>=i?u*=5:.75>=i&&(u*=2),e[0]=Math.ceil(e[0]/u)*u,e[1]=Math.floor(e[1]/u)*u+.5*u,e[2]=u,e}function Iu(n,t){return oa.range.apply(oa,Uu(n,t))}function Vu(n,t,e){var r=-Math.floor(Math.log(Uu(n,t)[2])/Math.LN10+.01);return oa.format(e?e.replace(ro,function(n,t,e,u,i,a,o,c,l,f){return[t,e,u,i,a,o,c,l||\".\"+(r-2*(\"%\"===f)),f].join(\"\")}):\",.\"+r+\"f\")}function Xu(n,t,e,r){function u(t){return n(e(t))}return u.invert=function(t){return r(n.invert(t))},u.domain=function(t){return arguments.length?(t[0]<0?(e=$u,r=Ju):(e=Zu,r=Bu),n.domain(t.map(e)),u):n.domain().map(r)},u.base=function(n){return arguments.length?(t=+n,u):t},u.nice=function(){return n.domain(Hu(n.domain(),Gu(t))),u},u.ticks=function(){var u=ju(n.domain()),i=[];if(u.every(isFinite)){var a=Math.log(t),o=Math.floor(u[0]/a),c=Math.ceil(u[1]/a),l=r(u[0]),f=r(u[1]),s=t%1?2:t;if(e===$u)for(i.push(-Math.pow(t,-o));o++<c;)for(var h=s-1;h>0;h--)i.push(-Math.pow(t,-o)*h);else{for(;c>o;o++)for(var h=1;s>h;h++)i.push(Math.pow(t,o)*h);i.push(Math.pow(t,o))}for(o=0;i[o]<l;o++);for(c=i.length;i[c-1]>f;c--);i=i.slice(o,c)}return i},u.tickFormat=function(n,i){if(arguments.length<2&&(i=$o),!arguments.length)return i;var a,o=Math.log(t),c=Math.max(.1,n/u.ticks().length),l=e===$u?(a=-1e-12,Math.floor):(a=1e-12,Math.ceil);return function(n){return n/r(o*l(e(n)/o+a))<=c?i(n):\"\"}},u.copy=function(){return Xu(n.copy(),t,e,r)},Ou(u,n)}function Zu(n){return Math.log(0>n?0:n)}function Bu(n){return Math.exp(n)}function $u(n){return-Math.log(n>0?0:-n)}function Ju(n){return-Math.exp(-n)}function Gu(n){n=Math.log(n);var t={floor:function(t){return Math.floor(t/n)*n},ceil:function(t){return Math.ceil(t/n)*n}};return function(){return t}}function Ku(n,t){function e(t){return n(r(t))}var r=Wu(t),u=Wu(1/t);return e.invert=function(t){return u(n.invert(t))},e.domain=function(t){return arguments.length?(n.domain(t.map(r)),e):n.domain().map(u)},e.ticks=function(n){return Iu(e.domain(),n)},e.tickFormat=function(n,t){return Vu(e.domain(),n,t)},e.nice=function(){return e.domain(Hu(e.domain(),Yu))},e.exponent=function(n){if(!arguments.length)return t;var i=e.domain();return r=Wu(t=n),u=Wu(1/t),e.domain(i)},e.copy=function(){return Ku(n.copy(),t)},Ou(e,n)}function Wu(n){return function(t){return 0>t?-Math.pow(-t,n):Math.pow(t,n)}}function Qu(n,t){function e(t){return a[((i.get(t)||i.set(t,n.push(t)))-1)%a.length]}function r(t,e){return oa.range(n.length).map(function(n){return t+e*n})}var i,a,o;return e.domain=function(r){if(!arguments.length)return n;n=[],i=new u;for(var a,o=-1,c=r.length;++o<c;)i.has(a=r[o])||i.set(a,n.push(a));return e[t.t].apply(e,t.a)},e.range=function(n){return arguments.length?(a=n,o=0,t={t:\"range\",a:arguments},e):a},e.rangePoints=function(u,i){arguments.length<2&&(i=0);var c=u[0],l=u[1],f=(l-c)/(Math.max(1,n.length-1)+i);return a=r(n.length<2?(c+l)/2:c+f*i/2,f),o=0,t={t:\"rangePoints\",a:arguments},e},e.rangeBands=function(u,i,c){arguments.length<2&&(i=0),arguments.length<3&&(c=i);var l=u[1]<u[0],f=u[l-0],s=u[1-l],h=(s-f)/(n.length-i+2*c);return a=r(f+h*c,h),l&&a.reverse(),o=h*(1-i),t={t:\"rangeBands\",a:arguments},e},e.rangeRoundBands=function(u,i,c){arguments.length<2&&(i=0),arguments.length<3&&(c=i);var l=u[1]<u[0],f=u[l-0],s=u[1-l],h=Math.floor((s-f)/(n.length-i+2*c)),g=s-f-(n.length-i)*h;return a=r(f+Math.round(g/2),h),l&&a.reverse(),o=Math.round(h*(1-i)),t={t:\"rangeRoundBands\",a:arguments},e},e.rangeBand=function(){return o},e.rangeExtent=function(){return ju(t.a[0])},e.copy=function(){return Qu(n,t)},e.domain(n)}function ni(n,t){function e(){var e=0,i=t.length;for(u=[];++e<i;)u[e-1]=oa.quantile(n,e/i);return r}function r(n){return isNaN(n=+n)?0/0:t[oa.bisect(u,n)]}var u;return r.domain=function(t){return arguments.length?(n=t.filter(function(n){return!isNaN(n)}).sort(oa.ascending),e()):n},r.range=function(n){return arguments.length?(t=n,e()):t},r.quantiles=function(){return u},r.copy=function(){return ni(n,t)},e()}function ti(n,t,e){function r(t){return e[Math.max(0,Math.min(a,Math.floor(i*(t-n))))]}function u(){return i=e.length/(t-n),a=e.length-1,r}var i,a;return r.domain=function(e){return arguments.length?(n=+e[0],t=+e[e.length-1],u()):[n,t]},r.range=function(n){return arguments.length?(e=n,u()):e},r.copy=function(){return ti(n,t,e)},u()}function ei(n,t){function e(e){return t[oa.bisect(n,e)]}return e.domain=function(t){return arguments.length?(n=t,e):n},e.range=function(n){return arguments.length?(t=n,e):t},e.copy=function(){return ei(n,t)},e}function ri(n){function t(n){return+n}return t.invert=t,t.domain=t.range=function(e){return arguments.length?(n=e.map(t),t):n},t.ticks=function(t){return Iu(n,t)},t.tickFormat=function(t,e){return Vu(n,t,e)},t.copy=function(){return ri(n)},t}function ui(n){return n.innerRadius}function ii(n){return n.outerRadius}function ai(n){return n.startAngle}function oi(n){return n.endAngle}function ci(n){for(var t,e,r,u=-1,i=n.length;++u<i;)t=n[u],e=t[0],r=t[1]+Qo,t[0]=e*Math.cos(r),t[1]=e*Math.sin(r);return n}function li(n){function t(t){function c(){d.push(\"M\",o(n(v),s),f,l(n(m.reverse()),s),\"Z\")}for(var h,g,p,d=[],m=[],v=[],y=-1,M=t.length,x=lt(e),b=lt(u),_=e===r?function(){return g}:lt(r),w=u===i?function(){return p}:lt(i);++y<M;)a.call(this,h=t[y],y)?(m.push([g=+x.call(this,h,y),p=+b.call(this,h,y)]),v.push([+_.call(this,h,y),+w.call(this,h,y)])):m.length&&(c(),m=[],v=[]);return m.length&&c(),d.length?d.join(\"\"):null}var e=ze,r=ze,u=0,i=De,a=Dt,o=je,c=o.key,l=o,f=\"L\",s=.7;return t.x=function(n){return arguments.length?(e=r=n,t):r},t.x0=function(n){return arguments.length?(e=n,t):e},t.x1=function(n){return arguments.length?(r=n,t):r},t.y=function(n){return arguments.length?(u=i=n,t):i},t.y0=function(n){return arguments.length?(u=n,t):u},t.y1=function(n){return arguments.length?(i=n,t):i},t.defined=function(n){return arguments.length?(a=n,t):a},t.interpolate=function(n){return arguments.length?(c=\"function\"==typeof n?o=n:(o=Do.get(n)||je).key,l=o.reverse||o,f=o.closed?\"M\":\"L\",t):c},t.tension=function(n){return arguments.length?(s=n,t):s},t}function fi(n){return n.radius}function si(n){return[n.x,n.y]}function hi(n){return function(){var t=n.apply(this,arguments),e=t[0],r=t[1]+Qo;return[e*Math.cos(r),e*Math.sin(r)]}}function gi(){return 64}function pi(){return\"circle\"}function di(n){var t=Math.sqrt(n/La);return\"M0,\"+t+\"A\"+t+\",\"+t+\" 0 1,1 0,\"+-t+\"A\"+t+\",\"+t+\" 0 1,1 0,\"+t+\"Z\"}function mi(n,t){return Ma(n,ic),n.id=t,n}function vi(n,t,e,r){var u=n.id;return D(n,\"function\"==typeof e?function(n,i,a){n.__transition__[u].tween.set(t,r(e.call(n,n.__data__,i,a)))}:(e=r(e),function(n){n.__transition__[u].tween.set(t,e)}))}function yi(n){return null==n&&(n=\"\"),function(){this.textContent=n}}function Mi(n,t,e,r){var i=n.__transition__||(n.__transition__={active:0,count:0}),a=i[e];if(!a){var o=r.time;return a=i[e]={tween:new u,event:oa.dispatch(\"start\",\"end\"),time:o,ease:r.ease,delay:r.delay,duration:r.duration},++i.count,oa.timer(function(r){function u(r){return i.active>e?l():(i.active=e,h.start.call(n,f,t),a.tween.forEach(function(e,r){(r=r.call(n,f,t))&&d.push(r)}),c(r)||oa.timer(c,0,o),1)}function c(r){if(i.active!==e)return l();for(var u=(r-g)/p,a=s(u),o=d.length;o>0;)d[--o].call(n,a);return u>=1?(l(),h.end.call(n,f,t),1):void 0}function l(){return--i.count?delete i[e]:delete n.__transition__,1}var f=n.__data__,s=a.ease,h=a.event,g=a.delay,p=a.duration,d=[];return r>=g?u(r):oa.timer(u,g,o),1},0,o),a}}function xi(n,t){n.attr(\"transform\",function(n){return\"translate(\"+t(n)+\",0)\"})}function bi(n,t){n.attr(\"transform\",function(n){return\"translate(0,\"+t(n)+\")\"})}function _i(n,t,e){if(r=[],e&&t.length>1){for(var r,u,i,a=ju(n.domain()),o=-1,c=t.length,l=(t[1]-t[0])/++e;++o<c;)for(u=e;--u>0;)(i=+t[o]-u*l)>=a[0]&&r.push(i);for(--o,u=0;++u<e&&(i=+t[o]+u*l)<a[1];)r.push(i)}return r}function wi(){this._=new Date(arguments.length>1?Date.UTC.apply(this,arguments):arguments[0])}function Si(n,t,e){function r(t){var e=n(t),r=i(e,1);return r-t>t-e?e:r}function u(e){return t(e=n(new hc(e-1)),1),e}function i(n,e){return t(n=new hc(+n),e),n}function a(n,r,i){var a=u(n),o=[];if(i>1)for(;r>a;)e(a)%i||o.push(new Date(+a)),t(a,1);else for(;r>a;)o.push(new Date(+a)),t(a,1);return o}function o(n,t,e){try{hc=wi;var r=new wi;return r._=n,a(r,t,e)}finally{hc=Date}}n.floor=n,n.round=r,n.ceil=u,n.offset=i,n.range=a;var c=n.utc=Ei(n);return c.floor=c,c.round=Ei(r),c.ceil=Ei(u),c.offset=Ei(i),c.range=o,n}function Ei(n){return function(t,e){try{hc=wi;var r=new wi;return r._=t,n(r,e)._}finally{hc=Date}}}function ki(n,t,e,r){for(var u,i,a=0,o=t.length,c=e.length;o>a;){if(r>=c)return-1;if(u=t.charCodeAt(a++),37===u){if(i=Tc[t.charAt(a++)],!i||(r=i(n,e,r))<0)return-1}else if(u!=e.charCodeAt(r++))return-1}return r}function Ai(n){return RegExp(\"^(?:\"+n.map(oa.requote).join(\"|\")+\")\",\"i\")}function qi(n){for(var t=new u,e=-1,r=n.length;++e<r;)t.set(n[e].toLowerCase(),e);return t}function Ni(n,t,e){n+=\"\";var r=n.length;return e>r?Array(e-r+1).join(t)+n:n}function Ti(n,t,e){wc.lastIndex=0;var r=wc.exec(t.substring(e));return r?e+=r[0].length:-1}function Ci(n,t,e){_c.lastIndex=0;var r=_c.exec(t.substring(e));return r?e+=r[0].length:-1}function zi(n,t,e){kc.lastIndex=0;var r=kc.exec(t.substring(e));return r?(n.m=Ac.get(r[0].toLowerCase()),e+=r[0].length):-1}function Di(n,t,e){Sc.lastIndex=0;var r=Sc.exec(t.substring(e));return r?(n.m=Ec.get(r[0].toLowerCase()),e+=r[0].length):-1}function ji(n,t,e){return ki(n,\"\"+Nc.c,t,e)}function Li(n,t,e){return ki(n,\"\"+Nc.x,t,e)}function Fi(n,t,e){return ki(n,\"\"+Nc.X,t,e)}function Hi(n,t,e){Cc.lastIndex=0;var r=Cc.exec(t.substring(e,e+4));return r?(n.y=+r[0],e+=r[0].length):-1}function Pi(n,t,e){Cc.lastIndex=0;var r=Cc.exec(t.substring(e,e+2));return r?(n.y=Ri(+r[0]),e+=r[0].length):-1}function Ri(n){return n+(n>68?1900:2e3)}function Oi(n,t,e){Cc.lastIndex=0;var r=Cc.exec(t.substring(e,e+2));return r?(n.m=r[0]-1,e+=r[0].length):-1}function Yi(n,t,e){Cc.lastIndex=0;var r=Cc.exec(t.substring(e,e+2));return r?(n.d=+r[0],e+=r[0].length):-1}function Ui(n,t,e){Cc.lastIndex=0;var r=Cc.exec(t.substring(e,e+2));return r?(n.H=+r[0],e+=r[0].length):-1}function Ii(n,t,e){Cc.lastIndex=0;var r=Cc.exec(t.substring(e,e+2));return r?(n.M=+r[0],e+=r[0].length):-1}function Vi(n,t,e){Cc.lastIndex=0;var r=Cc.exec(t.substring(e,e+2));return r?(n.S=+r[0],e+=r[0].length):-1}function Xi(n,t,e){Cc.lastIndex=0;var r=Cc.exec(t.substring(e,e+3));return r?(n.L=+r[0],e+=r[0].length):-1}function Zi(n,t,e){var r=zc.get(t.substring(e,e+=2).toLowerCase());return null==r?-1:(n.p=r,e)}function Bi(n){var t=n.getTimezoneOffset(),e=t>0?\"-\":\"+\",r=~~(Math.abs(t)/60),u=Math.abs(t)%60;return e+Ni(r,\"0\",2)+Ni(u,\"0\",2)}function $i(n){return n.toISOString()}function Ji(n,t,e){function r(t){return n(t)}return r.invert=function(t){return Ki(n.invert(t))},r.domain=function(t){return arguments.length?(n.domain(t),r):n.domain().map(Ki)},r.nice=function(n){return r.domain(Hu(r.domain(),function(){return n}))},r.ticks=function(e,u){var i=Gi(r.domain());if(\"function\"!=typeof e){var a=i[1]-i[0],o=a/e,c=oa.bisect(jc,o);if(c==jc.length)return t.year(i,e);if(!c)return n.ticks(e).map(Ki);Math.log(o/jc[c-1])<Math.log(jc[c]/o)&&--c,e=t[c],u=e[1],e=e[0].range}return e(i[0],new Date(+i[1]+1),u)},r.tickFormat=function(){return e},r.copy=function(){return Ji(n.copy(),t,e)},oa.rebind(r,n,\"range\",\"rangeRound\",\"interpolate\",\"clamp\")}function Gi(n){var t=n[0],e=n[n.length-1];return e>t?[t,e]:[e,t]}function Ki(n){return new Date(n)}function Wi(n){return function(t){for(var e=n.length-1,r=n[e];!r[1](t);)r=n[--e];return r[0](t)}}function Qi(n){var t=new Date(n,0,1);return t.setFullYear(n),t}function na(n){var t=n.getFullYear(),e=Qi(t),r=Qi(t+1);return t+(n-e)/(r-e)}function ta(n){var t=new Date(Date.UTC(n,0,1));return t.setUTCFullYear(n),t}function ea(n){var t=n.getUTCFullYear(),e=ta(t),r=ta(t+1);return t+(n-e)/(r-e)}function ra(n){return n.responseText}function ua(n){return JSON.parse(n.responseText)}function ia(n){var t=ca.createRange();return t.selectNode(ca.body),t.createContextualFragment(n.responseText)}function aa(n){return n.responseXML}var oa={version:\"3.1.3\"};Date.now||(Date.now=function(){return+new Date});var ca=document,la=window;try{ca.createElement(\"div\").style.setProperty(\"opacity\",0,\"\")}catch(fa){var sa=la.CSSStyleDeclaration.prototype,ha=sa.setProperty;sa.setProperty=function(n,t,e){ha.call(this,n,t+\"\",e)}}oa.ascending=function(n,t){return t>n?-1:n>t?1:n>=t?0:0/0},oa.descending=function(n,t){return n>t?-1:t>n?1:t>=n?0:0/0},oa.min=function(n,t){var e,r,u=-1,i=n.length;if(arguments.length===1){for(;++u<i&&((e=n[u])==null||e!=e);)e=void 0;for(;++u<i;)(r=n[u])!=null&&e>r&&(e=r)}else{for(;++u<i&&((e=t.call(n,n[u],u))==null||e!=e);)e=void 0;for(;++u<i;)(r=t.call(n,n[u],u))!=null&&e>r&&(e=r)}return e},oa.max=function(n,t){var e,r,u=-1,i=n.length;if(arguments.length===1){for(;++u<i&&((e=n[u])==null||e!=e);)e=void 0;for(;++u<i;)(r=n[u])!=null&&r>e&&(e=r)}else{for(;++u<i&&((e=t.call(n,n[u],u))==null||e!=e);)e=void 0;for(;++u<i;)(r=t.call(n,n[u],u))!=null&&r>e&&(e=r)}return e},oa.extent=function(n,t){var e,r,u,i=-1,a=n.length;if(arguments.length===1){for(;++i<a&&((e=u=n[i])==null||e!=e);)e=u=void 0;for(;++i<a;)(r=n[i])!=null&&(e>r&&(e=r),r>u&&(u=r))}else{for(;++i<a&&((e=u=t.call(n,n[i],i))==null||e!=e);)e=void 0;for(;++i<a;)(r=t.call(n,n[i],i))!=null&&(e>r&&(e=r),r>u&&(u=r))}return[e,u]},oa.sum=function(n,t){var e,r=0,u=n.length,i=-1;if(arguments.length===1)for(;++i<u;)isNaN(e=+n[i])||(r+=e);else for(;++i<u;)isNaN(e=+t.call(n,n[i],i))||(r+=e);return r},oa.mean=function(t,e){var r,u=t.length,i=0,a=-1,o=0;if(arguments.length===1)for(;++a<u;)n(r=t[a])&&(i+=(r-i)/++o);else for(;++a<u;)n(r=e.call(t,t[a],a))&&(i+=(r-i)/++o);return o?i:void 0},oa.quantile=function(n,t){var e=(n.length-1)*t+1,r=Math.floor(e),u=+n[r-1],i=e-r;return i?u+i*(n[r]-u):u},oa.median=function(t,e){return arguments.length>1&&(t=t.map(e)),t=t.filter(n),t.length?oa.quantile(t.sort(oa.ascending),.5):void 0},oa.bisector=function(n){return{left:function(t,e,r,u){for(arguments.length<3&&(r=0),arguments.length<4&&(u=t.length);u>r;){var i=r+u>>>1;n.call(t,t[i],i)<e?r=i+1:u=i}return r},right:function(t,e,r,u){for(arguments.length<3&&(r=0),arguments.length<4&&(u=t.length);u>r;){var i=r+u>>>1;e<n.call(t,t[i],i)?u=i:r=i+1}return r}}};var ga=oa.bisector(function(n){return n});oa.bisectLeft=ga.left,oa.bisect=oa.bisectRight=ga.right,oa.shuffle=function(n){for(var t,e,r=n.length;r;)e=Math.random()*r--|0,t=n[r],n[r]=n[e],n[e]=t;return n},oa.permute=function(n,t){for(var e=[],r=-1,u=t.length;++r<u;)e[r]=n[t[r]];return e},oa.zip=function(){if(!(u=arguments.length))return[];for(var n=-1,e=oa.min(arguments,t),r=Array(e);++n<e;)for(var u,i=-1,a=r[n]=Array(u);++i<u;)a[i]=arguments[i][n];return r},oa.transpose=function(n){return oa.zip.apply(oa,n)},oa.keys=function(n){var t=[];for(var e in n)t.push(e);return t},oa.values=function(n){var t=[];for(var e in n)t.push(n[e]);return t},oa.entries=function(n){var t=[];for(var e in n)t.push({key:e,value:n[e]});return t},oa.merge=function(n){return Array.prototype.concat.apply([],n)},oa.range=function(n,t,r){if(arguments.length<3&&(r=1,arguments.length<2&&(t=n,n=0)),1/0===(t-n)/r)throw Error(\"infinite range\");var u,i=[],a=e(Math.abs(r)),o=-1;if(n*=a,t*=a,r*=a,0>r)for(;(u=n+r*++o)>t;)i.push(u/a);else for(;(u=n+r*++o)<t;)i.push(u/a);return i},oa.map=function(n){var t=new u;for(var e in n)t.set(e,n[e]);return t},r(u,{has:function(n){return pa+n in this},get:function(n){return this[pa+n]},set:function(n,t){return this[pa+n]=t},remove:function(n){return n=pa+n,n in this&&delete this[n]},keys:function(){var n=[];return this.forEach(function(t){n.push(t)}),n},values:function(){var n=[];return this.forEach(function(t,e){n.push(e)}),n},entries:function(){var n=[];return this.forEach(function(t,e){n.push({key:t,value:e})}),n},forEach:function(n){for(var t in this)t.charCodeAt(0)===da&&n.call(this,t.substring(1),this[t])}});var pa=\"\\0\",da=pa.charCodeAt(0);oa.nest=function(){function n(t,o,c){if(c>=a.length)return r?r.call(i,o):e?o.sort(e):o;for(var l,f,s,h,g=-1,p=o.length,d=a[c++],m=new u;++g<p;)(h=m.get(l=d(f=o[g])))?h.push(f):m.set(l,[f]);return t?(f=t(),s=function(e,r){f.set(e,n(t,r,c))}):(f={},s=function(e,r){f[e]=n(t,r,c)}),m.forEach(s),f}function t(n,e){if(e>=a.length)return n;var r=[],u=o[e++];return n.forEach(function(n,u){r.push({key:n,values:t(u,e)})}),u?r.sort(function(n,t){return u(n.key,t.key)}):r}var e,r,i={},a=[],o=[];return i.map=function(t,e){return n(e,t,0)},i.entries=function(e){return t(n(oa.map,e,0),0)},i.key=function(n){return a.push(n),i},i.sortKeys=function(n){return o[a.length-1]=n,i},i.sortValues=function(n){return e=n,i},i.rollup=function(n){return r=n,i},i},oa.set=function(n){var t=new i;if(n)for(var e=0;e<n.length;e++)t.add(n[e]);return t},r(i,{has:function(n){return pa+n in this},add:function(n){return this[pa+n]=!0,n},remove:function(n){return n=pa+n,n in this&&delete this[n]},values:function(){var n=[];return this.forEach(function(t){n.push(t)}),n},forEach:function(n){for(var t in this)t.charCodeAt(0)===da&&n.call(this,t.substring(1))}}),oa.behavior={},oa.rebind=function(n,t){for(var e,r=1,u=arguments.length;++r<u;)n[e=arguments[r]]=a(n,t,t[e]);return n},oa.dispatch=function(){for(var n=new o,t=-1,e=arguments.length;++t<e;)n[arguments[t]]=c(n);return n},o.prototype.on=function(n,t){var e=n.indexOf(\".\"),r=\"\";if(e>=0&&(r=n.substring(e+1),n=n.substring(0,e)),n)return arguments.length<2?this[n].on(r):this[n].on(r,t);if(arguments.length===2){if(null==t)for(n in this)this.hasOwnProperty(n)&&this[n].on(r,null);return this}},oa.event=null,oa.mouse=function(n){return h(n,f())};var ma=/WebKit/.test(la.navigator.userAgent)?-1:0,va=p;\n",
        "try{va(ca.documentElement.childNodes)[0].nodeType}catch(ya){va=g}var Ma=[].__proto__?function(n,t){n.__proto__=t}:function(n,t){for(var e in t)n[e]=t[e]};oa.touches=function(n,t){return arguments.length<2&&(t=f().touches),t?va(t).map(function(t){var e=h(n,t);return e.identifier=t.identifier,e}):[]},oa.behavior.drag=function(){function n(){this.on(\"mousedown.drag\",t).on(\"touchstart.drag\",t)}function t(){function n(){var n=o.parentNode;return null!=s?oa.touches(n).filter(function(n){return n.identifier===s})[0]:oa.mouse(n)}function t(){if(!o.parentNode)return u();var t=n(),e=t[0]-h[0],r=t[1]-h[1];g|=e|r,h=t,l(),c({type:\"drag\",x:t[0]+a[0],y:t[1]+a[1],dx:e,dy:r})}function u(){c({type:\"dragend\"}),g&&(l(),oa.event.target===f&&p.on(\"click.drag\",i,!0)),p.on(null!=s?\"touchmove.drag-\"+s:\"mousemove.drag\",null).on(null!=s?\"touchend.drag-\"+s:\"mouseup.drag\",null)}function i(){l(),p.on(\"click.drag\",null)}var a,o=this,c=e.of(o,arguments),f=oa.event.target,s=oa.event.touches?oa.event.changedTouches[0].identifier:null,h=n(),g=0,p=oa.select(la).on(null!=s?\"touchmove.drag-\"+s:\"mousemove.drag\",t).on(null!=s?\"touchend.drag-\"+s:\"mouseup.drag\",u,!0);r?(a=r.apply(o,arguments),a=[a.x-h[0],a.y-h[1]]):a=[0,0],null==s&&l(),c({type:\"dragstart\"})}var e=s(n,\"drag\",\"dragstart\",\"dragend\"),r=null;return n.origin=function(t){return arguments.length?(r=t,n):r},oa.rebind(n,e,\"on\")};var xa=function(n,t){return t.querySelector(n)},ba=function(n,t){return t.querySelectorAll(n)},_a=ca.documentElement,wa=_a.matchesSelector||_a.webkitMatchesSelector||_a.mozMatchesSelector||_a.msMatchesSelector||_a.oMatchesSelector,Sa=function(n,t){return wa.call(n,t)};\"function\"==typeof Sizzle&&(xa=function(n,t){return Sizzle(n,t)[0]||null},ba=function(n,t){return Sizzle.uniqueSort(Sizzle(n,t))},Sa=Sizzle.matchesSelector);var Ea=[];oa.selection=function(){return Ta},oa.selection.prototype=Ea,Ea.select=function(n){var t,e,r,u,i=[];\"function\"!=typeof n&&(n=m(n));for(var a=-1,o=this.length;++a<o;){i.push(t=[]),t.parentNode=(r=this[a]).parentNode;for(var c=-1,l=r.length;++c<l;)(u=r[c])?(t.push(e=n.call(u,u.__data__,c)),e&&\"__data__\"in u&&(e.__data__=u.__data__)):t.push(null)}return d(i)},Ea.selectAll=function(n){var t,e,r=[];\"function\"!=typeof n&&(n=v(n));for(var u=-1,i=this.length;++u<i;)for(var a=this[u],o=-1,c=a.length;++o<c;)(e=a[o])&&(r.push(t=va(n.call(e,e.__data__,o))),t.parentNode=e);return d(r)};var ka={svg:\"http://www.w3.org/2000/svg\",xhtml:\"http://www.w3.org/1999/xhtml\",xlink:\"http://www.w3.org/1999/xlink\",xml:\"http://www.w3.org/XML/1998/namespace\",xmlns:\"http://www.w3.org/2000/xmlns/\"};oa.ns={prefix:ka,qualify:function(n){var t=n.indexOf(\":\"),e=n;return t>=0&&(e=n.substring(0,t),n=n.substring(t+1)),ka.hasOwnProperty(e)?{space:ka[e],local:n}:n}},Ea.attr=function(n,t){if(arguments.length<2){if(\"string\"==typeof n){var e=this.node();return n=oa.ns.qualify(n),n.local?e.getAttributeNS(n.space,n.local):e.getAttribute(n)}for(t in n)this.each(y(t,n[t]));return this}return this.each(y(n,t))},oa.requote=function(n){return n.replace(Aa,\"\\\\$&\")};var Aa=/[\\\\\\^\\$\\*\\+\\?\\|\\[\\]\\(\\)\\.\\{\\}]/g;Ea.classed=function(n,t){if(arguments.length<2){if(\"string\"==typeof n){var e=this.node(),r=(n=n.trim().split(/^|\\s+/g)).length,u=-1;if(t=e.classList){for(;++u<r;)if(!t.contains(n[u]))return!1}else for(t=e.getAttribute(\"class\");++u<r;)if(!x(n[u]).test(t))return!1;return!0}for(t in n)this.each(_(t,n[t]));return this}return this.each(_(n,t))},Ea.style=function(n,t,e){var r=arguments.length;if(3>r){if(\"string\"!=typeof n){2>r&&(t=\"\");for(e in n)this.each(S(e,n[e],t));return this}if(2>r)return la.getComputedStyle(this.node(),null).getPropertyValue(n);e=\"\"}return this.each(S(n,t,e))},Ea.property=function(n,t){if(arguments.length<2){if(\"string\"==typeof n)return this.node()[n];for(t in n)this.each(E(t,n[t]));return this}return this.each(E(n,t))},Ea.text=function(n){return arguments.length?this.each(\"function\"==typeof n?function(){var t=n.apply(this,arguments);this.textContent=null==t?\"\":t}:null==n?function(){this.textContent=\"\"}:function(){this.textContent=n}):this.node().textContent},Ea.html=function(n){return arguments.length?this.each(\"function\"==typeof n?function(){var t=n.apply(this,arguments);this.innerHTML=null==t?\"\":t}:null==n?function(){this.innerHTML=\"\"}:function(){this.innerHTML=n}):this.node().innerHTML},Ea.append=function(n){function t(){return this.appendChild(ca.createElementNS(this.namespaceURI,n))}function e(){return this.appendChild(ca.createElementNS(n.space,n.local))}return n=oa.ns.qualify(n),this.select(n.local?e:t)},Ea.insert=function(n,t){function e(e,r){return this.insertBefore(ca.createElementNS(this.namespaceURI,n),t.call(this,e,r))}function r(e,r){return this.insertBefore(ca.createElementNS(n.space,n.local),t.call(this,e,r))}return n=oa.ns.qualify(n),\"function\"!=typeof t&&(t=m(t)),this.select(n.local?r:e)},Ea.remove=function(){return this.each(function(){var n=this.parentNode;n&&n.removeChild(this)})},Ea.data=function(n,t){function e(n,e){var r,i,a,o=n.length,s=e.length,h=Math.min(o,s),g=Array(s),p=Array(s),d=Array(o);if(t){var m,v=new u,y=new u,M=[];for(r=-1;++r<o;)m=t.call(i=n[r],i.__data__,r),v.has(m)?d[r]=i:v.set(m,i),M.push(m);for(r=-1;++r<s;)m=t.call(e,a=e[r],r),(i=v.get(m))?(g[r]=i,i.__data__=a):y.has(m)||(p[r]=k(a)),y.set(m,a),v.remove(m);for(r=-1;++r<o;)v.has(M[r])&&(d[r]=n[r])}else{for(r=-1;++r<h;)i=n[r],a=e[r],i?(i.__data__=a,g[r]=i):p[r]=k(a);for(;s>r;++r)p[r]=k(e[r]);for(;o>r;++r)d[r]=n[r]}p.update=g,p.parentNode=g.parentNode=d.parentNode=n.parentNode,c.push(p),l.push(g),f.push(d)}var r,i,a=-1,o=this.length;if(!arguments.length){for(n=Array(o=(r=this[0]).length);++a<o;)(i=r[a])&&(n[a]=i.__data__);return n}var c=j([]),l=d([]),f=d([]);if(\"function\"==typeof n)for(;++a<o;)e(r=this[a],n.call(r,r.parentNode.__data__,a));else for(;++a<o;)e(r=this[a],n);return l.enter=function(){return c},l.exit=function(){return f},l},Ea.datum=function(n){return arguments.length?this.property(\"__data__\",n):this.property(\"__data__\")},Ea.filter=function(n){var t,e,r,u=[];\"function\"!=typeof n&&(n=A(n));for(var i=0,a=this.length;a>i;i++){u.push(t=[]),t.parentNode=(e=this[i]).parentNode;for(var o=0,c=e.length;c>o;o++)(r=e[o])&&n.call(r,r.__data__,o)&&t.push(r)}return d(u)},Ea.order=function(){for(var n=-1,t=this.length;++n<t;)for(var e,r=this[n],u=r.length-1,i=r[u];--u>=0;)(e=r[u])&&(i&&i!==e.nextSibling&&i.parentNode.insertBefore(e,i),i=e);return this},Ea.sort=function(n){n=q.apply(this,arguments);for(var t=-1,e=this.length;++t<e;)this[t].sort(n);return this.order()},Ea.on=function(n,t,e){var r=arguments.length;if(3>r){if(\"string\"!=typeof n){2>r&&(t=!1);for(e in n)this.each(T(e,n[e],t));return this}if(2>r)return(r=this.node()[\"__on\"+n])&&r._;e=!1}return this.each(T(n,t,e))};var qa=oa.map({mouseenter:\"mouseover\",mouseleave:\"mouseout\"});qa.forEach(function(n){\"on\"+n in ca&&qa.remove(n)}),Ea.each=function(n){return D(this,function(t,e,r){n.call(t,t.__data__,e,r)})},Ea.call=function(n){var t=va(arguments);return n.apply(t[0]=this,t),this},Ea.empty=function(){return!this.node()},Ea.node=function(){for(var n=0,t=this.length;t>n;n++)for(var e=this[n],r=0,u=e.length;u>r;r++){var i=e[r];if(i)return i}return null};var Na=[];oa.selection.enter=j,oa.selection.enter.prototype=Na,Na.append=Ea.append,Na.insert=Ea.insert,Na.empty=Ea.empty,Na.node=Ea.node,Na.select=function(n){for(var t,e,r,u,i,a=[],o=-1,c=this.length;++o<c;){r=(u=this[o]).update,a.push(t=[]),t.parentNode=u.parentNode;for(var l=-1,f=u.length;++l<f;)(i=u[l])?(t.push(r[l]=e=n.call(u.parentNode,i.__data__,l)),e.__data__=i.__data__):t.push(null)}return d(a)},Ea.transition=function(){var n,t,e=ec||++ac,r=[],u=Object.create(oc);u.time=Date.now();for(var i=-1,a=this.length;++i<a;){r.push(n=[]);for(var o=this[i],c=-1,l=o.length;++c<l;)(t=o[c])&&Mi(t,c,e,u),n.push(t)}return mi(r,e)};var Ta=d([[ca]]);Ta[0].parentNode=_a,oa.select=function(n){return\"string\"==typeof n?Ta.select(n):d([[n]])},oa.selectAll=function(n){return\"string\"==typeof n?Ta.selectAll(n):d([va(n)])},oa.behavior.zoom=function(){function n(){this.on(\"mousedown.zoom\",o).on(\"mousemove.zoom\",f).on(Da+\".zoom\",c).on(\"dblclick.zoom\",h).on(\"touchstart.zoom\",g).on(\"touchmove.zoom\",p).on(\"touchend.zoom\",g)}function t(n){return[(n[0]-_[0])/w,(n[1]-_[1])/w]}function e(n){return[n[0]*w+_[0],n[1]*w+_[1]]}function r(n){w=Math.max(S[0],Math.min(S[1],n))}function u(n,t){t=e(t),_[0]+=n[0]-t[0],_[1]+=n[1]-t[1]}function i(){y&&y.domain(v.range().map(function(n){return(n-_[0])/w}).map(v.invert)),x&&x.domain(M.range().map(function(n){return(n-_[1])/w}).map(M.invert))}function a(n){i(),oa.event.preventDefault(),n({type:\"zoom\",scale:w,translate:_})}function o(){function n(){f=1,u(oa.mouse(i),h),a(o)}function e(){f&&l(),s.on(\"mousemove.zoom\",null).on(\"mouseup.zoom\",null),f&&oa.event.target===c&&s.on(\"click.zoom\",r,!0)}function r(){l(),s.on(\"click.zoom\",null)}var i=this,o=E.of(i,arguments),c=oa.event.target,f=0,s=oa.select(la).on(\"mousemove.zoom\",n).on(\"mouseup.zoom\",e),h=t(oa.mouse(i));la.focus(),l()}function c(){d||(d=t(oa.mouse(this))),r(Math.pow(2,Ca()*.002)*w),u(oa.mouse(this),d),a(E.of(this,arguments))}function f(){d=null}function h(){var n=oa.mouse(this),e=t(n),i=Math.log(w)/Math.LN2;r(Math.pow(2,oa.event.shiftKey?Math.ceil(i)-1:Math.floor(i)+1)),u(n,e),a(E.of(this,arguments))}function g(){var n=oa.touches(this),e=Date.now();if(m=w,d={},n.forEach(function(n){d[n.identifier]=t(n)}),l(),n.length===1){if(500>e-b){var i=n[0],o=t(n[0]);r(2*w),u(i,o),a(E.of(this,arguments))}b=e}}function p(){var n=oa.touches(this),t=n[0],e=d[t.identifier];if(i=n[1]){var i,o=d[i.identifier];t=[(t[0]+i[0])/2,(t[1]+i[1])/2],e=[(e[0]+o[0])/2,(e[1]+o[1])/2],r(oa.event.scale*m)}u(t,e),b=null,a(E.of(this,arguments))}var d,m,v,y,M,x,b,_=[0,0],w=1,S=za,E=s(n,\"zoom\");return n.translate=function(t){return arguments.length?(_=t.map(Number),i(),n):_},n.scale=function(t){return arguments.length?(w=+t,i(),n):w},n.scaleExtent=function(t){return arguments.length?(S=null==t?za:t.map(Number),n):S},n.x=function(t){return arguments.length?(y=t,v=t.copy(),_=[0,0],w=1,n):y},n.y=function(t){return arguments.length?(x=t,M=t.copy(),_=[0,0],w=1,n):x},oa.rebind(n,E,\"on\")};var Ca,za=[0,1/0],Da=\"onwheel\"in ca?(Ca=function(){return-oa.event.deltaY*(oa.event.deltaMode?120:1)},\"wheel\"):\"onmousewheel\"in ca?(Ca=function(){return oa.event.wheelDelta},\"mousewheel\"):(Ca=function(){return-oa.event.detail},\"MozMousePixelScroll\");L.prototype.toString=function(){return this.rgb()+\"\"},oa.hsl=function(n,t,e){return arguments.length===1?n instanceof H?F(n.h,n.s,n.l):ut(\"\"+n,it,F):F(+n,+t,+e)};var ja=H.prototype=new L;ja.brighter=function(n){return n=Math.pow(.7,arguments.length?n:1),F(this.h,this.s,this.l/n)},ja.darker=function(n){return n=Math.pow(.7,arguments.length?n:1),F(this.h,this.s,n*this.l)},ja.rgb=function(){return P(this.h,this.s,this.l)};var La=Math.PI,Fa=1e-6,Ha=La/180,Pa=180/La;oa.hcl=function(n,t,e){return arguments.length===1?n instanceof Z?X(n.h,n.c,n.l):n instanceof J?K(n.l,n.a,n.b):K((n=at((n=oa.rgb(n)).r,n.g,n.b)).l,n.a,n.b):X(+n,+t,+e)};var Ra=Z.prototype=new L;Ra.brighter=function(n){return X(this.h,this.c,Math.min(100,this.l+Oa*(arguments.length?n:1)))},Ra.darker=function(n){return X(this.h,this.c,Math.max(0,this.l-Oa*(arguments.length?n:1)))},Ra.rgb=function(){return B(this.h,this.c,this.l).rgb()},oa.lab=function(n,t,e){return arguments.length===1?n instanceof J?$(n.l,n.a,n.b):n instanceof Z?B(n.l,n.c,n.h):at((n=oa.rgb(n)).r,n.g,n.b):$(+n,+t,+e)};var Oa=18,Ya=.95047,Ua=1,Ia=1.08883,Va=J.prototype=new L;Va.brighter=function(n){return $(Math.min(100,this.l+Oa*(arguments.length?n:1)),this.a,this.b)},Va.darker=function(n){return $(Math.max(0,this.l-Oa*(arguments.length?n:1)),this.a,this.b)},Va.rgb=function(){return G(this.l,this.a,this.b)},oa.rgb=function(n,t,e){return arguments.length===1?n instanceof et?tt(n.r,n.g,n.b):ut(\"\"+n,tt,P):tt(~~n,~~t,~~e)};var Xa=et.prototype=new L;Xa.brighter=function(n){n=Math.pow(.7,arguments.length?n:1);var t=this.r,e=this.g,r=this.b,u=30;return t||e||r?(t&&u>t&&(t=u),e&&u>e&&(e=u),r&&u>r&&(r=u),tt(Math.min(255,Math.floor(t/n)),Math.min(255,Math.floor(e/n)),Math.min(255,Math.floor(r/n)))):tt(u,u,u)},Xa.darker=function(n){return n=Math.pow(.7,arguments.length?n:1),tt(Math.floor(n*this.r),Math.floor(n*this.g),Math.floor(n*this.b))},Xa.hsl=function(){return it(this.r,this.g,this.b)},Xa.toString=function(){return\"#\"+rt(this.r)+rt(this.g)+rt(this.b)};var Za=oa.map({aliceblue:\"#f0f8ff\",antiquewhite:\"#faebd7\",aqua:\"#00ffff\",aquamarine:\"#7fffd4\",azure:\"#f0ffff\",beige:\"#f5f5dc\",bisque:\"#ffe4c4\",black:\"#000000\",blanchedalmond:\"#ffebcd\",blue:\"#0000ff\",blueviolet:\"#8a2be2\",brown:\"#a52a2a\",burlywood:\"#deb887\",cadetblue:\"#5f9ea0\",chartreuse:\"#7fff00\",chocolate:\"#d2691e\",coral:\"#ff7f50\",cornflowerblue:\"#6495ed\",cornsilk:\"#fff8dc\",crimson:\"#dc143c\",cyan:\"#00ffff\",darkblue:\"#00008b\",darkcyan:\"#008b8b\",darkgoldenrod:\"#b8860b\",darkgray:\"#a9a9a9\",darkgreen:\"#006400\",darkgrey:\"#a9a9a9\",darkkhaki:\"#bdb76b\",darkmagenta:\"#8b008b\",darkolivegreen:\"#556b2f\",darkorange:\"#ff8c00\",darkorchid:\"#9932cc\",darkred:\"#8b0000\",darksalmon:\"#e9967a\",darkseagreen:\"#8fbc8f\",darkslateblue:\"#483d8b\",darkslategray:\"#2f4f4f\",darkslategrey:\"#2f4f4f\",darkturquoise:\"#00ced1\",darkviolet:\"#9400d3\",deeppink:\"#ff1493\",deepskyblue:\"#00bfff\",dimgray:\"#696969\",dimgrey:\"#696969\",dodgerblue:\"#1e90ff\",firebrick:\"#b22222\",floralwhite:\"#fffaf0\",forestgreen:\"#228b22\",fuchsia:\"#ff00ff\",gainsboro:\"#dcdcdc\",ghostwhite:\"#f8f8ff\",gold:\"#ffd700\",goldenrod:\"#daa520\",gray:\"#808080\",green:\"#008000\",greenyellow:\"#adff2f\",grey:\"#808080\",honeydew:\"#f0fff0\",hotpink:\"#ff69b4\",indianred:\"#cd5c5c\",indigo:\"#4b0082\",ivory:\"#fffff0\",khaki:\"#f0e68c\",lavender:\"#e6e6fa\",lavenderblush:\"#fff0f5\",lawngreen:\"#7cfc00\",lemonchiffon:\"#fffacd\",lightblue:\"#add8e6\",lightcoral:\"#f08080\",lightcyan:\"#e0ffff\",lightgoldenrodyellow:\"#fafad2\",lightgray:\"#d3d3d3\",lightgreen:\"#90ee90\",lightgrey:\"#d3d3d3\",lightpink:\"#ffb6c1\",lightsalmon:\"#ffa07a\",lightseagreen:\"#20b2aa\",lightskyblue:\"#87cefa\",lightslategray:\"#778899\",lightslategrey:\"#778899\",lightsteelblue:\"#b0c4de\",lightyellow:\"#ffffe0\",lime:\"#00ff00\",limegreen:\"#32cd32\",linen:\"#faf0e6\",magenta:\"#ff00ff\",maroon:\"#800000\",mediumaquamarine:\"#66cdaa\",mediumblue:\"#0000cd\",mediumorchid:\"#ba55d3\",mediumpurple:\"#9370db\",mediumseagreen:\"#3cb371\",mediumslateblue:\"#7b68ee\",mediumspringgreen:\"#00fa9a\",mediumturquoise:\"#48d1cc\",mediumvioletred:\"#c71585\",midnightblue:\"#191970\",mintcream:\"#f5fffa\",mistyrose:\"#ffe4e1\",moccasin:\"#ffe4b5\",navajowhite:\"#ffdead\",navy:\"#000080\",oldlace:\"#fdf5e6\",olive:\"#808000\",olivedrab:\"#6b8e23\",orange:\"#ffa500\",orangered:\"#ff4500\",orchid:\"#da70d6\",palegoldenrod:\"#eee8aa\",palegreen:\"#98fb98\",paleturquoise:\"#afeeee\",palevioletred:\"#db7093\",papayawhip:\"#ffefd5\",peachpuff:\"#ffdab9\",peru:\"#cd853f\",pink:\"#ffc0cb\",plum:\"#dda0dd\",powderblue:\"#b0e0e6\",purple:\"#800080\",red:\"#ff0000\",rosybrown:\"#bc8f8f\",royalblue:\"#4169e1\",saddlebrown:\"#8b4513\",salmon:\"#fa8072\",sandybrown:\"#f4a460\",seagreen:\"#2e8b57\",seashell:\"#fff5ee\",sienna:\"#a0522d\",silver:\"#c0c0c0\",skyblue:\"#87ceeb\",slateblue:\"#6a5acd\",slategray:\"#708090\",slategrey:\"#708090\",snow:\"#fffafa\",springgreen:\"#00ff7f\",steelblue:\"#4682b4\",tan:\"#d2b48c\",teal:\"#008080\",thistle:\"#d8bfd8\",tomato:\"#ff6347\",turquoise:\"#40e0d0\",violet:\"#ee82ee\",wheat:\"#f5deb3\",white:\"#ffffff\",whitesmoke:\"#f5f5f5\",yellow:\"#ffff00\",yellowgreen:\"#9acd32\"});Za.forEach(function(n,t){Za.set(n,ut(t,tt,P))}),oa.functor=lt,oa.xhr=function(n,t,e){function r(){var n=c.status;!n&&c.responseText||n>=200&&300>n||304===n?i.load.call(u,o.call(u,c)):i.error.call(u,c)}var u={},i=oa.dispatch(\"progress\",\"load\",\"error\"),a={},o=ft,c=new(la.XDomainRequest&&/^(http(s)?:)?\\/\\//.test(n)?XDomainRequest:XMLHttpRequest);return\"onload\"in c?c.onload=c.onerror=r:c.onreadystatechange=function(){c.readyState>3&&r()},c.onprogress=function(n){var t=oa.event;oa.event=n;try{i.progress.call(u,c)}finally{oa.event=t}},u.header=function(n,t){return n=(n+\"\").toLowerCase(),arguments.length<2?a[n]:(null==t?delete a[n]:a[n]=t+\"\",u)},u.mimeType=function(n){return arguments.length?(t=null==n?null:n+\"\",u):t},u.response=function(n){return o=n,u},[\"get\",\"post\"].forEach(function(n){u[n]=function(){return u.send.apply(u,[n].concat(va(arguments)))}}),u.send=function(e,r,i){if(arguments.length===2&&\"function\"==typeof r&&(i=r,r=null),c.open(e,n,!0),null==t||\"accept\"in a||(a.accept=t+\",*/*\"),c.setRequestHeader)for(var o in a)c.setRequestHeader(o,a[o]);return null!=t&&c.overrideMimeType&&c.overrideMimeType(t),null!=i&&u.on(\"error\",i).on(\"load\",function(n){i(null,n)}),c.send(null==r?null:r),u},u.abort=function(){return c.abort(),u},oa.rebind(u,i,\"on\"),arguments.length===2&&\"function\"==typeof t&&(e=t,t=null),null==e?u:u.get(st(e))},oa.csv=ht(\",\",\"text/csv\"),oa.tsv=ht(\"\t\",\"text/tab-separated-values\");var Ba,$a,Ja=0,Ga={},Ka=null;oa.timer=function(n,t,e){if(arguments.length<3){if(arguments.length<2)t=0;else if(!isFinite(t))return;e=Date.now()}var r=Ga[n.id];r&&r.callback===n?(r.then=e,r.delay=t):Ga[n.id=++Ja]=Ka={callback:n,then:e,delay:t,next:Ka},Ba||($a=clearTimeout($a),Ba=1,Wa(gt))},oa.timer.flush=function(){for(var n,t=Date.now(),e=Ka;e;)n=t-e.then,e.delay||(e.flush=e.callback(n)),e=e.next;pt()};var Wa=la.requestAnimationFrame||la.webkitRequestAnimationFrame||la.mozRequestAnimationFrame||la.oRequestAnimationFrame||la.msRequestAnimationFrame||function(n){setTimeout(n,17)},Qa=\".\",no=\",\",to=[3,3],eo=[\"y\",\"z\",\"a\",\"f\",\"p\",\"n\",\"\u00b5\",\"m\",\"\",\"k\",\"M\",\"G\",\"T\",\"P\",\"E\",\"Z\",\"Y\"].map(dt);oa.formatPrefix=function(n,t){var e=0;return n&&(0>n&&(n*=-1),t&&(n=oa.round(n,mt(n,t))),e=1+Math.floor(1e-12+Math.log(n)/Math.LN10),e=Math.max(-24,Math.min(24,Math.floor((0>=e?e+1:e-1)/3)*3))),eo[8+e/3]},oa.round=function(n,t){return t?Math.round(n*(t=Math.pow(10,t)))/t:Math.round(n)},oa.format=function(n){var t=ro.exec(n),e=t[1]||\" \",r=t[2]||\">\",u=t[3]||\"\",i=t[4]||\"\",a=t[5],o=+t[6],c=t[7],l=t[8],f=t[9],s=1,h=\"\",g=!1;switch(l&&(l=+l.substring(1)),(a||\"0\"===e&&\"=\"===r)&&(a=e=\"0\",r=\"=\",c&&(o-=Math.floor((o-1)/4))),f){case\"n\":c=!0,f=\"g\";break;case\"%\":s=100,h=\"%\",f=\"f\";break;case\"p\":s=100,h=\"%\",f=\"r\";break;case\"b\":case\"o\":case\"x\":case\"X\":i&&(i=\"0\"+f.toLowerCase());case\"c\":case\"d\":g=!0,l=0;break;case\"s\":s=-1,f=\"r\"}\"#\"===i&&(i=\"\"),\"r\"!=f||l||(f=\"g\"),null!=l&&(\"g\"==f?l=Math.max(1,Math.min(21,l)):(\"e\"==f||\"f\"==f)&&(l=Math.max(0,Math.min(20,l)))),f=uo.get(f)||vt;var p=a&&c;return function(n){if(g&&n%1)return\"\";var t=0>n||0===n&&0>1/n?(n=-n,\"-\"):u;if(0>s){var d=oa.formatPrefix(n,l);n=d.scale(n),h=d.symbol}else n*=s;n=f(n,l),!a&&c&&(n=io(n));var m=i.length+n.length+(p?0:t.length),v=o>m?Array(m=o-m+1).join(e):\"\";return p&&(n=io(v+n)),Qa&&n.replace(\".\",Qa),t+=i,(\"<\"===r?t+n+v:\">\"===r?v+t+n:\"^\"===r?v.substring(0,m>>=1)+t+n+v.substring(m):t+(p?n:v+n))+h}};var ro=/(?:([^{])?([<>=^]))?([+\\- ])?(#)?(0)?(\\d+)?(,)?(\\.-?\\d+)?([a-z%])?/i,uo=oa.map({b:function(n){return n.toString(2)},c:function(n){return String.fromCharCode(n)},o:function(n){return n.toString(8)},x:function(n){return n.toString(16)},X:function(n){return n.toString(16).toUpperCase()},g:function(n,t){return n.toPrecision(t)},e:function(n,t){return n.toExponential(t)},f:function(n,t){return n.toFixed(t)},r:function(n,t){return(n=oa.round(n,mt(n,t))).toFixed(Math.max(0,Math.min(20,mt(n*(1+1e-15),t))))}}),io=ft;if(to){var ao=to.length;io=function(n){for(var t=n.lastIndexOf(\".\"),e=t>=0?\".\"+n.substring(t+1):(t=n.length,\"\"),r=[],u=0,i=to[0];t>0&&i>0;)r.push(n.substring(t-=i,t+i)),i=to[u=(u+1)%ao];return r.reverse().join(no||\"\")+e}}oa.geo={},oa.geo.stream=function(n,t){oo.hasOwnProperty(n.type)?oo[n.type](n,t):yt(n,t)};var oo={Feature:function(n,t){yt(n.geometry,t)},FeatureCollection:function(n,t){for(var e=n.features,r=-1,u=e.length;++r<u;)yt(e[r].geometry,t)}},co={Sphere:function(n,t){t.sphere()},Point:function(n,t){var e=n.coordinates;t.point(e[0],e[1])},MultiPoint:function(n,t){for(var e,r=n.coordinates,u=-1,i=r.length;++u<i;)e=r[u],t.point(e[0],e[1])},LineString:function(n,t){Mt(n.coordinates,t,0)},MultiLineString:function(n,t){for(var e=n.coordinates,r=-1,u=e.length;++r<u;)Mt(e[r],t,0)},Polygon:function(n,t){xt(n.coordinates,t)},MultiPolygon:function(n,t){for(var e=n.coordinates,r=-1,u=e.length;++r<u;)xt(e[r],t)},GeometryCollection:function(n,t){for(var e=n.geometries,r=-1,u=e.length;++r<u;)yt(e[r],t)}};oa.geo.area=function(n){return lo=0,oa.geo.stream(n,ho),lo};var lo,fo,so,ho={sphere:function(){lo+=4*La},point:N,lineStart:N,lineEnd:N,polygonStart:function(){fo=1,so=0,ho.lineStart=bt},polygonEnd:function(){var n=2*Math.atan2(so,fo);lo+=0>n?4*La+n:n,ho.lineStart=ho.lineEnd=ho.point=N}};oa.geo.bounds=_t(ft),oa.geo.centroid=function(n){go=po=mo=vo=yo=0,oa.geo.stream(n,Mo);var t;return po&&Math.abs(t=Math.sqrt(mo*mo+vo*vo+yo*yo))>Fa?[Math.atan2(vo,mo)*Pa,Math.asin(Math.max(-1,Math.min(1,yo/t)))*Pa]:void 0};var go,po,mo,vo,yo,Mo={sphere:function(){2>go&&(go=2,po=mo=vo=yo=0)},point:wt,lineStart:Et,lineEnd:kt,polygonStart:function(){2>go&&(go=2,po=mo=vo=yo=0),Mo.lineStart=St},polygonEnd:function(){Mo.lineStart=Et}},xo=Pt(Dt,It,Xt),bo=1e9;oa.geo.projection=Kt,oa.geo.projectionMutator=Wt,(oa.geo.equirectangular=function(){return Kt(ne)}).raw=ne.invert=ne,oa.geo.rotation=function(n){function t(t){return t=n(t[0]*Ha,t[1]*Ha),t[0]*=Pa,t[1]*=Pa,t}return n=te(n[0]%360*Ha,n[1]*Ha,n.length>2?n[2]*Ha:0),t.invert=function(t){return t=n.invert(t[0]*Ha,t[1]*Ha),t[0]*=Pa,t[1]*=Pa,t},t},oa.geo.circle=function(){function n(){var n=\"function\"==typeof r?r.apply(this,arguments):r,t=te(-n[0]*Ha,-n[1]*Ha,0).invert,u=[];return e(null,null,1,{point:function(n,e){u.push(n=t(n,e)),n[0]*=Pa,n[1]*=Pa}}),{type:\"Polygon\",coordinates:[u]}}var t,e,r=[0,0],u=6;return n.origin=function(t){return arguments.length?(r=t,n):r},n.angle=function(r){return arguments.length?(e=ie((t=+r)*Ha,u*Ha),n):t},n.precision=function(r){return arguments.length?(e=ie(t*Ha,(u=+r)*Ha),n):u},n.angle(90)},oa.geo.distance=function(n,t){var e,r=(t[0]-n[0])*Ha,u=n[1]*Ha,i=t[1]*Ha,a=Math.sin(r),o=Math.cos(r),c=Math.sin(u),l=Math.cos(u),f=Math.sin(i),s=Math.cos(i);return Math.atan2(Math.sqrt((e=s*a)*e+(e=l*f-c*s*o)*e),c*f+l*s*o)},oa.geo.graticule=function(){function n(){return{type:\"MultiLineString\",coordinates:t()}}function t(){return oa.range(Math.ceil(i/m)*m,u,m).map(h).concat(oa.range(Math.ceil(l/v)*v,c,v).map(g)).concat(oa.range(Math.ceil(r/p)*p,e,p).filter(function(n){return Math.abs(n%m)>Fa}).map(f)).concat(oa.range(Math.ceil(o/d)*d,a,d).filter(function(n){return Math.abs(n%v)>Fa}).map(s))}var e,r,u,i,a,o,c,l,f,s,h,g,p=10,d=p,m=90,v=360,y=2.5;return n.lines=function(){return t().map(function(n){return{type:\"LineString\",coordinates:n}})},n.outline=function(){return{type:\"Polygon\",coordinates:[h(i).concat(g(c).slice(1),h(u).reverse().slice(1),g(l).reverse().slice(1))]}},n.extent=function(t){return arguments.length?n.majorExtent(t).minorExtent(t):n.minorExtent()},n.majorExtent=function(t){return arguments.length?(i=+t[0][0],u=+t[1][0],l=+t[0][1],c=+t[1][1],i>u&&(t=i,i=u,u=t),l>c&&(t=l,l=c,c=t),n.precision(y)):[[i,l],[u,c]]},n.minorExtent=function(t){return arguments.length?(r=+t[0][0],e=+t[1][0],o=+t[0][1],a=+t[1][1],r>e&&(t=r,r=e,e=t),o>a&&(t=o,o=a,a=t),n.precision(y)):[[r,o],[e,a]]},n.step=function(t){return arguments.length?n.majorStep(t).minorStep(t):n.minorStep()},n.majorStep=function(t){return arguments.length?(m=+t[0],v=+t[1],n):[m,v]},n.minorStep=function(t){return arguments.length?(p=+t[0],d=+t[1],n):[p,d]},n.precision=function(t){return arguments.length?(y=+t,f=oe(o,a,90),s=ce(r,e,y),h=oe(l,c,90),g=ce(i,u,y),n):y},n.majorExtent([[-180,-90+Fa],[180,90-Fa]]).minorExtent([[-180,-80-Fa],[180,80+Fa]])},oa.geo.greatArc=function(){function n(){return{type:\"LineString\",coordinates:[t||r.apply(this,arguments),e||u.apply(this,arguments)]}}var t,e,r=le,u=fe;return n.distance=function(){return oa.geo.distance(t||r.apply(this,arguments),e||u.apply(this,arguments))},n.source=function(e){return arguments.length?(r=e,t=\"function\"==typeof e?null:e,n):r},n.target=function(t){return arguments.length?(u=t,e=\"function\"==typeof t?null:t,n):u},n.precision=function(){return arguments.length?n:0},n},oa.geo.interpolate=function(n,t){return se(n[0]*Ha,n[1]*Ha,t[0]*Ha,t[1]*Ha)},oa.geo.length=function(n){return _o=0,oa.geo.stream(n,wo),_o};var _o,wo={sphere:N,point:N,lineStart:he,lineEnd:N,polygonStart:N,polygonEnd:N};(oa.geo.conicEqualArea=function(){return ge(pe)}).raw=pe,oa.geo.albersUsa=function(){function n(n){return t(n)(n)}function t(n){var t=n[0],e=n[1];return e>50?a:-140>t?o:21>e?c:i}var e,r,u,i=oa.geo.conicEqualArea().rotate([98,0]).center([0,38]).parallels([29.5,45.5]),a=oa.geo.conicEqualArea().rotate([160,0]).center([0,60]).parallels([55,65]),o=oa.geo.conicEqualArea().rotate([160,0]).center([0,20]).parallels([8,18]),c=oa.geo.conicEqualArea().rotate([60,0]).center([0,10]).parallels([8,18]);return n.invert=function(n){return e(n)||r(n)||u(n)||i.invert(n)},n.scale=function(t){return arguments.length?(i.scale(t),a.scale(.6*t),o.scale(t),c.scale(1.5*t),n.translate(i.translate())):i.scale()},n.translate=function(t){if(!arguments.length)return i.translate();var l=i.scale(),f=t[0],s=t[1];return i.translate(t),a.translate([f-.4*l,s+.17*l]),o.translate([f-.19*l,s+.2*l]),c.translate([f+.58*l,s+.43*l]),e=de(a,[[-180,50],[-130,72]]),r=de(o,[[-164,18],[-154,24]]),u=de(c,[[-67.5,17.5],[-65,19]]),n},n.scale(1e3)};var So,Eo,ko={point:N,lineStart:N,lineEnd:N,polygonStart:function(){Eo=0,ko.lineStart=me},polygonEnd:function(){ko.lineStart=ko.lineEnd=ko.point=N,So+=Math.abs(Eo/2)}},Ao={point:ye,lineStart:Me,lineEnd:xe,polygonStart:function(){Ao.lineStart=be},polygonEnd:function(){Ao.point=ye,Ao.lineStart=Me,Ao.lineEnd=xe}};oa.geo.path=function(){function n(n){return n&&oa.geo.stream(n,r(u.pointRadius(\"function\"==typeof i?+i.apply(this,arguments):i))),u.result()}var t,e,r,u,i=4.5;return n.area=function(n){return So=0,oa.geo.stream(n,r(ko)),So},n.centroid=function(n){return go=mo=vo=yo=0,oa.geo.stream(n,r(Ao)),yo?[mo/yo,vo/yo]:void 0},n.bounds=function(n){return _t(r)(n)},n.projection=function(e){return arguments.length?(r=(t=e)?e.stream||Se(e):ft,n):t},n.context=function(t){return arguments.length?(u=(e=t)==null?new ve:new _e(t),n):e},n.pointRadius=function(t){return arguments.length?(i=\"function\"==typeof t?t:+t,n):i},n.projection(oa.geo.albersUsa()).context(null)},oa.geo.albers=function(){return oa.geo.conicEqualArea().parallels([29.5,45.5]).rotate([98,0]).center([0,38]).scale(1e3)};var qo=Ee(function(n){return Math.sqrt(2/(1+n))},function(n){return 2*Math.asin(n/2)});(oa.geo.azimuthalEqualArea=function(){return Kt(qo)}).raw=qo;var No=Ee(function(n){var t=Math.acos(n);return t&&t/Math.sin(t)},ft);(oa.geo.azimuthalEquidistant=function(){return Kt(No)}).raw=No,(oa.geo.conicConformal=function(){return ge(ke)}).raw=ke,(oa.geo.conicEquidistant=function(){return ge(Ae)}).raw=Ae;var To=Ee(function(n){return 1/n},Math.atan);(oa.geo.gnomonic=function(){return Kt(To)}).raw=To,qe.invert=function(n,t){return[n,2*Math.atan(Math.exp(t))-La/2]},(oa.geo.mercator=function(){return Ne(qe)}).raw=qe;var Co=Ee(function(){return 1},Math.asin);(oa.geo.orthographic=function(){return Kt(Co)}).raw=Co;var zo=Ee(function(n){return 1/(1+n)},function(n){return 2*Math.atan(n)});(oa.geo.stereographic=function(){return Kt(zo)}).raw=zo,Te.invert=function(n,t){return[Math.atan2(U(n),Math.cos(t)),Y(Math.sin(t)/I(n))]},(oa.geo.transverseMercator=function(){return Ne(Te)}).raw=Te,oa.geom={},oa.svg={},oa.svg.line=function(){return Ce(ft)};var Do=oa.map({linear:je,\"linear-closed\":Le,\"step-before\":Fe,\"step-after\":He,basis:Ie,\"basis-open\":Ve,\"basis-closed\":Xe,bundle:Ze,cardinal:Oe,\"cardinal-open\":Pe,\"cardinal-closed\":Re,monotone:We});Do.forEach(function(n,t){t.key=n,t.closed=/-closed$/.test(n)});var jo=[0,2/3,1/3,0],Lo=[0,1/3,2/3,0],Fo=[0,1/6,2/3,1/6];oa.geom.hull=function(n){function t(n){if(n.length<3)return[];var t,u,i,a,o,c,l,f,s,h,g,p,d=lt(e),m=lt(r),v=n.length,y=v-1,M=[],x=[],b=0;if(d===ze&&r===De)t=n;else for(i=0,t=[];v>i;++i)t.push([+d.call(this,u=n[i],i),+m.call(this,u,i)]);for(i=1;v>i;++i)t[i][1]<t[b][1]?b=i:t[i][1]==t[b][1]&&(b=t[i][0]<t[b][0]?i:b);for(i=0;v>i;++i)i!==b&&(c=t[i][1]-t[b][1],o=t[i][0]-t[b][0],M.push({angle:Math.atan2(c,o),index:i}));for(M.sort(function(n,t){return n.angle-t.angle}),g=M[0].angle,h=M[0].index,s=0,i=1;y>i;++i)a=M[i].index,g==M[i].angle?(o=t[h][0]-t[b][0],c=t[h][1]-t[b][1],l=t[a][0]-t[b][0],f=t[a][1]-t[b][1],o*o+c*c>=l*l+f*f?M[i].index=-1:(M[s].index=-1,g=M[i].angle,s=i,h=a)):(g=M[i].angle,s=i,h=a);for(x.push(b),i=0,a=0;2>i;++a)M[a].index!==-1&&(x.push(M[a].index),i++);for(p=x.length;y>a;++a)if(M[a].index!==-1){for(;!Qe(x[p-2],x[p-1],M[a].index,t);)--p;x[p++]=M[a].index}var _=[];for(i=0;p>i;++i)_.push(n[x[i]]);return _}var e=ze,r=De;return arguments.length?t(n):(t.x=function(n){return arguments.length?(e=n,t):e},t.y=function(n){return arguments.length?(r=n,t):r},t)},oa.geom.polygon=function(n){return n.area=function(){for(var t=0,e=n.length,r=n[e-1][1]*n[0][0]-n[e-1][0]*n[0][1];++t<e;)r+=n[t-1][1]*n[t][0]-n[t-1][0]*n[t][1];return.5*r},n.centroid=function(t){var e,r,u=-1,i=n.length,a=0,o=0,c=n[i-1];for(arguments.length||(t=-1/(6*n.area()));++u<i;)e=c,c=n[u],r=e[0]*c[1]-c[0]*e[1],a+=(e[0]+c[0])*r,o+=(e[1]+c[1])*r;return[a*t,o*t]},n.clip=function(t){for(var e,r,u,i,a,o,c=-1,l=n.length,f=n[l-1];++c<l;){for(e=t.slice(),t.length=0,i=n[c],a=e[(u=e.length)-1],r=-1;++r<u;)o=e[r],nr(o,f,i)?(nr(a,f,i)||t.push(tr(a,o,f,i)),t.push(o)):nr(a,f,i)&&t.push(tr(a,o,f,i)),a=o;f=i}return t},n},oa.geom.delaunay=function(n){var t=n.map(function(){return[]}),e=[];return er(n,function(e){t[e.region.l.index].push(n[e.region.r.index])}),t.forEach(function(t,r){var u=n[r],i=u[0],a=u[1];t.forEach(function(n){n.angle=Math.atan2(n[0]-i,n[1]-a)}),t.sort(function(n,t){return n.angle-t.angle});for(var o=0,c=t.length-1;c>o;o++)e.push([u,t[o],t[o+1]])}),e},oa.geom.voronoi=function(n){function t(n){var t,r,a,o=n.map(function(){return[]}),c=lt(u),l=lt(i),f=n.length,s=1e6;if(c===ze&&l===De)t=n;else for(t=[],a=0;f>a;++a)t.push([+c.call(this,r=n[a],a),+l.call(this,r,a)]);if(er(t,function(n){var t,e,r,u,i,a;n.a===1&&n.b>=0?(t=n.ep.r,e=n.ep.l):(t=n.ep.l,e=n.ep.r),n.a===1?(i=t?t.y:-s,r=n.c-n.b*i,a=e?e.y:s,u=n.c-n.b*a):(r=t?t.x:-s,i=n.c-n.a*r,u=e?e.x:s,a=n.c-n.a*u);var c=[r,i],l=[u,a];o[n.region.l.index].push(c,l),o[n.region.r.index].push(c,l)}),o=o.map(function(n,e){var r=t[e][0],u=t[e][1],i=n.map(function(n){return Math.atan2(n[0]-r,n[1]-u)}),a=oa.range(n.length).sort(function(n,t){return i[n]-i[t]});return a.filter(function(n,t){return!t||i[n]-i[a[t-1]]>Fa}).map(function(t){return n[t]})}),o.forEach(function(n,e){var r=n.length;if(!r)return n.push([-s,-s],[-s,s],[s,s],[s,-s]);if(!(r>2)){var u=t[e],i=n[0],a=n[1],o=u[0],c=u[1],l=i[0],f=i[1],h=a[0],g=a[1],p=Math.abs(h-l),d=g-f;if(Math.abs(d)<Fa){var m=f>c?-s:s;n.push([-s,m],[s,m])}else if(Fa>p){var v=l>o?-s:s;n.push([v,-s],[v,s])}else{var m=(l-o)*(g-f)>(h-l)*(f-c)?s:-s,y=Math.abs(d)-p;Math.abs(y)<Fa?n.push([0>d?m:-m,m]):(y>0&&(m*=-1),n.push([-s,m],[s,m]))}}}),e)for(a=0;f>a;++a)e(o[a]);for(a=0;f>a;++a)o[a].point=n[a];return o}var e,r=null,u=ze,i=De;return arguments.length?t(n):(t.x=function(n){return arguments.length?(u=n,t):u},t.y=function(n){return arguments.length?(i=n,t):i},t.size=function(n){return arguments.length?(null==n?e=null:(r=[+n[0],+n[1]],e=oa.geom.polygon([[0,0],[0,r[1]],r,[r[0],0]]).clip),t):r},t.links=function(n){var t,e,r,a=n.map(function(){return[]}),o=[],c=lt(u),l=lt(i),f=n.length;if(c===ze&&l===De)t=n;else for(r=0;f>r;++r)t.push([+c.call(this,e=n[r],r),+l.call(this,e,r)]);return er(t,function(t){var e=t.region.l.index,r=t.region.r.index;a[e][r]||(a[e][r]=a[r][e]=!0,o.push({source:n[e],target:n[r]}))}),o},t.triangles=function(n){if(u===ze&&i===De)return oa.geom.delaunay(n);var t,e,r,a,o,c=lt(u),l=lt(i);for(a=0,t=[],o=n.length;o>a;++a)e=[+c.call(this,r=n[a],a),+l.call(this,r,a)],e.data=r,t.push(e);return oa.geom.delaunay(t).map(function(n){return n.map(function(n){return n.data})})},t)};var Ho={l:\"r\",r:\"l\"};oa.geom.quadtree=function(n,t,e,r,u){function i(n){function i(n,t,e,r,u,i,a,o){if(!isNaN(e)&&!isNaN(r))if(n.leaf){var c=n.x,f=n.y;\n",
        "if(null!=c)if(Math.abs(c-e)+Math.abs(f-r)<.01)l(n,t,e,r,u,i,a,o);else{var s=n.point;n.x=n.y=n.point=null,l(n,s,c,f,u,i,a,o),l(n,t,e,r,u,i,a,o)}else n.x=e,n.y=r,n.point=t}else l(n,t,e,r,u,i,a,o)}function l(n,t,e,r,u,a,o,c){var l=.5*(u+o),f=.5*(a+c),s=e>=l,h=r>=f,g=(h<<1)+s;n.leaf=!1,n=n.nodes[g]||(n.nodes[g]=ir()),s?u=l:o=l,h?a=f:c=f,i(n,t,e,r,u,a,o,c)}var f,s,h,g,p,d,m,v,y,M=lt(o),x=lt(c);if(null!=t)d=t,m=e,v=r,y=u;else if(v=y=-(d=m=1/0),s=[],h=[],p=n.length,a)for(g=0;p>g;++g)f=n[g],f.x<d&&(d=f.x),f.y<m&&(m=f.y),f.x>v&&(v=f.x),f.y>y&&(y=f.y),s.push(f.x),h.push(f.y);else for(g=0;p>g;++g){var b=+M(f=n[g],g),_=+x(f,g);d>b&&(d=b),m>_&&(m=_),b>v&&(v=b),_>y&&(y=_),s.push(b),h.push(_)}var w=v-d,S=y-m;w>S?y=m+w:v=d+S;var E=ir();if(E.add=function(n){i(E,n,+M(n,++g),+x(n,g),d,m,v,y)},E.visit=function(n){ar(n,E,d,m,v,y)},g=-1,null==t){for(;++g<p;)i(E,n[g],s[g],h[g],d,m,v,y);--g}else n.forEach(E.add);return s=h=n=f=null,E}var a,o=ze,c=De;return(a=arguments.length)?(o=rr,c=ur,3===a&&(u=e,r=t,e=t=0),i(n)):(i.x=function(n){return arguments.length?(o=n,i):o},i.y=function(n){return arguments.length?(c=n,i):c},i.size=function(n){return arguments.length?(null==n?t=e=r=u=null:(t=e=0,r=+n[0],u=+n[1]),i):null==t?null:[r,u]},i)},oa.interpolateRgb=or,oa.transform=function(n){var t=ca.createElementNS(oa.ns.prefix.svg,\"g\");return(oa.transform=function(n){t.setAttribute(\"transform\",n);var e=t.transform.baseVal.consolidate();return new cr(e?e.matrix:Po)})(n)},cr.prototype.toString=function(){return\"translate(\"+this.translate+\")rotate(\"+this.rotate+\")skewX(\"+this.skew+\")scale(\"+this.scale+\")\"};var Po={a:1,b:0,c:0,d:1,e:0,f:0};oa.interpolateNumber=hr,oa.interpolateTransform=gr,oa.interpolateObject=pr,oa.interpolateString=dr;var Ro=/[-+]?(?:\\d+\\.?\\d*|\\.?\\d+)(?:[eE][-+]?\\d+)?/g;oa.interpolate=mr,oa.interpolators=[pr,function(n,t){return Array.isArray(t)&&yr(n,t)},function(n,t){return(\"string\"==typeof n||\"string\"==typeof t)&&dr(n+\"\",t+\"\")},function(n,t){return(\"string\"==typeof t?Za.has(t)||/^(#|rgb\\(|hsl\\()/.test(t):t instanceof L)&&or(n,t)},function(n,t){return!isNaN(n=+n)&&!isNaN(t=+t)&&hr(n,t)}],oa.interpolateArray=yr;var Oo=function(){return ft},Yo=oa.map({linear:Oo,poly:Er,quad:function(){return _r},cubic:function(){return wr},sin:function(){return kr},exp:function(){return Ar},circle:function(){return qr},elastic:Nr,back:Tr,bounce:function(){return Cr}}),Uo=oa.map({\"in\":ft,out:xr,\"in-out\":br,\"out-in\":function(n){return br(xr(n))}});oa.ease=function(n){var t=n.indexOf(\"-\"),e=t>=0?n.substring(0,t):n,r=t>=0?n.substring(t+1):\"in\";return e=Yo.get(e)||Oo,r=Uo.get(r)||ft,Mr(r(e.apply(null,Array.prototype.slice.call(arguments,1))))},oa.interpolateHcl=zr,oa.interpolateHsl=Dr,oa.interpolateLab=jr,oa.interpolateRound=Lr,oa.layout={},oa.layout.bundle=function(){return function(n){for(var t=[],e=-1,r=n.length;++e<r;)t.push(Pr(n[e]));return t}},oa.layout.chord=function(){function n(){var n,l,s,h,g,p={},d=[],m=oa.range(i),v=[];for(e=[],r=[],n=0,h=-1;++h<i;){for(l=0,g=-1;++g<i;)l+=u[h][g];d.push(l),v.push(oa.range(i)),n+=l}for(a&&m.sort(function(n,t){return a(d[n],d[t])}),o&&v.forEach(function(n,t){n.sort(function(n,e){return o(u[t][n],u[t][e])})}),n=(2*La-f*i)/n,l=0,h=-1;++h<i;){for(s=l,g=-1;++g<i;){var y=m[h],M=v[y][g],x=u[y][M],b=l,_=l+=x*n;p[y+\"-\"+M]={index:y,subindex:M,startAngle:b,endAngle:_,value:x}}r[y]={index:y,startAngle:s,endAngle:l,value:(l-s)/n},l+=f}for(h=-1;++h<i;)for(g=h-1;++g<i;){var w=p[h+\"-\"+g],S=p[g+\"-\"+h];(w.value||S.value)&&e.push(w.value<S.value?{source:S,target:w}:{source:w,target:S})}c&&t()}function t(){e.sort(function(n,t){return c((n.source.value+n.target.value)/2,(t.source.value+t.target.value)/2)})}var e,r,u,i,a,o,c,l={},f=0;return l.matrix=function(n){return arguments.length?(i=(u=n)&&u.length,e=r=null,l):u},l.padding=function(n){return arguments.length?(f=n,e=r=null,l):f},l.sortGroups=function(n){return arguments.length?(a=n,e=r=null,l):a},l.sortSubgroups=function(n){return arguments.length?(o=n,e=null,l):o},l.sortChords=function(n){return arguments.length?(c=n,e&&t(),l):c},l.chords=function(){return e||n(),e},l.groups=function(){return r||n(),r},l},oa.layout.force=function(){function n(n){return function(t,e,r,u){if(t.point!==n){var i=t.cx-n.x,a=t.cy-n.y,o=1/Math.sqrt(i*i+a*a);if(d>(u-e)*o){var c=t.charge*o*o;return n.px-=i*c,n.py-=a*c,!0}if(t.point&&isFinite(o)){var c=t.pointCharge*o*o;n.px-=i*c,n.py-=a*c}}return!t.charge}}function t(n){n.px=oa.event.x,n.py=oa.event.y,o.resume()}var e,r,u,i,a,o={},c=oa.dispatch(\"start\",\"tick\",\"end\"),l=[1,1],f=.9,s=Io,h=Vo,g=-30,p=.1,d=.8,m=[],v=[];return o.tick=function(){if((r*=.99)<.005)return c.end({type:\"end\",alpha:r=0}),!0;var t,e,o,s,h,d,y,M,x,b=m.length,_=v.length;for(e=0;_>e;++e)o=v[e],s=o.source,h=o.target,M=h.x-s.x,x=h.y-s.y,(d=M*M+x*x)&&(d=r*i[e]*((d=Math.sqrt(d))-u[e])/d,M*=d,x*=d,h.x-=M*(y=s.weight/(h.weight+s.weight)),h.y-=x*y,s.x+=M*(y=1-y),s.y+=x*y);if((y=r*p)&&(M=l[0]/2,x=l[1]/2,e=-1,y))for(;++e<b;)o=m[e],o.x+=(M-o.x)*y,o.y+=(x-o.y)*y;if(g)for(Xr(t=oa.geom.quadtree(m),r,a),e=-1;++e<b;)(o=m[e]).fixed||t.visit(n(o));for(e=-1;++e<b;)o=m[e],o.fixed?(o.x=o.px,o.y=o.py):(o.x-=(o.px-(o.px=o.x))*f,o.y-=(o.py-(o.py=o.y))*f);c.tick({type:\"tick\",alpha:r})},o.nodes=function(n){return arguments.length?(m=n,o):m},o.links=function(n){return arguments.length?(v=n,o):v},o.size=function(n){return arguments.length?(l=n,o):l},o.linkDistance=function(n){return arguments.length?(s=\"function\"==typeof n?n:+n,o):s},o.distance=o.linkDistance,o.linkStrength=function(n){return arguments.length?(h=\"function\"==typeof n?n:+n,o):h},o.friction=function(n){return arguments.length?(f=+n,o):f},o.charge=function(n){return arguments.length?(g=\"function\"==typeof n?n:+n,o):g},o.gravity=function(n){return arguments.length?(p=+n,o):p},o.theta=function(n){return arguments.length?(d=+n,o):d},o.alpha=function(n){return arguments.length?(n=+n,r?r=n>0?n:0:n>0&&(c.start({type:\"start\",alpha:r=n}),oa.timer(o.tick)),o):r},o.start=function(){function n(n,r){for(var u,i=t(e),a=-1,o=i.length;++a<o;)if(!isNaN(u=i[a][n]))return u;return Math.random()*r}function t(){if(!c){for(c=[],r=0;p>r;++r)c[r]=[];for(r=0;d>r;++r){var n=v[r];c[n.source.index].push(n.target),c[n.target.index].push(n.source)}}return c[e]}var e,r,c,f,p=m.length,d=v.length,y=l[0],M=l[1];for(e=0;p>e;++e)(f=m[e]).index=e,f.weight=0;for(e=0;d>e;++e)f=v[e],typeof f.source==\"number\"&&(f.source=m[f.source]),typeof f.target==\"number\"&&(f.target=m[f.target]),++f.source.weight,++f.target.weight;for(e=0;p>e;++e)f=m[e],isNaN(f.x)&&(f.x=n(\"x\",y)),isNaN(f.y)&&(f.y=n(\"y\",M)),isNaN(f.px)&&(f.px=f.x),isNaN(f.py)&&(f.py=f.y);if(u=[],\"function\"==typeof s)for(e=0;d>e;++e)u[e]=+s.call(this,v[e],e);else for(e=0;d>e;++e)u[e]=s;if(i=[],\"function\"==typeof h)for(e=0;d>e;++e)i[e]=+h.call(this,v[e],e);else for(e=0;d>e;++e)i[e]=h;if(a=[],\"function\"==typeof g)for(e=0;p>e;++e)a[e]=+g.call(this,m[e],e);else for(e=0;p>e;++e)a[e]=g;return o.resume()},o.resume=function(){return o.alpha(.1)},o.stop=function(){return o.alpha(0)},o.drag=function(){return e||(e=oa.behavior.drag().origin(ft).on(\"dragstart.force\",Yr).on(\"drag.force\",t).on(\"dragend.force\",Ur)),arguments.length?(this.on(\"mouseover.force\",Ir).on(\"mouseout.force\",Vr).call(e),void 0):e},oa.rebind(o,c,\"on\")};var Io=20,Vo=1;oa.layout.hierarchy=function(){function n(t,a,o){var c=u.call(e,t,a);if(t.depth=a,o.push(t),c&&(l=c.length)){for(var l,f,s=-1,h=t.children=[],g=0,p=a+1;++s<l;)f=n(c[s],p,o),f.parent=t,h.push(f),g+=f.value;r&&h.sort(r),i&&(t.value=g)}else i&&(t.value=+i.call(e,t,a)||0);return t}function t(n,r){var u=n.children,a=0;if(u&&(o=u.length))for(var o,c=-1,l=r+1;++c<o;)a+=t(u[c],l);else i&&(a=+i.call(e,n,r)||0);return i&&(n.value=a),a}function e(t){var e=[];return n(t,0,e),e}var r=Jr,u=Br,i=$r;return e.sort=function(n){return arguments.length?(r=n,e):r},e.children=function(n){return arguments.length?(u=n,e):u},e.value=function(n){return arguments.length?(i=n,e):i},e.revalue=function(n){return t(n,0),n},e},oa.layout.partition=function(){function n(t,e,r,u){var i=t.children;if(t.x=e,t.y=t.depth*u,t.dx=r,t.dy=u,i&&(a=i.length)){var a,o,c,l=-1;for(r=t.value?r/t.value:0;++l<a;)n(o=i[l],e,c=o.value*r,u),e+=c}}function t(n){var e=n.children,r=0;if(e&&(u=e.length))for(var u,i=-1;++i<u;)r=Math.max(r,t(e[i]));return 1+r}function e(e,i){var a=r.call(this,e,i);return n(a[0],0,u[0],u[1]/t(a[0])),a}var r=oa.layout.hierarchy(),u=[1,1];return e.size=function(n){return arguments.length?(u=n,e):u},Zr(e,r)},oa.layout.pie=function(){function n(i){var a=i.map(function(e,r){return+t.call(n,e,r)}),o=+(\"function\"==typeof r?r.apply(this,arguments):r),c=((\"function\"==typeof u?u.apply(this,arguments):u)-o)/oa.sum(a),l=oa.range(i.length);null!=e&&l.sort(e===Xo?function(n,t){return a[t]-a[n]}:function(n,t){return e(i[n],i[t])});var f=[];return l.forEach(function(n){var t;f[n]={data:i[n],value:t=a[n],startAngle:o,endAngle:o+=t*c}}),f}var t=Number,e=Xo,r=0,u=2*La;return n.value=function(e){return arguments.length?(t=e,n):t},n.sort=function(t){return arguments.length?(e=t,n):e},n.startAngle=function(t){return arguments.length?(r=t,n):r},n.endAngle=function(t){return arguments.length?(u=t,n):u},n};var Xo={};oa.layout.stack=function(){function n(o,c){var l=o.map(function(e,r){return t.call(n,e,r)}),f=l.map(function(t){return t.map(function(t,e){return[i.call(n,t,e),a.call(n,t,e)]})}),s=e.call(n,f,c);l=oa.permute(l,s),f=oa.permute(f,s);var h,g,p,d=r.call(n,f,c),m=l.length,v=l[0].length;for(g=0;v>g;++g)for(u.call(n,l[0][g],p=d[g],f[0][g][1]),h=1;m>h;++h)u.call(n,l[h][g],p+=f[h-1][g][1],f[h][g][1]);return o}var t=ft,e=nu,r=tu,u=Qr,i=Kr,a=Wr;return n.values=function(e){return arguments.length?(t=e,n):t},n.order=function(t){return arguments.length?(e=\"function\"==typeof t?t:Zo.get(t)||nu,n):e},n.offset=function(t){return arguments.length?(r=\"function\"==typeof t?t:Bo.get(t)||tu,n):r},n.x=function(t){return arguments.length?(i=t,n):i},n.y=function(t){return arguments.length?(a=t,n):a},n.out=function(t){return arguments.length?(u=t,n):u},n};var Zo=oa.map({\"inside-out\":function(n){var t,e,r=n.length,u=n.map(eu),i=n.map(ru),a=oa.range(r).sort(function(n,t){return u[n]-u[t]}),o=0,c=0,l=[],f=[];for(t=0;r>t;++t)e=a[t],c>o?(o+=i[e],l.push(e)):(c+=i[e],f.push(e));return f.reverse().concat(l)},reverse:function(n){return oa.range(n.length).reverse()},\"default\":nu}),Bo=oa.map({silhouette:function(n){var t,e,r,u=n.length,i=n[0].length,a=[],o=0,c=[];for(e=0;i>e;++e){for(t=0,r=0;u>t;t++)r+=n[t][e][1];r>o&&(o=r),a.push(r)}for(e=0;i>e;++e)c[e]=(o-a[e])/2;return c},wiggle:function(n){var t,e,r,u,i,a,o,c,l,f=n.length,s=n[0],h=s.length,g=[];for(g[0]=c=l=0,e=1;h>e;++e){for(t=0,u=0;f>t;++t)u+=n[t][e][1];for(t=0,i=0,o=s[e][0]-s[e-1][0];f>t;++t){for(r=0,a=(n[t][e][1]-n[t][e-1][1])/(2*o);t>r;++r)a+=(n[r][e][1]-n[r][e-1][1])/o;i+=a*n[t][e][1]}g[e]=c-=u?i/u*o:0,l>c&&(l=c)}for(e=0;h>e;++e)g[e]-=l;return g},expand:function(n){var t,e,r,u=n.length,i=n[0].length,a=1/u,o=[];for(e=0;i>e;++e){for(t=0,r=0;u>t;t++)r+=n[t][e][1];if(r)for(t=0;u>t;t++)n[t][e][1]/=r;else for(t=0;u>t;t++)n[t][e][1]=a}for(e=0;i>e;++e)o[e]=0;return o},zero:tu});oa.layout.histogram=function(){function n(n,i){for(var a,o,c=[],l=n.map(e,this),f=r.call(this,l,i),s=u.call(this,f,l,i),i=-1,h=l.length,g=s.length-1,p=t?1:1/h;++i<g;)a=c[i]=[],a.dx=s[i+1]-(a.x=s[i]),a.y=0;if(g>0)for(i=-1;++i<h;)o=l[i],o>=f[0]&&o<=f[1]&&(a=c[oa.bisect(s,o,1,g)-1],a.y+=p,a.push(n[i]));return c}var t=!0,e=Number,r=ou,u=iu;return n.value=function(t){return arguments.length?(e=t,n):e},n.range=function(t){return arguments.length?(r=lt(t),n):r},n.bins=function(t){return arguments.length?(u=\"number\"==typeof t?function(n){return au(n,t)}:lt(t),n):u},n.frequency=function(e){return arguments.length?(t=!!e,n):t},n},oa.layout.tree=function(){function n(n,u){function i(n,t){var r=n.children,u=n._tree;if(r&&(a=r.length)){for(var a,c,l,f=r[0],s=f,h=-1;++h<a;)l=r[h],i(l,c),s=o(l,c,s),c=l;mu(n);var g=.5*(f._tree.prelim+l._tree.prelim);t?(u.prelim=t._tree.prelim+e(n,t),u.mod=u.prelim-g):u.prelim=g}else t&&(u.prelim=t._tree.prelim+e(n,t))}function a(n,t){n.x=n._tree.prelim+t;var e=n.children;if(e&&(r=e.length)){var r,u=-1;for(t+=n._tree.mod;++u<r;)a(e[u],t)}}function o(n,t,r){if(t){for(var u,i=n,a=n,o=t,c=n.parent.children[0],l=i._tree.mod,f=a._tree.mod,s=o._tree.mod,h=c._tree.mod;o=fu(o),i=lu(i),o&&i;)c=lu(c),a=fu(a),a._tree.ancestor=n,u=o._tree.prelim+s-i._tree.prelim-l+e(o,i),u>0&&(vu(yu(o,n,r),n,u),l+=u,f+=u),s+=o._tree.mod,l+=i._tree.mod,h+=c._tree.mod,f+=a._tree.mod;o&&!fu(a)&&(a._tree.thread=o,a._tree.mod+=s-f),i&&!lu(c)&&(c._tree.thread=i,c._tree.mod+=l-h,r=n)}return r}var c=t.call(this,n,u),l=c[0];du(l,function(n,t){n._tree={ancestor:n,prelim:0,mod:0,change:0,shift:0,number:t?t._tree.number+1:0}}),i(l),a(l,-l._tree.prelim);var f=su(l,gu),s=su(l,hu),h=su(l,pu),g=f.x-e(f,s)/2,p=s.x+e(s,f)/2,d=h.depth||1;return du(l,function(n){n.x=(n.x-g)/(p-g)*r[0],n.y=n.depth/d*r[1],delete n._tree}),c}var t=oa.layout.hierarchy().sort(null).value(null),e=cu,r=[1,1];return n.separation=function(t){return arguments.length?(e=t,n):e},n.size=function(t){return arguments.length?(r=t,n):r},Zr(n,t)},oa.layout.pack=function(){function n(n,u){var i=t.call(this,n,u),a=i[0];a.x=0,a.y=0,du(a,function(n){n.r=Math.sqrt(n.value)}),du(a,wu);var o=r[0],c=r[1],l=Math.max(2*a.r/o,2*a.r/c);if(e>0){var f=e*l/2;du(a,function(n){n.r+=f}),du(a,wu),du(a,function(n){n.r-=f}),l=Math.max(2*a.r/o,2*a.r/c)}return ku(a,o/2,c/2,1/l),i}var t=oa.layout.hierarchy().sort(Mu),e=0,r=[1,1];return n.size=function(t){return arguments.length?(r=t,n):r},n.padding=function(t){return arguments.length?(e=+t,n):e},Zr(n,t)},oa.layout.cluster=function(){function n(n,u){var i,a=t.call(this,n,u),o=a[0],c=0;du(o,function(n){var t=n.children;t&&t.length?(n.x=Nu(t),n.y=qu(t)):(n.x=i?c+=e(n,i):0,n.y=0,i=n)});var l=Tu(o),f=Cu(o),s=l.x-e(l,f)/2,h=f.x+e(f,l)/2;return du(o,function(n){n.x=(n.x-s)/(h-s)*r[0],n.y=(1-(o.y?n.y/o.y:1))*r[1]}),a}var t=oa.layout.hierarchy().sort(null).value(null),e=cu,r=[1,1];return n.separation=function(t){return arguments.length?(e=t,n):e},n.size=function(t){return arguments.length?(r=t,n):r},Zr(n,t)},oa.layout.treemap=function(){function n(n,t){for(var e,r,u=-1,i=n.length;++u<i;)r=(e=n[u]).value*(0>t?0:t),e.area=isNaN(r)||0>=r?0:r}function t(e){var i=e.children;if(i&&i.length){var a,o,c,l=s(e),f=[],h=i.slice(),p=1/0,d=\"slice\"===g?l.dx:\"dice\"===g?l.dy:\"slice-dice\"===g?e.depth&1?l.dy:l.dx:Math.min(l.dx,l.dy);for(n(h,l.dx*l.dy/e.value),f.area=0;(c=h.length)>0;)f.push(a=h[c-1]),f.area+=a.area,\"squarify\"!==g||(o=r(f,d))<=p?(h.pop(),p=o):(f.area-=f.pop().area,u(f,d,l,!1),d=Math.min(l.dx,l.dy),f.length=f.area=0,p=1/0);f.length&&(u(f,d,l,!0),f.length=f.area=0),i.forEach(t)}}function e(t){var r=t.children;if(r&&r.length){var i,a=s(t),o=r.slice(),c=[];for(n(o,a.dx*a.dy/t.value),c.area=0;i=o.pop();)c.push(i),c.area+=i.area,i.z!=null&&(u(c,i.z?a.dx:a.dy,a,!o.length),c.length=c.area=0);r.forEach(e)}}function r(n,t){for(var e,r=n.area,u=0,i=1/0,a=-1,o=n.length;++a<o;)(e=n[a].area)&&(i>e&&(i=e),e>u&&(u=e));return r*=r,t*=t,r?Math.max(t*u*p/r,r/(t*i*p)):1/0}function u(n,t,e,r){var u,i=-1,a=n.length,o=e.x,l=e.y,f=t?c(n.area/t):0;if(t==e.dx){for((r||f>e.dy)&&(f=e.dy);++i<a;)u=n[i],u.x=o,u.y=l,u.dy=f,o+=u.dx=Math.min(e.x+e.dx-o,f?c(u.area/f):0);u.z=!0,u.dx+=e.x+e.dx-o,e.y+=f,e.dy-=f}else{for((r||f>e.dx)&&(f=e.dx);++i<a;)u=n[i],u.x=o,u.y=l,u.dx=f,l+=u.dy=Math.min(e.y+e.dy-l,f?c(u.area/f):0);u.z=!1,u.dy+=e.y+e.dy-l,e.x+=f,e.dx-=f}}function i(r){var u=a||o(r),i=u[0];return i.x=0,i.y=0,i.dx=l[0],i.dy=l[1],a&&o.revalue(i),n([i],i.dx*i.dy/i.value),(a?e:t)(i),h&&(a=u),u}var a,o=oa.layout.hierarchy(),c=Math.round,l=[1,1],f=null,s=zu,h=!1,g=\"squarify\",p=.5*(1+Math.sqrt(5));return i.size=function(n){return arguments.length?(l=n,i):l},i.padding=function(n){function t(t){var e=n.call(i,t,t.depth);return null==e?zu(t):Du(t,\"number\"==typeof e?[e,e,e,e]:e)}function e(t){return Du(t,n)}if(!arguments.length)return f;var r;return s=(f=n)==null?zu:(r=typeof n)==\"function\"?t:\"number\"===r?(n=[n,n,n,n],e):e,i},i.round=function(n){return arguments.length?(c=n?Math.round:Number,i):c!=Number},i.sticky=function(n){return arguments.length?(h=n,a=null,i):h},i.ratio=function(n){return arguments.length?(p=n,i):p},i.mode=function(n){return arguments.length?(g=n+\"\",i):g},Zr(i,o)},oa.random={normal:function(n,t){var e=arguments.length;return 2>e&&(t=1),1>e&&(n=0),function(){var e,r,u;do e=Math.random()*2-1,r=Math.random()*2-1,u=e*e+r*r;while(!u||u>1);return n+t*e*Math.sqrt(-2*Math.log(u)/u)}},logNormal:function(){var n=oa.random.normal.apply(oa,arguments);return function(){return Math.exp(n())}},irwinHall:function(n){return function(){for(var t=0,e=0;n>e;e++)t+=Math.random();return t/n}}},oa.scale={},oa.scale.linear=function(){return Ru([0,1],[0,1],mr,!1)},oa.scale.log=function(){return Xu(oa.scale.linear().domain([0,Math.LN10]),10,Zu,Bu)};var $o=oa.format(\".0e\");oa.scale.pow=function(){return Ku(oa.scale.linear(),1)},oa.scale.sqrt=function(){return oa.scale.pow().exponent(.5)},oa.scale.ordinal=function(){return Qu([],{t:\"range\",a:[[]]})},oa.scale.category10=function(){return oa.scale.ordinal().range(Jo)},oa.scale.category20=function(){return oa.scale.ordinal().range(Go)},oa.scale.category20b=function(){return oa.scale.ordinal().range(Ko)},oa.scale.category20c=function(){return oa.scale.ordinal().range(Wo)};var Jo=[\"#1f77b4\",\"#ff7f0e\",\"#2ca02c\",\"#d62728\",\"#9467bd\",\"#8c564b\",\"#e377c2\",\"#7f7f7f\",\"#bcbd22\",\"#17becf\"],Go=[\"#1f77b4\",\"#aec7e8\",\"#ff7f0e\",\"#ffbb78\",\"#2ca02c\",\"#98df8a\",\"#d62728\",\"#ff9896\",\"#9467bd\",\"#c5b0d5\",\"#8c564b\",\"#c49c94\",\"#e377c2\",\"#f7b6d2\",\"#7f7f7f\",\"#c7c7c7\",\"#bcbd22\",\"#dbdb8d\",\"#17becf\",\"#9edae5\"],Ko=[\"#393b79\",\"#5254a3\",\"#6b6ecf\",\"#9c9ede\",\"#637939\",\"#8ca252\",\"#b5cf6b\",\"#cedb9c\",\"#8c6d31\",\"#bd9e39\",\"#e7ba52\",\"#e7cb94\",\"#843c39\",\"#ad494a\",\"#d6616b\",\"#e7969c\",\"#7b4173\",\"#a55194\",\"#ce6dbd\",\"#de9ed6\"],Wo=[\"#3182bd\",\"#6baed6\",\"#9ecae1\",\"#c6dbef\",\"#e6550d\",\"#fd8d3c\",\"#fdae6b\",\"#fdd0a2\",\"#31a354\",\"#74c476\",\"#a1d99b\",\"#c7e9c0\",\"#756bb1\",\"#9e9ac8\",\"#bcbddc\",\"#dadaeb\",\"#636363\",\"#969696\",\"#bdbdbd\",\"#d9d9d9\"];oa.scale.quantile=function(){return ni([],[])},oa.scale.quantize=function(){return ti(0,1,[0,1])},oa.scale.threshold=function(){return ei([.5],[0,1])},oa.scale.identity=function(){return ri([0,1])},oa.svg.arc=function(){function n(){var n=t.apply(this,arguments),i=e.apply(this,arguments),a=r.apply(this,arguments)+Qo,o=u.apply(this,arguments)+Qo,c=(a>o&&(c=a,a=o,o=c),o-a),l=La>c?\"0\":\"1\",f=Math.cos(a),s=Math.sin(a),h=Math.cos(o),g=Math.sin(o);return c>=nc?n?\"M0,\"+i+\"A\"+i+\",\"+i+\" 0 1,1 0,\"+-i+\"A\"+i+\",\"+i+\" 0 1,1 0,\"+i+\"M0,\"+n+\"A\"+n+\",\"+n+\" 0 1,0 0,\"+-n+\"A\"+n+\",\"+n+\" 0 1,0 0,\"+n+\"Z\":\"M0,\"+i+\"A\"+i+\",\"+i+\" 0 1,1 0,\"+-i+\"A\"+i+\",\"+i+\" 0 1,1 0,\"+i+\"Z\":n?\"M\"+i*f+\",\"+i*s+\"A\"+i+\",\"+i+\" 0 \"+l+\",1 \"+i*h+\",\"+i*g+\"L\"+n*h+\",\"+n*g+\"A\"+n+\",\"+n+\" 0 \"+l+\",0 \"+n*f+\",\"+n*s+\"Z\":\"M\"+i*f+\",\"+i*s+\"A\"+i+\",\"+i+\" 0 \"+l+\",1 \"+i*h+\",\"+i*g+\"L0,0\"+\"Z\"}var t=ui,e=ii,r=ai,u=oi;return n.innerRadius=function(e){return arguments.length?(t=lt(e),n):t},n.outerRadius=function(t){return arguments.length?(e=lt(t),n):e},n.startAngle=function(t){return arguments.length?(r=lt(t),n):r},n.endAngle=function(t){return arguments.length?(u=lt(t),n):u},n.centroid=function(){var n=(t.apply(this,arguments)+e.apply(this,arguments))/2,i=(r.apply(this,arguments)+u.apply(this,arguments))/2+Qo;return[Math.cos(i)*n,Math.sin(i)*n]},n};var Qo=-La/2,nc=2*La-1e-6;oa.svg.line.radial=function(){var n=Ce(ci);return n.radius=n.x,delete n.x,n.angle=n.y,delete n.y,n},Fe.reverse=He,He.reverse=Fe,oa.svg.area=function(){return li(ft)},oa.svg.area.radial=function(){var n=li(ci);return n.radius=n.x,delete n.x,n.innerRadius=n.x0,delete n.x0,n.outerRadius=n.x1,delete n.x1,n.angle=n.y,delete n.y,n.startAngle=n.y0,delete n.y0,n.endAngle=n.y1,delete n.y1,n},oa.svg.chord=function(){function n(n,o){var c=t(this,i,n,o),l=t(this,a,n,o);return\"M\"+c.p0+r(c.r,c.p1,c.a1-c.a0)+(e(c,l)?u(c.r,c.p1,c.r,c.p0):u(c.r,c.p1,l.r,l.p0)+r(l.r,l.p1,l.a1-l.a0)+u(l.r,l.p1,c.r,c.p0))+\"Z\"}function t(n,t,e,r){var u=t.call(n,e,r),i=o.call(n,u,r),a=c.call(n,u,r)+Qo,f=l.call(n,u,r)+Qo;return{r:i,a0:a,a1:f,p0:[i*Math.cos(a),i*Math.sin(a)],p1:[i*Math.cos(f),i*Math.sin(f)]}}function e(n,t){return n.a0==t.a0&&n.a1==t.a1}function r(n,t,e){return\"A\"+n+\",\"+n+\" 0 \"+ +(e>La)+\",1 \"+t}function u(n,t,e,r){return\"Q 0,0 \"+r}var i=le,a=fe,o=fi,c=ai,l=oi;return n.radius=function(t){return arguments.length?(o=lt(t),n):o},n.source=function(t){return arguments.length?(i=lt(t),n):i},n.target=function(t){return arguments.length?(a=lt(t),n):a},n.startAngle=function(t){return arguments.length?(c=lt(t),n):c},n.endAngle=function(t){return arguments.length?(l=lt(t),n):l},n},oa.svg.diagonal=function(){function n(n,u){var i=t.call(this,n,u),a=e.call(this,n,u),o=(i.y+a.y)/2,c=[i,{x:i.x,y:o},{x:a.x,y:o},a];return c=c.map(r),\"M\"+c[0]+\"C\"+c[1]+\" \"+c[2]+\" \"+c[3]}var t=le,e=fe,r=si;return n.source=function(e){return arguments.length?(t=lt(e),n):t},n.target=function(t){return arguments.length?(e=lt(t),n):e},n.projection=function(t){return arguments.length?(r=t,n):r},n},oa.svg.diagonal.radial=function(){var n=oa.svg.diagonal(),t=si,e=n.projection;return n.projection=function(n){return arguments.length?e(hi(t=n)):t},n},oa.svg.symbol=function(){function n(n,r){return(tc.get(t.call(this,n,r))||di)(e.call(this,n,r))}var t=pi,e=gi;return n.type=function(e){return arguments.length?(t=lt(e),n):t},n.size=function(t){return arguments.length?(e=lt(t),n):e},n};var tc=oa.map({circle:di,cross:function(n){var t=Math.sqrt(n/5)/2;return\"M\"+-3*t+\",\"+-t+\"H\"+-t+\"V\"+-3*t+\"H\"+t+\"V\"+-t+\"H\"+3*t+\"V\"+t+\"H\"+t+\"V\"+3*t+\"H\"+-t+\"V\"+t+\"H\"+-3*t+\"Z\"},diamond:function(n){var t=Math.sqrt(n/(2*uc)),e=t*uc;return\"M0,\"+-t+\"L\"+e+\",0\"+\" 0,\"+t+\" \"+-e+\",0\"+\"Z\"},square:function(n){var t=Math.sqrt(n)/2;return\"M\"+-t+\",\"+-t+\"L\"+t+\",\"+-t+\" \"+t+\",\"+t+\" \"+-t+\",\"+t+\"Z\"},\"triangle-down\":function(n){var t=Math.sqrt(n/rc),e=t*rc/2;return\"M0,\"+e+\"L\"+t+\",\"+-e+\" \"+-t+\",\"+-e+\"Z\"},\"triangle-up\":function(n){var t=Math.sqrt(n/rc),e=t*rc/2;return\"M0,\"+-e+\"L\"+t+\",\"+e+\" \"+-t+\",\"+e+\"Z\"}});oa.svg.symbolTypes=tc.keys();var ec,rc=Math.sqrt(3),uc=Math.tan(30*Ha),ic=[],ac=0,oc={ease:Sr,delay:0,duration:250};ic.call=Ea.call,ic.empty=Ea.empty,ic.node=Ea.node,oa.transition=function(n){return arguments.length?ec?n.transition():n:Ta.transition()},oa.transition.prototype=ic,ic.select=function(n){var t,e,r,u=this.id,i=[];\"function\"!=typeof n&&(n=m(n));for(var a=-1,o=this.length;++a<o;){i.push(t=[]);for(var c=this[a],l=-1,f=c.length;++l<f;)(r=c[l])&&(e=n.call(r,r.__data__,l))?(\"__data__\"in r&&(e.__data__=r.__data__),Mi(e,l,u,r.__transition__[u]),t.push(e)):t.push(null)}return mi(i,u)},ic.selectAll=function(n){var t,e,r,u,i,a=this.id,o=[];\"function\"!=typeof n&&(n=v(n));for(var c=-1,l=this.length;++c<l;)for(var f=this[c],s=-1,h=f.length;++s<h;)if(r=f[s]){i=r.__transition__[a],e=n.call(r,r.__data__,s),o.push(t=[]);for(var g=-1,p=e.length;++g<p;)Mi(u=e[g],g,a,i),t.push(u)}return mi(o,a)},ic.filter=function(n){var t,e,r,u=[];\"function\"!=typeof n&&(n=A(n));for(var i=0,a=this.length;a>i;i++){u.push(t=[]);for(var e=this[i],o=0,c=e.length;c>o;o++)(r=e[o])&&n.call(r,r.__data__,o)&&t.push(r)}return mi(u,this.id,this.time).ease(this.ease())},ic.tween=function(n,t){var e=this.id;return arguments.length<2?this.node().__transition__[e].tween.get(n):D(this,null==t?function(t){t.__transition__[e].tween.remove(n)}:function(r){r.__transition__[e].tween.set(n,t)})},ic.attr=function(n,t){function e(){this.removeAttribute(i)}function r(){this.removeAttributeNS(i.space,i.local)}if(arguments.length<2){for(t in n)this.attr(t,n[t]);return this}var u=vr(n),i=oa.ns.qualify(n);return vi(this,\"attr.\"+n,t,function(n){function t(){var t,e=this.getAttribute(i);return e!==n&&(t=u(e,n),function(n){this.setAttribute(i,t(n))})}function a(){var t,e=this.getAttributeNS(i.space,i.local);return e!==n&&(t=u(e,n),function(n){this.setAttributeNS(i.space,i.local,t(n))})}return null==n?i.local?r:e:(n+=\"\",i.local?a:t)})},ic.attrTween=function(n,t){function e(n,e){var r=t.call(this,n,e,this.getAttribute(u));return r&&function(n){this.setAttribute(u,r(n))}}function r(n,e){var r=t.call(this,n,e,this.getAttributeNS(u.space,u.local));return r&&function(n){this.setAttributeNS(u.space,u.local,r(n))}}var u=oa.ns.qualify(n);return this.tween(\"attr.\"+n,u.local?r:e)},ic.style=function(n,t,e){function r(){this.style.removeProperty(n)}var u=arguments.length;if(3>u){if(\"string\"!=typeof n){2>u&&(t=\"\");for(e in n)this.style(e,n[e],t);return this}e=\"\"}var i=vr(n);return vi(this,\"style.\"+n,t,function(t){function u(){var r,u=la.getComputedStyle(this,null).getPropertyValue(n);return u!==t&&(r=i(u,t),function(t){this.style.setProperty(n,r(t),e)})}return null==t?r:(t+=\"\",u)})},ic.styleTween=function(n,t,e){return arguments.length<3&&(e=\"\"),this.tween(\"style.\"+n,function(r,u){var i=t.call(this,r,u,la.getComputedStyle(this,null).getPropertyValue(n));return i&&function(t){this.style.setProperty(n,i(t),e)}})},ic.text=function(n){return vi(this,\"text\",n,yi)},ic.remove=function(){return this.each(\"end.transition\",function(){var n;!this.__transition__&&(n=this.parentNode)&&n.removeChild(this)})},ic.ease=function(n){var t=this.id;return arguments.length<1?this.node().__transition__[t].ease:(\"function\"!=typeof n&&(n=oa.ease.apply(oa,arguments)),D(this,function(e){e.__transition__[t].ease=n}))},ic.delay=function(n){var t=this.id;return D(this,\"function\"==typeof n?function(e,r,u){e.__transition__[t].delay=n.call(e,e.__data__,r,u)|0}:(n|=0,function(e){e.__transition__[t].delay=n}))},ic.duration=function(n){var t=this.id;return D(this,\"function\"==typeof n?function(e,r,u){e.__transition__[t].duration=Math.max(1,n.call(e,e.__data__,r,u)|0)}:(n=Math.max(1,0|n),function(e){e.__transition__[t].duration=n}))},ic.each=function(n,t){var e=this.id;if(arguments.length<2){var r=oc,u=ec;ec=e,D(this,function(t,r,u){oc=t.__transition__[e],n.call(t,t.__data__,r,u)}),oc=r,ec=u}else D(this,function(r){r.__transition__[e].event.on(n,t)});return this},ic.transition=function(){for(var n,t,e,r,u=this.id,i=++ac,a=[],o=0,c=this.length;c>o;o++){a.push(n=[]);for(var t=this[o],l=0,f=t.length;f>l;l++)(e=t[l])&&(r=Object.create(e.__transition__[u]),r.delay+=r.duration,Mi(e,l,i,r)),n.push(e)}return mi(a,i)},oa.svg.axis=function(){function n(n){n.each(function(){var n,s=oa.select(this),h=null==l?e.ticks?e.ticks.apply(e,c):e.domain():l,g=null==t?e.tickFormat?e.tickFormat.apply(e,c):String:t,p=_i(e,h,f),d=s.selectAll(\".tick.minor\").data(p,String),m=d.enter().insert(\"line\",\".tick\").attr(\"class\",\"tick minor\").style(\"opacity\",1e-6),v=oa.transition(d.exit()).style(\"opacity\",1e-6).remove(),y=oa.transition(d).style(\"opacity\",1),M=s.selectAll(\".tick.major\").data(h,String),x=M.enter().insert(\"g\",\"path\").attr(\"class\",\"tick major\").style(\"opacity\",1e-6),b=oa.transition(M.exit()).style(\"opacity\",1e-6).remove(),_=oa.transition(M).style(\"opacity\",1),w=Lu(e),S=s.selectAll(\".domain\").data([0]),E=(S.enter().append(\"path\").attr(\"class\",\"domain\"),oa.transition(S)),k=e.copy(),A=this.__chart__||k;this.__chart__=k,x.append(\"line\"),x.append(\"text\");var q=x.select(\"line\"),N=_.select(\"line\"),T=M.select(\"text\").text(g),C=x.select(\"text\"),z=_.select(\"text\");switch(r){case\"bottom\":n=xi,m.attr(\"y2\",i),y.attr(\"x2\",0).attr(\"y2\",i),q.attr(\"y2\",u),C.attr(\"y\",Math.max(u,0)+o),N.attr(\"x2\",0).attr(\"y2\",u),z.attr(\"x\",0).attr(\"y\",Math.max(u,0)+o),T.attr(\"dy\",\".71em\").style(\"text-anchor\",\"middle\"),E.attr(\"d\",\"M\"+w[0]+\",\"+a+\"V0H\"+w[1]+\"V\"+a);break;case\"top\":n=xi,m.attr(\"y2\",-i),y.attr(\"x2\",0).attr(\"y2\",-i),q.attr(\"y2\",-u),C.attr(\"y\",-(Math.max(u,0)+o)),N.attr(\"x2\",0).attr(\"y2\",-u),z.attr(\"x\",0).attr(\"y\",-(Math.max(u,0)+o)),T.attr(\"dy\",\"0em\").style(\"text-anchor\",\"middle\"),E.attr(\"d\",\"M\"+w[0]+\",\"+-a+\"V0H\"+w[1]+\"V\"+-a);break;case\"left\":n=bi,m.attr(\"x2\",-i),y.attr(\"x2\",-i).attr(\"y2\",0),q.attr(\"x2\",-u),C.attr(\"x\",-(Math.max(u,0)+o)),N.attr(\"x2\",-u).attr(\"y2\",0),z.attr(\"x\",-(Math.max(u,0)+o)).attr(\"y\",0),T.attr(\"dy\",\".32em\").style(\"text-anchor\",\"end\"),E.attr(\"d\",\"M\"+-a+\",\"+w[0]+\"H0V\"+w[1]+\"H\"+-a);break;case\"right\":n=bi,m.attr(\"x2\",i),y.attr(\"x2\",i).attr(\"y2\",0),q.attr(\"x2\",u),C.attr(\"x\",Math.max(u,0)+o),N.attr(\"x2\",u).attr(\"y2\",0),z.attr(\"x\",Math.max(u,0)+o).attr(\"y\",0),T.attr(\"dy\",\".32em\").style(\"text-anchor\",\"start\"),E.attr(\"d\",\"M\"+a+\",\"+w[0]+\"H0V\"+w[1]+\"H\"+a)}if(e.ticks)x.call(n,A),_.call(n,k),b.call(n,k),m.call(n,A),y.call(n,k),v.call(n,k);else{var D=k.rangeBand()/2,j=function(n){return k(n)+D};x.call(n,j),_.call(n,j)}})}var t,e=oa.scale.linear(),r=cc,u=6,i=6,a=6,o=3,c=[10],l=null,f=0;return n.scale=function(t){return arguments.length?(e=t,n):e},n.orient=function(t){return arguments.length?(r=t in lc?t+\"\":cc,n):r},n.ticks=function(){return arguments.length?(c=arguments,n):c},n.tickValues=function(t){return arguments.length?(l=t,n):l},n.tickFormat=function(e){return arguments.length?(t=e,n):t},n.tickSize=function(t,e){if(!arguments.length)return u;var r=arguments.length-1;return u=+t,i=r>1?+e:u,a=r>0?+arguments[r]:u,n},n.tickPadding=function(t){return arguments.length?(o=+t,n):o},n.tickSubdivide=function(t){return arguments.length?(f=+t,n):f},n};var cc=\"bottom\",lc={top:1,right:1,bottom:1,left:1};oa.svg.brush=function(){function n(i){i.each(function(){var i,a=oa.select(this),l=a.selectAll(\".background\").data([0]),s=a.selectAll(\".extent\").data([0]),h=a.selectAll(\".resize\").data(f,String);a.style(\"pointer-events\",\"all\").on(\"mousedown.brush\",u).on(\"touchstart.brush\",u),l.enter().append(\"rect\").attr(\"class\",\"background\").style(\"visibility\",\"hidden\").style(\"cursor\",\"crosshair\"),s.enter().append(\"rect\").attr(\"class\",\"extent\").style(\"cursor\",\"move\"),h.enter().append(\"g\").attr(\"class\",function(n){return\"resize \"+n}).style(\"cursor\",function(n){return fc[n]}).append(\"rect\").attr(\"x\",function(n){return/[ew]$/.test(n)?-3:null}).attr(\"y\",function(n){return/^[ns]/.test(n)?-3:null}).attr(\"width\",6).attr(\"height\",6).style(\"visibility\",\"hidden\"),h.style(\"display\",n.empty()?\"none\":null),h.exit().remove(),o&&(i=Lu(o),l.attr(\"x\",i[0]).attr(\"width\",i[1]-i[0]),e(a)),c&&(i=Lu(c),l.attr(\"y\",i[0]).attr(\"height\",i[1]-i[0]),r(a)),t(a)})}function t(n){n.selectAll(\".resize\").attr(\"transform\",function(n){return\"translate(\"+h[+/e$/.test(n)][0]+\",\"+h[+/^s/.test(n)][1]+\")\"})}function e(n){n.select(\".extent\").attr(\"x\",h[0][0]),n.selectAll(\".extent,.n>rect,.s>rect\").attr(\"width\",h[1][0]-h[0][0])}function r(n){n.select(\".extent\").attr(\"y\",h[0][1]),n.selectAll(\".extent,.e>rect,.w>rect\").attr(\"height\",h[1][1]-h[0][1])}function u(){function u(){var n=oa.event.changedTouches;return n?oa.touches(y,n)[0]:oa.mouse(y)}function f(){oa.event.keyCode==32&&(E||(m=null,k[0]-=h[1][0],k[1]-=h[1][1],E=2),l())}function s(){oa.event.keyCode==32&&2==E&&(k[0]+=h[1][0],k[1]+=h[1][1],E=0,l())}function g(){var n=u(),i=!1;v&&(n[0]+=v[0],n[1]+=v[1]),E||(oa.event.altKey?(m||(m=[(h[0][0]+h[1][0])/2,(h[0][1]+h[1][1])/2]),k[0]=h[+(n[0]<m[0])][0],k[1]=h[+(n[1]<m[1])][1]):m=null),w&&p(n,o,0)&&(e(b),i=!0),S&&p(n,c,1)&&(r(b),i=!0),i&&(t(b),x({type:\"brush\",mode:E?\"move\":\"resize\"}))}function p(n,t,e){var r,u,a=Lu(t),o=a[0],c=a[1],l=k[e],f=h[1][e]-h[0][e];return E&&(o-=l,c-=f+l),r=Math.max(o,Math.min(c,n[e])),E?u=(r+=l)+f:(m&&(l=Math.max(o,Math.min(c,2*m[e]-r))),r>l?(u=r,r=l):u=l),h[0][e]!==r||h[1][e]!==u?(i=null,h[0][e]=r,h[1][e]=u,!0):void 0}function d(){g(),b.style(\"pointer-events\",\"all\").selectAll(\".resize\").style(\"display\",n.empty()?\"none\":null),oa.select(\"body\").style(\"cursor\",null),A.on(\"mousemove.brush\",null).on(\"mouseup.brush\",null).on(\"touchmove.brush\",null).on(\"touchend.brush\",null).on(\"keydown.brush\",null).on(\"keyup.brush\",null),x({type:\"brushend\"}),l()}var m,v,y=this,M=oa.select(oa.event.target),x=a.of(y,arguments),b=oa.select(y),_=M.datum(),w=!/^(n|s)$/.test(_)&&o,S=!/^(e|w)$/.test(_)&&c,E=M.classed(\"extent\"),k=u(),A=oa.select(la).on(\"mousemove.brush\",g).on(\"mouseup.brush\",d).on(\"touchmove.brush\",g).on(\"touchend.brush\",d).on(\"keydown.brush\",f).on(\"keyup.brush\",s);if(E)k[0]=h[0][0]-k[0],k[1]=h[0][1]-k[1];else if(_){var q=+/w$/.test(_),N=+/^n/.test(_);v=[h[1-q][0]-k[0],h[1-N][1]-k[1]],k[0]=h[q][0],k[1]=h[N][1]}else oa.event.altKey&&(m=k.slice());b.style(\"pointer-events\",\"none\").selectAll(\".resize\").style(\"display\",null),oa.select(\"body\").style(\"cursor\",M.style(\"cursor\")),x({type:\"brushstart\"}),g(),l()\n",
        "}var i,a=s(n,\"brushstart\",\"brush\",\"brushend\"),o=null,c=null,f=sc[0],h=[[0,0],[0,0]];return n.x=function(t){return arguments.length?(o=t,f=sc[!o<<1|!c],n):o},n.y=function(t){return arguments.length?(c=t,f=sc[!o<<1|!c],n):c},n.extent=function(t){var e,r,u,a,l;return arguments.length?(i=[[0,0],[0,0]],o&&(e=t[0],r=t[1],c&&(e=e[0],r=r[0]),i[0][0]=e,i[1][0]=r,o.invert&&(e=o(e),r=o(r)),e>r&&(l=e,e=r,r=l),h[0][0]=0|e,h[1][0]=0|r),c&&(u=t[0],a=t[1],o&&(u=u[1],a=a[1]),i[0][1]=u,i[1][1]=a,c.invert&&(u=c(u),a=c(a)),u>a&&(l=u,u=a,a=l),h[0][1]=0|u,h[1][1]=0|a),n):(t=i||h,o&&(e=t[0][0],r=t[1][0],i||(e=h[0][0],r=h[1][0],o.invert&&(e=o.invert(e),r=o.invert(r)),e>r&&(l=e,e=r,r=l))),c&&(u=t[0][1],a=t[1][1],i||(u=h[0][1],a=h[1][1],c.invert&&(u=c.invert(u),a=c.invert(a)),u>a&&(l=u,u=a,a=l))),o&&c?[[e,u],[r,a]]:o?[e,r]:c&&[u,a])},n.clear=function(){return i=null,h[0][0]=h[0][1]=h[1][0]=h[1][1]=0,n},n.empty=function(){return o&&h[0][0]===h[1][0]||c&&h[0][1]===h[1][1]},oa.rebind(n,a,\"on\")};var fc={n:\"ns-resize\",e:\"ew-resize\",s:\"ns-resize\",w:\"ew-resize\",nw:\"nwse-resize\",ne:\"nesw-resize\",se:\"nwse-resize\",sw:\"nesw-resize\"},sc=[[\"n\",\"e\",\"s\",\"w\",\"nw\",\"ne\",\"se\",\"sw\"],[\"e\",\"w\"],[\"n\",\"s\"],[]];oa.time={};var hc=Date,gc=[\"Sunday\",\"Monday\",\"Tuesday\",\"Wednesday\",\"Thursday\",\"Friday\",\"Saturday\"];wi.prototype={getDate:function(){return this._.getUTCDate()},getDay:function(){return this._.getUTCDay()},getFullYear:function(){return this._.getUTCFullYear()},getHours:function(){return this._.getUTCHours()},getMilliseconds:function(){return this._.getUTCMilliseconds()},getMinutes:function(){return this._.getUTCMinutes()},getMonth:function(){return this._.getUTCMonth()},getSeconds:function(){return this._.getUTCSeconds()},getTime:function(){return this._.getTime()},getTimezoneOffset:function(){return 0},valueOf:function(){return this._.valueOf()},setDate:function(){pc.setUTCDate.apply(this._,arguments)},setDay:function(){pc.setUTCDay.apply(this._,arguments)},setFullYear:function(){pc.setUTCFullYear.apply(this._,arguments)},setHours:function(){pc.setUTCHours.apply(this._,arguments)},setMilliseconds:function(){pc.setUTCMilliseconds.apply(this._,arguments)},setMinutes:function(){pc.setUTCMinutes.apply(this._,arguments)},setMonth:function(){pc.setUTCMonth.apply(this._,arguments)},setSeconds:function(){pc.setUTCSeconds.apply(this._,arguments)},setTime:function(){pc.setTime.apply(this._,arguments)}};var pc=Date.prototype,dc=\"%a %b %e %X %Y\",mc=\"%m/%d/%Y\",vc=\"%H:%M:%S\",yc=[\"Sunday\",\"Monday\",\"Tuesday\",\"Wednesday\",\"Thursday\",\"Friday\",\"Saturday\"],Mc=[\"Sun\",\"Mon\",\"Tue\",\"Wed\",\"Thu\",\"Fri\",\"Sat\"],xc=[\"January\",\"February\",\"March\",\"April\",\"May\",\"June\",\"July\",\"August\",\"September\",\"October\",\"November\",\"December\"],bc=[\"Jan\",\"Feb\",\"Mar\",\"Apr\",\"May\",\"Jun\",\"Jul\",\"Aug\",\"Sep\",\"Oct\",\"Nov\",\"Dec\"];oa.time.year=Si(function(n){return n=oa.time.day(n),n.setMonth(0,1),n},function(n,t){n.setFullYear(n.getFullYear()+t)},function(n){return n.getFullYear()}),oa.time.years=oa.time.year.range,oa.time.years.utc=oa.time.year.utc.range,oa.time.day=Si(function(n){var t=new hc(1970,0);return t.setFullYear(n.getFullYear(),n.getMonth(),n.getDate()),t},function(n,t){n.setDate(n.getDate()+t)},function(n){return n.getDate()-1}),oa.time.days=oa.time.day.range,oa.time.days.utc=oa.time.day.utc.range,oa.time.dayOfYear=function(n){var t=oa.time.year(n);return Math.floor((n-t-(n.getTimezoneOffset()-t.getTimezoneOffset())*6e4)/864e5)},gc.forEach(function(n,t){n=n.toLowerCase(),t=7-t;var e=oa.time[n]=Si(function(n){return(n=oa.time.day(n)).setDate(n.getDate()-(n.getDay()+t)%7),n},function(n,t){n.setDate(n.getDate()+Math.floor(t)*7)},function(n){var e=oa.time.year(n).getDay();return Math.floor((oa.time.dayOfYear(n)+(e+t)%7)/7)-(e!==t)});oa.time[n+\"s\"]=e.range,oa.time[n+\"s\"].utc=e.utc.range,oa.time[n+\"OfYear\"]=function(n){var e=oa.time.year(n).getDay();return Math.floor((oa.time.dayOfYear(n)+(e+t)%7)/7)}}),oa.time.week=oa.time.sunday,oa.time.weeks=oa.time.sunday.range,oa.time.weeks.utc=oa.time.sunday.utc.range,oa.time.weekOfYear=oa.time.sundayOfYear,oa.time.format=function(n){function t(t){for(var r,u,i,a=[],o=-1,c=0;++o<e;)n.charCodeAt(o)===37&&(a.push(n.substring(c,o)),(u=qc[r=n.charAt(++o)])!=null&&(r=n.charAt(++o)),(i=Nc[r])&&(r=i(t,null==u?\"e\"===r?\" \":\"0\":u)),a.push(r),c=o+1);return a.push(n.substring(c,o)),a.join(\"\")}var e=n.length;return t.parse=function(t){var e={y:1900,m:0,d:1,H:0,M:0,S:0,L:0},r=ki(e,n,t,0);if(r!=t.length)return null;\"p\"in e&&(e.H=e.H%12+e.p*12);var u=new hc;return u.setFullYear(e.y,e.m,e.d),u.setHours(e.H,e.M,e.S,e.L),u},t.toString=function(){return n},t};var _c=Ai(yc),wc=Ai(Mc),Sc=Ai(xc),Ec=qi(xc),kc=Ai(bc),Ac=qi(bc),qc={\"-\":\"\",_:\" \",0:\"0\"},Nc={a:function(n){return Mc[n.getDay()]},A:function(n){return yc[n.getDay()]},b:function(n){return bc[n.getMonth()]},B:function(n){return xc[n.getMonth()]},c:oa.time.format(dc),d:function(n,t){return Ni(n.getDate(),t,2)},e:function(n,t){return Ni(n.getDate(),t,2)},H:function(n,t){return Ni(n.getHours(),t,2)},I:function(n,t){return Ni(n.getHours()%12||12,t,2)},j:function(n,t){return Ni(1+oa.time.dayOfYear(n),t,3)},L:function(n,t){return Ni(n.getMilliseconds(),t,3)},m:function(n,t){return Ni(n.getMonth()+1,t,2)},M:function(n,t){return Ni(n.getMinutes(),t,2)},p:function(n){return n.getHours()>=12?\"PM\":\"AM\"},S:function(n,t){return Ni(n.getSeconds(),t,2)},U:function(n,t){return Ni(oa.time.sundayOfYear(n),t,2)},w:function(n){return n.getDay()},W:function(n,t){return Ni(oa.time.mondayOfYear(n),t,2)},x:oa.time.format(mc),X:oa.time.format(vc),y:function(n,t){return Ni(n.getFullYear()%100,t,2)},Y:function(n,t){return Ni(n.getFullYear()%1e4,t,4)},Z:Bi,\"%\":function(){return\"%\"}},Tc={a:Ti,A:Ci,b:zi,B:Di,c:ji,d:Yi,e:Yi,H:Ui,I:Ui,L:Xi,m:Oi,M:Ii,p:Zi,S:Vi,x:Li,X:Fi,y:Pi,Y:Hi},Cc=/^\\s*\\d+/,zc=oa.map({am:0,pm:1});oa.time.format.utc=function(n){function t(n){try{hc=wi;var t=new hc;return t._=n,e(t)}finally{hc=Date}}var e=oa.time.format(n);return t.parse=function(n){try{hc=wi;var t=e.parse(n);return t&&t._}finally{hc=Date}},t.toString=e.toString,t};var Dc=oa.time.format.utc(\"%Y-%m-%dT%H:%M:%S.%LZ\");oa.time.format.iso=Date.prototype.toISOString&&+new Date(\"2000-01-01T00:00:00.000Z\")?$i:Dc,$i.parse=function(n){var t=new Date(n);return isNaN(t)?null:t},$i.toString=Dc.toString,oa.time.second=Si(function(n){return new hc(Math.floor(n/1e3)*1e3)},function(n,t){n.setTime(n.getTime()+Math.floor(t)*1e3)},function(n){return n.getSeconds()}),oa.time.seconds=oa.time.second.range,oa.time.seconds.utc=oa.time.second.utc.range,oa.time.minute=Si(function(n){return new hc(Math.floor(n/6e4)*6e4)},function(n,t){n.setTime(n.getTime()+Math.floor(t)*6e4)},function(n){return n.getMinutes()}),oa.time.minutes=oa.time.minute.range,oa.time.minutes.utc=oa.time.minute.utc.range,oa.time.hour=Si(function(n){var t=n.getTimezoneOffset()/60;return new hc((Math.floor(n/36e5-t)+t)*36e5)},function(n,t){n.setTime(n.getTime()+Math.floor(t)*36e5)},function(n){return n.getHours()}),oa.time.hours=oa.time.hour.range,oa.time.hours.utc=oa.time.hour.utc.range,oa.time.month=Si(function(n){return n=oa.time.day(n),n.setDate(1),n},function(n,t){n.setMonth(n.getMonth()+t)},function(n){return n.getMonth()}),oa.time.months=oa.time.month.range,oa.time.months.utc=oa.time.month.utc.range;var jc=[1e3,5e3,15e3,3e4,6e4,3e5,9e5,18e5,36e5,108e5,216e5,432e5,864e5,1728e5,6048e5,2592e6,7776e6,31536e6],Lc=[[oa.time.second,1],[oa.time.second,5],[oa.time.second,15],[oa.time.second,30],[oa.time.minute,1],[oa.time.minute,5],[oa.time.minute,15],[oa.time.minute,30],[oa.time.hour,1],[oa.time.hour,3],[oa.time.hour,6],[oa.time.hour,12],[oa.time.day,1],[oa.time.day,2],[oa.time.week,1],[oa.time.month,1],[oa.time.month,3],[oa.time.year,1]],Fc=[[oa.time.format(\"%Y\"),Dt],[oa.time.format(\"%B\"),function(n){return n.getMonth()}],[oa.time.format(\"%b %d\"),function(n){return n.getDate()!=1}],[oa.time.format(\"%a %d\"),function(n){return n.getDay()&&n.getDate()!=1}],[oa.time.format(\"%I %p\"),function(n){return n.getHours()}],[oa.time.format(\"%I:%M\"),function(n){return n.getMinutes()}],[oa.time.format(\":%S\"),function(n){return n.getSeconds()}],[oa.time.format(\".%L\"),function(n){return n.getMilliseconds()}]],Hc=oa.scale.linear(),Pc=Wi(Fc);Lc.year=function(n,t){return Hc.domain(n.map(na)).ticks(t).map(Qi)},oa.time.scale=function(){return Ji(oa.scale.linear(),Lc,Pc)};var Rc=Lc.map(function(n){return[n[0].utc,n[1]]}),Oc=[[oa.time.format.utc(\"%Y\"),Dt],[oa.time.format.utc(\"%B\"),function(n){return n.getUTCMonth()}],[oa.time.format.utc(\"%b %d\"),function(n){return n.getUTCDate()!=1}],[oa.time.format.utc(\"%a %d\"),function(n){return n.getUTCDay()&&n.getUTCDate()!=1}],[oa.time.format.utc(\"%I %p\"),function(n){return n.getUTCHours()}],[oa.time.format.utc(\"%I:%M\"),function(n){return n.getUTCMinutes()}],[oa.time.format.utc(\":%S\"),function(n){return n.getUTCSeconds()}],[oa.time.format.utc(\".%L\"),function(n){return n.getUTCMilliseconds()}]],Yc=Wi(Oc);return Rc.year=function(n,t){return Hc.domain(n.map(ea)).ticks(t).map(ta)},oa.time.scale.utc=function(){return Ji(oa.scale.linear(),Rc,Yc)},oa.text=function(){return oa.xhr.apply(oa,arguments).response(ra)},oa.json=function(n,t){return oa.xhr(n,\"application/json\",t).response(ua)},oa.html=function(n,t){return oa.xhr(n,\"text/html\",t).response(ia)},oa.xml=function(){return oa.xhr.apply(oa,arguments).response(aa)},oa}();</script>"
       ],
       "metadata": {},
       "output_type": "display_data"
      },
      {
       "output_type": "stream",
       "stream": "stderr",
       "text": [
        "Warning: New definition \n",
        "    |(NAtype"
       ]
      },
      {
       "html": [
        "<script charset=\"utf-8\">\n",
        "// Construct a callback for toggling geometries on/off using color groupings.\n",
        "//\n",
        "// Args:\n",
        "//   colorclass: class names assigned to geometries belonging to a paricular\n",
        "//               color group.\n",
        "//\n",
        "// Returns:\n",
        "//   A callback function.\n",
        "//\n",
        "var guide_toggle_color = function(parent_id, colorclass) {\n",
        "    var visible = true;\n",
        "    return (function() {\n",
        "        if (visible) {\n",
        "            d3.select(this)\n",
        "              .transition()\n",
        "              .duration(250)\n",
        "              .style(\"opacity\", 0.5);\n",
        "            d3.select(parent_id)\n",
        "              .selectAll(\".geometry.\" + colorclass)\n",
        "              .transition()\n",
        "              .duration(250)\n",
        "              .style(\"opacity\", 0);\n",
        "            visible = false;\n",
        "        } else {\n",
        "            d3.select(this)\n",
        "              .transition()\n",
        "              .duration(250)\n",
        "              .style(\"opacity\", 1.0);\n",
        "            d3.select(parent_id)\n",
        "              .selectAll(\".geometry.\" + colorclass)\n",
        "              .transition()\n",
        "              .duration(250)\n",
        "              .style(\"opacity\", 1.0);\n",
        "            visible = true;\n",
        "        }\n",
        "    });\n",
        "};\n",
        "\n",
        "\n",
        "// Construct a callback used to toggle highly-visibility grid lines.\n",
        "//\n",
        "// Args:\n",
        "//   color: Faded-in/faded-out color, respectively.\n",
        "//\n",
        "// Returns:\n",
        "//   Callback function.\n",
        "//\n",
        "var guide_background_mouseover = function(parent_id, color) {\n",
        "    return (function () {\n",
        "        d3.select(parent_id)\n",
        "          .selectAll(\".xgridlines, .ygridlines\")\n",
        "          .transition()\n",
        "          .duration(250)\n",
        "          .attr(\"stroke\", color);\n",
        "    });\n",
        "};\n",
        "\n",
        "var guide_background_mouseout = function(parent_id, color) {\n",
        "    return (function () {\n",
        "        d3.select(parent_id)\n",
        "          .selectAll(\".xgridlines, .ygridlines\")\n",
        "          .transition()\n",
        "          .duration(250)\n",
        "          .attr(\"stroke\", color);\n",
        "    });\n",
        "};\n",
        "\n",
        "\n",
        "// Construct a call back used for mouseover effects in the point geometry.\n",
        "//\n",
        "// Args:\n",
        "//   lw: Stroke width to transition to.\n",
        "//\n",
        "// Returns:\n",
        "//  Callback function.\n",
        "//\n",
        "var geom_point_mouseover = function(lw) {\n",
        "    return (function() {\n",
        "        d3.select(this)\n",
        "          .transition()\n",
        "          .duration(100)\n",
        "          .attr(\"stroke-width\", lw);\n",
        "    });\n",
        "};\n",
        "\n",
        "\n",
        "\n",
        "// Translate and scale geometry while trying to maintain scale invariance for\n",
        "// certain ellements.\n",
        "//\n",
        "// Args:\n",
        "//   parent_id: Id of the parent element containing the svg element.\n",
        "//   t: A transform of the form {\"scale\": scale}\n",
        "//   old_scale: The scaling factor applied prior to t.scale.\n",
        "//\n",
        "var set_geometry_transform = function(parent_id, t, old_scale) {\n",
        "    // transform geometries\n",
        "    d3.select(parent_id)\n",
        "      .selectAll(\".geometry\")\n",
        "      .attr(\"transform\", function() {\n",
        "          return \"translate(\" + [t.x, t.y] + \") \" +\n",
        "                 \"scale(\" + t.scale + \")\";\n",
        "      });\n",
        "\n",
        "    // unscale geometry widths, radiuses, etc.\n",
        "    var size_attribs = [\"r\"];\n",
        "    d3.select(parent_id)\n",
        "      .selectAll(\".geometry\")\n",
        "      .each(function() {\n",
        "          this_selection = d3.select(this);\n",
        "          for (var i in size_attribs) {\n",
        "              var attrib = size_attribs[i];\n",
        "              this_selection.attr(attrib,\n",
        "                  old_scale / t.scale * this_selection.attr(attrib));\n",
        "          }\n",
        "      });\n",
        "\n",
        "    // TODO:\n",
        "    // Is this going to work when we do things other than circles. Suppose we\n",
        "    // have plots where we have a path drawing some sort of symbol which we want\n",
        "    // to remain size-invariant. Should we be trying to place things using\n",
        "    // translate?\n",
        "\n",
        "    // transform gridlines\n",
        "    d3.select(parent_id)\n",
        "      .selectAll(\".xgridlines\")\n",
        "      .attr(\"transform\", function() {\n",
        "        return \"translate(\" + [t.x, 0.0] + \") \" +\n",
        "               \"scale(\" + [t.scale, 1.0] + \")\";\n",
        "      });\n",
        "\n",
        "      d3.select(parent_id)\n",
        "        .selectAll(\".ygridlines\")\n",
        "        .attr(\"transform\", function() {\n",
        "          return \"translate(\" + [0.0, t.y] + \") \" +\n",
        "                 \"scale(\" + [1.0, t.scale] + \")\";\n",
        "      });\n",
        "\n",
        "    // unscale gridline widths\n",
        "    d3.select(parent_id)\n",
        "      .selectAll(\".xgridlines,.ygridlines\")\n",
        "      .each(function() {\n",
        "          d3.select(this).attr(\"stroke-width\",\n",
        "              old_scale / t.scale * d3.select(this).attr(\"stroke-width\"));\n",
        "      });\n",
        "\n",
        "    // move labels around\n",
        "    d3.select(parent_id)\n",
        "      .selectAll(\".xlabels\")\n",
        "      .attr(\"transform\", function() {\n",
        "          return \"translate(\" + [t.x, 0.0] + \")\";\n",
        "      })\n",
        "      .selectAll(\"text\")\n",
        "        .each(function() {\n",
        "            d3.select(this).attr(\"x\",\n",
        "                t.scale / old_scale * d3.select(this).attr(\"x\"));\n",
        "        });\n",
        "\n",
        "    d3.select(parent_id)\n",
        "      .selectAll(\".ylabels\")\n",
        "      .attr(\"transform\", function() {\n",
        "          return \"translate(\" + [0.0, t.y] + \")\";\n",
        "      })\n",
        "      .selectAll(\"text\")\n",
        "        .each(function() {\n",
        "            d3.select(this).attr(\"y\",\n",
        "                t.scale / old_scale * d3.select(this).attr(\"y\"));\n",
        "        });\n",
        "};\n",
        "\n",
        "\n",
        "// Construct a callback used for zoombehavior.\n",
        "//\n",
        "// Args:\n",
        "//   parent_id: Id of the parent element containing the svg element.\n",
        "//   t: A transform of the form {\"scale\": scale} to close arround.\n",
        "//\n",
        "// Returns:\n",
        "//   A zoom behavior.\n",
        "//\n",
        "var zoom_behavior = function(parent_id, t) {\n",
        "    var zm = d3.behavior.zoom();\n",
        "    zm.scaleExtent([1.0/3.0, 10.0])\n",
        "      .on(\"zoom\", function(d, i) {\n",
        "        old_scale = t.scale;\n",
        "        t.scale = d3.event.scale;\n",
        "        var bbox = d3.select(parent_id)\n",
        "                     .select(\".guide.background\")\n",
        "                     .select(\"path\").node().getBBox();\n",
        "\n",
        "        var x_min = -bbox.width * t.scale - (t.scale * bbox.width - bbox.width);\n",
        "        var x_max = bbox.width * t.scale;\n",
        "        var y_min = -bbox.height * t.scale - (t.scale * bbox.height - bbox.height);\n",
        "        var y_max = bbox.height * t.scale;\n",
        "\n",
        "        var x0 = bbox.x - t.scale * bbox.x;\n",
        "        var y0 = bbox.y - t.scale * bbox.y;\n",
        "\n",
        "        var tx = Math.max(Math.min(d3.event.translate[0] - x0, x_max), x_min);\n",
        "        var ty = Math.max(Math.min(d3.event.translate[1] - y0, y_max), y_min);\n",
        "\n",
        "        tx += x0;\n",
        "        ty += y0;\n",
        "\n",
        "        set_geometry_transform(\n",
        "            parent_id,\n",
        "            {\"x\": tx,\n",
        "             \"y\": ty,\n",
        "             \"scale\": t.scale}, old_scale);\n",
        "        zm.translate([tx, ty]);\n",
        "    });\n",
        "    return zm;\n",
        "};\n",
        "\n",
        "\n",
        "</script>"
       ],
       "metadata": {},
       "output_type": "display_data"
      },
      {
       "output_type": "stream",
       "stream": "stderr",
       "text": [
        ",Any) at /Users/johnmyleswhite/.julia/DataFrames/src/operators.jl:385\n",
        "is ambiguous with \n",
        "    |(Any,SynchronousStepCollection) at /Users/johnmyleswhite/.julia/BinDeps/src/BinDeps.jl:286.\n",
        "Make sure \n",
        "    |(NAtype,SynchronousStepCollection)\n",
        "is defined first.\n",
        "Warning: New definition \n",
        "    |(Any,NAtype) at /Users/johnmyleswhite/.julia/DataFrames/src/operators.jl:385\n",
        "is ambiguous with \n",
        "    |(SynchronousStepCollection,Any) at /Users/johnmyleswhite/.julia/BinDeps/src/BinDeps.jl:283.\n",
        "Make sure \n",
        "    |(SynchronousStepCollection,NAtype)"
       ]
      }
     ],
     "prompt_number": 34
    },
    {
     "cell_type": "code",
     "collapsed": false,
     "input": [
      "x = rand(Gamma(3, 3), 100_000)"
     ],
     "language": "python",
     "metadata": {
      "slideshow": {
       "slide_type": "slide"
      }
     },
     "outputs": [
      {
       "metadata": {},
       "output_type": "pyout",
       "prompt_number": 35,
       "text": [
        "100000-element Array{Float64,1}:\n",
        " 12.3046 \n",
        "  2.01665\n",
        "  5.92135\n",
        " 16.9414 \n",
        "  5.59474\n",
        " 12.5869 \n",
        " 11.2644 \n",
        " 13.0225 \n",
        "  6.09856\n",
        "  6.68763\n",
        " 10.9736 \n",
        " 12.211  \n",
        "  9.82874\n",
        "  \u22ee      \n",
        "  1.58611\n",
        " 15.6766 \n",
        " 13.6291 \n",
        "  7.63812\n",
        " 11.5742 \n",
        " 14.3902 \n",
        " 16.5905 \n",
        "  2.77791\n",
        "  8.3286 \n",
        " 15.7283 \n",
        "  2.88726\n",
        "  8.82114"
       ]
      },
      {
       "output_type": "stream",
       "stream": "stderr",
       "text": [
        "\n",
        "is defined first.\n",
        "Warning: using Base.Stat in module Stat conflicts with an existing identifier.\n"
       ]
      }
     ],
     "prompt_number": 35
    },
    {
     "cell_type": "code",
     "collapsed": false,
     "input": [
      "k = kde(x)"
     ],
     "language": "python",
     "metadata": {
      "slideshow": {
       "slide_type": "slide"
      }
     },
     "outputs": [
      {
       "metadata": {},
       "output_type": "pyout",
       "prompt_number": 36,
       "text": [
        "UnivariateKDE([-1.1802330377043964,-1.152794683858695,-1.125356330012994,-1.0979179761672928,-1.0704796223215918,-1.0430412684758905,-1.0156029146301895,-0.9881645607844882,-0.9607262069387872,-0.9332878530930859  \u2026  54.739132099834556,54.76657045368025,54.794008807525955,54.82144716137166,54.84888551521736,54.87632386906306,54.90376222290876,54.93120057675446,54.958638930600166,54.98607728444586],[2.186535845962595e-6,2.682267931661611e-6,3.2935428741533157e-6,4.042430443041561e-6,4.954862080146574e-6,6.0611509907528005e-6,7.3965586945730355e-6,9.001907702674977e-6,1.0924238997563757e-5,1.3217511869428183e-5  \u2026  6.674614201890978e-7,6.572623418029484e-7,6.703484590931828e-7,7.096324095013631e-7,7.788729264426354e-7,8.828367316115787e-7,1.0274836850334746e-6,1.2201781158318627e-6,1.4699293372224208e-6,1.7876643698567108e-6])"
       ]
      }
     ],
     "prompt_number": 36
    },
    {
     "cell_type": "code",
     "collapsed": false,
     "input": [
      "names(Distributions.UnivariateKDE)"
     ],
     "language": "python",
     "metadata": {
      "slideshow": {
       "slide_type": "slide"
      }
     },
     "outputs": [
      {
       "metadata": {},
       "output_type": "pyout",
       "prompt_number": 37,
       "text": [
        "2-element Array{Any,1}:\n",
        " :x      \n",
        " :density"
       ]
      }
     ],
     "prompt_number": 37
    },
    {
     "cell_type": "code",
     "collapsed": false,
     "input": [
      "set_default_plot_size(25cm, 15cm)"
     ],
     "language": "python",
     "metadata": {
      "slideshow": {
       "slide_type": "slide"
      }
     },
     "outputs": [
      {
       "metadata": {},
       "output_type": "pyout",
       "prompt_number": 38,
       "text": [
        "150.0mm"
       ]
      }
     ],
     "prompt_number": 38
    },
    {
     "cell_type": "code",
     "collapsed": false,
     "input": [
      "plot(x = k.x, y = k.density,\n",
      "     Guide.XLabel(\"x\"), Guide.YLabel(\"Estimated Density\"),\n",
      "     Geom.line)"
     ],
     "language": "python",
     "metadata": {
      "slideshow": {
       "slide_type": "slide"
      }
     },
     "outputs": [
      {
       "html": [
        "<div id=\"gadflyplot-CdSwQSW5n2FqdU7sMXQM\"></div>\n",
        "<script>\n",
        "function draw_with_data(data, parent_id) {\n",
        "  var g = d3.select(parent_id)\n",
        "            .append(\"svg\")\n",
        "              .attr(\"width\", \"250mm\")\n",
        "              .attr(\"height\", \"150mm\")\n",
        "              .attr(\"viewBox\", \"0 0 250 150\")\n",
        "              .attr(\"stroke-width\", \"0.5\")\n",
        "              .attr(\"style\", \"stroke:black;fill:black\");\n",
        "  g.append(\"defs\");\n",
        "  var t = {\"scale\": 1.0};\n",
        "(function (g) {\n",
        "  d3.select(\"defs\")\n",
        "  .append(\"svg:clipPath\")\n",
        "    .attr(\"id\", parent_id + \"_clippath0\")\n",
        "    .append(\"svg:path\")\n",
        "      .attr(\"d\", \" M5,0 L 27.31 0 27.31 136.44 5 136.44 z\");g.attr(\"clip-path\", \"url(#\" + parent_id + \"_clippath0)\");\n",
        "  (function (g) {\n",
        "    g.attr(\"stroke\", \"none\")\n",
        "     .attr(\"fill\", \"#4C404B\")\n",
        "     .attr(\"font-family\", \"PT Sans,Helvetica Neue,Helvetica,sans\")\n",
        "     .attr(\"font-size\", \"3.18\")\n",
        "     .attr(\"class\", \"guide ylabels\");\n",
        "    g.append(\"svg:text\")\n",
        "       .attr(\"x\", 26.31)\n",
        "       .attr(\"y\", 68.22)\n",
        "       .attr(\"text-anchor\", \"end\")\n",
        "       .style(\"dominant-baseline\", \"central\")\n",
        "    .call(function(text) {\n",
        "  text.text(\"0.05\");\n",
        "})\n",
        ";\n",
        "    g.append(\"svg:text\")\n",
        "       .attr(\"x\", 26.31)\n",
        "       .attr(\"y\", 8.58)\n",
        "       .attr(\"text-anchor\", \"end\")\n",
        "       .style(\"dominant-baseline\", \"central\")\n",
        "    .call(function(text) {\n",
        "  text.text(\"0.1\");\n",
        "})\n",
        ";\n",
        "    g.append(\"svg:text\")\n",
        "       .attr(\"x\", 26.31)\n",
        "       .attr(\"y\", 306.79)\n",
        "       .attr(\"text-anchor\", \"end\")\n",
        "       .style(\"dominant-baseline\", \"central\")\n",
        "    .call(function(text) {\n",
        "  text.text(\"-0.15\");\n",
        "})\n",
        ";\n",
        "    g.append(\"svg:text\")\n",
        "       .attr(\"x\", 26.31)\n",
        "       .attr(\"y\", -51.06)\n",
        "       .attr(\"text-anchor\", \"end\")\n",
        "       .style(\"dominant-baseline\", \"central\")\n",
        "    .call(function(text) {\n",
        "  text.text(\"0.15\");\n",
        "})\n",
        ";\n",
        "    g.append(\"svg:text\")\n",
        "       .attr(\"x\", 26.31)\n",
        "       .attr(\"y\", 127.86)\n",
        "       .attr(\"text-anchor\", \"end\")\n",
        "       .style(\"dominant-baseline\", \"central\")\n",
        "    .call(function(text) {\n",
        "  text.text(\"0\");\n",
        "})\n",
        ";\n",
        "    g.append(\"svg:text\")\n",
        "       .attr(\"x\", 26.31)\n",
        "       .attr(\"y\", -110.7)\n",
        "       .attr(\"text-anchor\", \"end\")\n",
        "       .style(\"dominant-baseline\", \"central\")\n",
        "    .call(function(text) {\n",
        "  text.text(\"0.2\");\n",
        "})\n",
        ";\n",
        "    g.append(\"svg:text\")\n",
        "       .attr(\"x\", 26.31)\n",
        "       .attr(\"y\", 247.14)\n",
        "       .attr(\"text-anchor\", \"end\")\n",
        "       .style(\"dominant-baseline\", \"central\")\n",
        "    .call(function(text) {\n",
        "  text.text(\"-0.1\");\n",
        "})\n",
        ";\n",
        "    g.append(\"svg:text\")\n",
        "       .attr(\"x\", 26.31)\n",
        "       .attr(\"y\", -170.35)\n",
        "       .attr(\"text-anchor\", \"end\")\n",
        "       .style(\"dominant-baseline\", \"central\")\n",
        "    .call(function(text) {\n",
        "  text.text(\"0.25\");\n",
        "})\n",
        ";\n",
        "    g.append(\"svg:text\")\n",
        "       .attr(\"x\", 26.31)\n",
        "       .attr(\"y\", 187.5)\n",
        "       .attr(\"text-anchor\", \"end\")\n",
        "       .style(\"dominant-baseline\", \"central\")\n",
        "    .call(function(text) {\n",
        "  text.text(\"-0.05\");\n",
        "})\n",
        ";\n",
        "  }(g.append(\"g\")));\n",
        "  (function (g) {\n",
        "    g.attr(\"stroke\", \"none\")\n",
        "     .attr(\"fill\", \"#362A35\")\n",
        "     .attr(\"font-family\", \"PT Sans,Helvetica Neue,Helvetica,sans\")\n",
        "     .attr(\"font-size\", \"3.88\");\n",
        "    g.append(\"svg:text\")\n",
        "       .attr(\"x\", 8.63)\n",
        "       .attr(\"y\", 68.22)\n",
        "       .attr(\"text-anchor\", \"middle\")\n",
        "       .style(\"dominant-baseline\", \"central\")\n",
        "       .attr(\"transform\", \"rotate(-90, 8.63, 68.22)\")\n",
        "    .call(function(text) {\n",
        "  text.text(\"Estimated Density\");\n",
        "})\n",
        ";\n",
        "  }(g.append(\"g\")));\n",
        "}(g.append(\"g\")));\n",
        "(function (g) {\n",
        "  d3.select(\"defs\")\n",
        "  .append(\"svg:clipPath\")\n",
        "    .attr(\"id\", parent_id + \"_clippath1\")\n",
        "    .append(\"svg:path\")\n",
        "      .attr(\"d\", \" M22.31,131.44 L 250 131.44 250 145 22.31 145 z\");g.attr(\"clip-path\", \"url(#\" + parent_id + \"_clippath1)\");\n",
        "  (function (g) {\n",
        "    g.attr(\"stroke\", \"none\")\n",
        "     .attr(\"fill\", \"#4C404B\")\n",
        "     .attr(\"font-family\", \"PT Sans,Helvetica Neue,Helvetica,sans\")\n",
        "     .attr(\"font-size\", \"3.18\")\n",
        "     .attr(\"class\", \"guide xlabels\");\n",
        "    g.append(\"svg:text\")\n",
        "       .attr(\"x\", -69.22)\n",
        "       .attr(\"y\", 135.74)\n",
        "       .attr(\"text-anchor\", \"middle\")\n",
        "    .call(function(text) {\n",
        "  text.text(\"-60\");\n",
        "})\n",
        ";\n",
        "    g.append(\"svg:text\")\n",
        "       .attr(\"x\", 238.84)\n",
        "       .attr(\"y\", 135.74)\n",
        "       .attr(\"text-anchor\", \"middle\")\n",
        "    .call(function(text) {\n",
        "  text.text(\"60\");\n",
        "})\n",
        ";\n",
        "    g.append(\"svg:text\")\n",
        "       .attr(\"x\", 444.21)\n",
        "       .attr(\"y\", 135.74)\n",
        "       .attr(\"text-anchor\", \"middle\")\n",
        "    .call(function(text) {\n",
        "  text.text(\"140\");\n",
        "})\n",
        ";\n",
        "    g.append(\"svg:text\")\n",
        "       .attr(\"x\", -223.24)\n",
        "       .attr(\"y\", 135.74)\n",
        "       .attr(\"text-anchor\", \"middle\")\n",
        "    .call(function(text) {\n",
        "  text.text(\"-120\");\n",
        "})\n",
        ";\n",
        "    g.append(\"svg:text\")\n",
        "       .attr(\"x\", 136.15)\n",
        "       .attr(\"y\", 135.74)\n",
        "       .attr(\"text-anchor\", \"middle\")\n",
        "    .call(function(text) {\n",
        "  text.text(\"20\");\n",
        "})\n",
        ";\n",
        "    g.append(\"svg:text\")\n",
        "       .attr(\"x\", -120.56)\n",
        "       .attr(\"y\", 135.74)\n",
        "       .attr(\"text-anchor\", \"middle\")\n",
        "    .call(function(text) {\n",
        "  text.text(\"-80\");\n",
        "})\n",
        ";\n",
        "    g.append(\"svg:text\")\n",
        "       .attr(\"x\", 187.5)\n",
        "       .attr(\"y\", 135.74)\n",
        "       .attr(\"text-anchor\", \"middle\")\n",
        "    .call(function(text) {\n",
        "  text.text(\"40\");\n",
        "})\n",
        ";\n",
        "    g.append(\"svg:text\")\n",
        "       .attr(\"x\", 341.52)\n",
        "       .attr(\"y\", 135.74)\n",
        "       .attr(\"text-anchor\", \"middle\")\n",
        "    .call(function(text) {\n",
        "  text.text(\"100\");\n",
        "})\n",
        ";\n",
        "    g.append(\"svg:text\")\n",
        "       .attr(\"x\", -17.87)\n",
        "       .attr(\"y\", 135.74)\n",
        "       .attr(\"text-anchor\", \"middle\")\n",
        "    .call(function(text) {\n",
        "  text.text(\"-40\");\n",
        "})\n",
        ";\n",
        "    g.append(\"svg:text\")\n",
        "       .attr(\"x\", 84.81)\n",
        "       .attr(\"y\", 135.74)\n",
        "       .attr(\"text-anchor\", \"middle\")\n",
        "    .call(function(text) {\n",
        "  text.text(\"0\");\n",
        "})\n",
        ";\n",
        "    g.append(\"svg:text\")\n",
        "       .attr(\"x\", 33.47)\n",
        "       .attr(\"y\", 135.74)\n",
        "       .attr(\"text-anchor\", \"middle\")\n",
        "    .call(function(text) {\n",
        "  text.text(\"-20\");\n",
        "})\n",
        ";\n",
        "    g.append(\"svg:text\")\n",
        "       .attr(\"x\", 392.87)\n",
        "       .attr(\"y\", 135.74)\n",
        "       .attr(\"text-anchor\", \"middle\")\n",
        "    .call(function(text) {\n",
        "  text.text(\"120\");\n",
        "})\n",
        ";\n",
        "    g.append(\"svg:text\")\n",
        "       .attr(\"x\", 495.55)\n",
        "       .attr(\"y\", 135.74)\n",
        "       .attr(\"text-anchor\", \"middle\")\n",
        "    .call(function(text) {\n",
        "  text.text(\"160\");\n",
        "})\n",
        ";\n",
        "    g.append(\"svg:text\")\n",
        "       .attr(\"x\", 290.18)\n",
        "       .attr(\"y\", 135.74)\n",
        "       .attr(\"text-anchor\", \"middle\")\n",
        "    .call(function(text) {\n",
        "  text.text(\"80\");\n",
        "})\n",
        ";\n",
        "    g.append(\"svg:text\")\n",
        "       .attr(\"x\", -171.9)\n",
        "       .attr(\"y\", 135.74)\n",
        "       .attr(\"text-anchor\", \"middle\")\n",
        "    .call(function(text) {\n",
        "  text.text(\"-100\");\n",
        "})\n",
        ";\n",
        "  }(g.append(\"g\")));\n",
        "  (function (g) {\n",
        "    g.attr(\"stroke\", \"none\")\n",
        "     .attr(\"fill\", \"#362A35\")\n",
        "     .attr(\"font-family\", \"PT Sans,Helvetica Neue,Helvetica,sans\")\n",
        "     .attr(\"font-size\", \"3.88\");\n",
        "    g.append(\"svg:text\")\n",
        "       .attr(\"x\", 136.15)\n",
        "       .attr(\"y\", 143)\n",
        "       .attr(\"text-anchor\", \"middle\")\n",
        "    .call(function(text) {\n",
        "  text.text(\"x\");\n",
        "})\n",
        ";\n",
        "  }(g.append(\"g\")));\n",
        "}(g.append(\"g\")));\n",
        "(function (g) {\n",
        "  g.on(\"mouseover\", guide_background_mouseover(parent_id, \"#C6C6C9\"))\n",
        "   .on(\"mouseout\", guide_background_mouseout(parent_id, \"#F0F0F3\"))\n",
        "   .call(zoom_behavior(parent_id, t));\n",
        "  (function (g) {\n",
        "    d3.select(\"defs\")\n",
        "  .append(\"svg:clipPath\")\n",
        "    .attr(\"id\", parent_id + \"_clippath2\")\n",
        "    .append(\"svg:path\")\n",
        "      .attr(\"d\", \" M27.31,5 L 245 5 245 131.44 27.31 131.44 z\");g.attr(\"clip-path\", \"url(#\" + parent_id + \"_clippath2)\");\n",
        "    (function (g) {\n",
        "      g.attr(\"class\", \"guide background\")\n",
        "       .attr(\"stroke\", \"#F1F1F5\")\n",
        "       .attr(\"fill\", \"#FAFAFA\");\n",
        "      g.append(\"svg:path\")\n",
        "         .attr(\"d\", \"M27.31,5 L 245 5 245 131.44 27.31 131.44 z\");\n",
        "    }(g.append(\"g\")));\n",
        "    (function (g) {\n",
        "      g.attr(\"stroke\", \"#F0F0F3\")\n",
        "       .attr(\"stroke-width\", \"0.2\")\n",
        "       .attr(\"class\", \"guide ygridlines\");\n",
        "      g.append(\"svg:path\")\n",
        "         .attr(\"d\", \"M27.31,68.22 L 245 68.22\");\n",
        "      g.append(\"svg:path\")\n",
        "         .attr(\"d\", \"M27.31,8.58 L 245 8.58\");\n",
        "      g.append(\"svg:path\")\n",
        "         .attr(\"d\", \"M27.31,306.79 L 245 306.79\");\n",
        "      g.append(\"svg:path\")\n",
        "         .attr(\"d\", \"M27.31,-51.06 L 245 -51.06\");\n",
        "      g.append(\"svg:path\")\n",
        "         .attr(\"d\", \"M27.31,127.86 L 245 127.86\");\n",
        "      g.append(\"svg:path\")\n",
        "         .attr(\"d\", \"M27.31,-110.7 L 245 -110.7\");\n",
        "      g.append(\"svg:path\")\n",
        "         .attr(\"d\", \"M27.31,247.14 L 245 247.14\");\n",
        "      g.append(\"svg:path\")\n",
        "         .attr(\"d\", \"M27.31,-170.35 L 245 -170.35\");\n",
        "      g.append(\"svg:path\")\n",
        "         .attr(\"d\", \"M27.31,187.5 L 245 187.5\");\n",
        "    }(g.append(\"g\")));\n",
        "    (function (g) {\n",
        "      g.attr(\"stroke\", \"#F0F0F3\")\n",
        "       .attr(\"stroke-width\", \"0.2\")\n",
        "       .attr(\"class\", \"guide xgridlines\");\n",
        "      g.append(\"svg:path\")\n",
        "         .attr(\"d\", \"M-69.22,5 L -69.22 131.44\");\n",
        "      g.append(\"svg:path\")\n",
        "         .attr(\"d\", \"M238.84,5 L 238.84 131.44\");\n",
        "      g.append(\"svg:path\")\n",
        "         .attr(\"d\", \"M444.21,5 L 444.21 131.44\");\n",
        "      g.append(\"svg:path\")\n",
        "         .attr(\"d\", \"M-223.24,5 L -223.24 131.44\");\n",
        "      g.append(\"svg:path\")\n",
        "         .attr(\"d\", \"M136.15,5 L 136.15 131.44\");\n",
        "      g.append(\"svg:path\")\n",
        "         .attr(\"d\", \"M-120.56,5 L -120.56 131.44\");\n",
        "      g.append(\"svg:path\")\n",
        "         .attr(\"d\", \"M187.5,5 L 187.5 131.44\");\n",
        "      g.append(\"svg:path\")\n",
        "         .attr(\"d\", \"M341.52,5 L 341.52 131.44\");\n",
        "      g.append(\"svg:path\")\n",
        "         .attr(\"d\", \"M-17.87,5 L -17.87 131.44\");\n",
        "      g.append(\"svg:path\")\n",
        "         .attr(\"d\", \"M84.81,5 L 84.81 131.44\");\n",
        "      g.append(\"svg:path\")\n",
        "         .attr(\"d\", \"M33.47,5 L 33.47 131.44\");\n",
        "      g.append(\"svg:path\")\n",
        "         .attr(\"d\", \"M392.87,5 L 392.87 131.44\");\n",
        "      g.append(\"svg:path\")\n",
        "         .attr(\"d\", \"M495.55,5 L 495.55 131.44\");\n",
        "      g.append(\"svg:path\")\n",
        "         .attr(\"d\", \"M290.18,5 L 290.18 131.44\");\n",
        "      g.append(\"svg:path\")\n",
        "         .attr(\"d\", \"M-171.9,5 L -171.9 131.44\");\n",
        "    }(g.append(\"g\")));\n",
        "  }(g.append(\"g\")));\n",
        "  (function (g) {\n",
        "    d3.select(\"defs\")\n",
        "  .append(\"svg:clipPath\")\n",
        "    .attr(\"id\", parent_id + \"_clippath3\")\n",
        "    .append(\"svg:path\")\n",
        "      .attr(\"d\", \" M27.31,5 L 245 5 245 131.44 27.31 131.44 z\");g.attr(\"clip-path\", \"url(#\" + parent_id + \"_clippath3)\");\n",
        "    (function (g) {\n",
        "      g.attr(\"stroke\", \"#00BFFF\")\n",
        "       .attr(\"class\", \"geometry\")\n",
        "       .attr(\"fill\", \"none\")\n",
        "       .attr(\"stroke-width\", \"0.3\");\n",
        "      g.append(\"svg:path\")\n",
        "         .attr(\"d\", \"M81.78,127.86 L 81.85 127.86 81.92 127.86 81.99 127.86 82.06 127.86 82.13 127.85 82.2 127.85 82.27 127.85 82.35 127.85 82.42 127.85 82.49 127.84 82.56 127.84 82.63 127.83 82.7 127.83 82.77 127.82 82.84 127.82 82.91 127.81 82.98 127.8 83.05 127.79 83.12 127.77 83.19 127.76 83.26 127.74 83.33 127.72 83.4 127.7 83.47 127.67 83.54 127.64 83.61 127.61 83.68 127.57 83.75 127.53 83.82 127.49 83.89 127.44 83.97 127.38 84.04 127.32 84.11 127.25 84.18 127.17 84.25 127.09 84.32 127 84.39 126.9 84.46 126.79 84.53 126.67 84.6 126.54 84.67 126.41 84.74 126.26 84.81 126.1 84.88 125.93 84.95 125.75 85.02 125.55 85.09 125.34 85.16 125.12 85.23 124.89 85.3 124.64 85.37 124.38 85.44 124.11 85.51 123.82 85.59 123.51 85.66 123.2 85.73 122.86 85.8 122.52 85.87 122.15 85.94 121.78 86.01 121.39 86.08 120.98 86.15 120.56 86.22 120.12 86.29 119.67 86.36 119.2 86.43 118.72 86.5 118.22 86.57 117.71 86.64 117.19 86.71 116.64 86.78 116.09 86.85 115.52 86.92 114.93 86.99 114.34 87.06 113.72 87.14 113.1 87.21 112.46 87.28 111.8 87.35 111.14 87.42 110.46 87.49 109.76 87.56 109.06 87.63 108.34 87.7 107.61 87.77 106.87 87.84 106.12 87.91 105.36 87.98 104.59 88.05 103.81 88.12 103.02 88.19 102.23 88.26 101.43 88.33 100.62 88.4 99.8 88.47 98.98 88.54 98.16 88.61 97.33 88.68 96.49 88.76 95.66 88.83 94.82 88.9 93.98 88.97 93.15 89.04 92.31 89.11 91.47 89.18 90.63 89.25 89.8 89.32 88.96 89.39 88.13 89.46 87.3 89.53 86.47 89.6 85.65 89.67 84.82 89.74 84 89.81 83.19 89.88 82.37 89.95 81.56 90.02 80.75 90.09 79.95 90.16 79.15 90.23 78.35 90.3 77.55 90.38 76.76 90.45 75.96 90.52 75.17 90.59 74.39 90.66 73.6 90.73 72.82 90.8 72.05 90.87 71.27 90.94 70.5 91.01 69.73 91.08 68.96 91.15 68.2 91.22 67.44 91.29 66.68 91.36 65.93 91.43 65.18 91.5 64.44 91.57 63.7 91.64 62.97 91.71 62.24 91.78 61.52 91.85 60.8 91.92 60.09 92 59.38 92.07 58.68 92.14 57.99 92.21 57.3 92.28 56.62 92.35 55.95 92.42 55.29 92.49 54.63 92.56 53.98 92.63 53.33 92.7 52.7 92.77 52.07 92.84 51.45 92.91 50.83 92.98 50.23 93.05 49.63 93.12 49.04 93.19 48.45 93.26 47.88 93.33 47.31 93.4 46.75 93.47 46.2 93.54 45.65 93.62 45.11 93.69 44.57 93.76 44.04 93.83 43.52 93.9 43 93.97 42.49 94.04 41.98 94.11 41.48 94.18 40.98 94.25 40.49 94.32 40 94.39 39.51 94.46 39.03 94.53 38.55 94.6 38.07 94.67 37.6 94.74 37.13 94.81 36.67 94.88 36.21 94.95 35.75 95.02 35.3 95.09 34.85 95.16 34.41 95.24 33.98 95.31 33.55 95.38 33.13 95.45 32.72 95.52 32.32 95.59 31.92 95.66 31.54 95.73 31.16 95.8 30.8 95.87 30.44 95.94 30.1 96.01 29.76 96.08 29.44 96.15 29.13 96.22 28.84 96.29 28.55 96.36 28.28 96.43 28.01 96.5 27.76 96.57 27.52 96.64 27.29 96.71 27.07 96.78 26.86 96.86 26.65 96.93 26.46 97 26.27 97.07 26.09 97.14 25.91 97.21 25.74 97.28 25.57 97.35 25.4 97.42 25.24 97.49 25.08 97.56 24.92 97.63 24.76 97.7 24.6 97.77 24.45 97.84 24.29 97.91 24.13 97.98 23.97 98.05 23.82 98.12 23.66 98.19 23.5 98.26 23.34 98.33 23.18 98.41 23.03 98.48 22.88 98.55 22.72 98.62 22.58 98.69 22.43 98.76 22.29 98.83 22.16 98.9 22.02 98.97 21.9 99.04 21.78 99.11 21.67 99.18 21.57 99.25 21.48 99.32 21.39 99.39 21.31 99.46 21.24 99.53 21.18 99.6 21.13 99.67 21.09 99.74 21.06 99.81 21.03 99.88 21.02 99.95 21.01 100.03 21.01 100.1 21.01 100.17 21.03 100.24 21.05 100.31 21.07 100.38 21.1 100.45 21.14 100.52 21.18 100.59 21.22 100.66 21.26 100.73 21.31 100.8 21.36 100.87 21.41 100.94 21.46 101.01 21.51 101.08 21.56 101.15 21.61 101.22 21.66 101.29 21.71 101.36 21.75 101.43 21.8 101.5 21.85 101.57 21.9 101.65 21.94 101.72 21.99 101.79 22.04 101.86 22.08 101.93 22.13 102 22.18 102.07 22.23 102.14 22.29 102.21 22.34 102.28 22.4 102.35 22.46 102.42 22.53 102.49 22.6 102.56 22.67 102.63 22.75 102.7 22.83 102.77 22.92 102.84 23.01 102.91 23.11 102.98 23.22 103.05 23.33 103.12 23.44 103.19 23.56 103.27 23.69 103.34 23.82 103.41 23.96 103.48 24.1 103.55 24.25 103.62 24.4 103.69 24.56 103.76 24.72 103.83 24.88 103.9 25.05 103.97 25.23 104.04 25.4 104.11 25.58 104.18 25.76 104.25 25.95 104.32 26.13 104.39 26.32 104.46 26.51 104.53 26.71 104.6 26.9 104.67 27.1 104.74 27.3 104.81 27.5 104.89 27.7 104.96 27.91 105.03 28.12 105.1 28.33 105.17 28.54 105.24 28.76 105.31 28.98 105.38 29.2 105.45 29.42 105.52 29.65 105.59 29.88 105.66 30.12 105.73 30.35 105.8 30.6 105.87 30.84 105.94 31.09 106.01 31.34 106.08 31.59 106.15 31.85 106.22 32.11 106.29 32.38 106.36 32.65 106.43 32.92 106.51 33.19 106.58 33.46 106.65 33.74 106.72 34.02 106.79 34.3 106.86 34.58 106.93 34.86 107 35.14 107.07 35.43 107.14 35.71 107.21 35.99 107.28 36.28 107.35 36.56 107.42 36.84 107.49 37.12 107.56 37.4 107.63 37.68 107.7 37.96 107.77 38.24 107.84 38.52 107.91 38.8 107.98 39.08 108.05 39.36 108.13 39.64 108.2 39.92 108.27 40.19 108.34 40.47 108.41 40.75 108.48 41.04 108.55 41.32 108.62 41.6 108.69 41.89 108.76 42.18 108.83 42.47 108.9 42.76 108.97 43.06 109.04 43.35 109.11 43.65 109.18 43.95 109.25 44.26 109.32 44.56 109.39 44.87 109.46 45.18 109.53 45.49 109.6 45.8 109.68 46.12 109.75 46.43 109.82 46.74 109.89 47.06 109.96 47.37 110.03 47.68 110.1 47.99 110.17 48.3 110.24 48.6 110.31 48.91 110.38 49.2 110.45 49.5 110.52 49.79 110.59 50.08 110.66 50.36 110.73 50.64 110.8 50.91 110.87 51.18 110.94 51.44 111.01 51.7 111.08 51.95 111.15 52.2 111.22 52.44 111.3 52.68 111.37 52.91 111.44 53.14 111.51 53.37 111.58 53.59 111.65 53.82 111.72 54.04 111.79 54.26 111.86 54.48 111.93 54.7 112 54.92 112.07 55.15 112.14 55.37 112.21 55.6 112.28 55.83 112.35 56.07 112.42 56.31 112.49 56.56 112.56 56.81 112.63 57.06 112.7 57.33 112.77 57.6 112.84 57.87 112.92 58.15 112.99 58.44 113.06 58.73 113.13 59.03 113.2 59.33 113.27 59.64 113.34 59.96 113.41 60.27 113.48 60.6 113.55 60.92 113.62 61.25 113.69 61.57 113.76 61.9 113.83 62.24 113.9 62.57 113.97 62.9 114.04 63.23 114.11 63.55 114.18 63.88 114.25 64.21 114.32 64.53 114.39 64.85 114.46 65.17 114.54 65.48 114.61 65.79 114.68 66.1 114.75 66.4 114.82 66.71 114.89 67.01 114.96 67.3 115.03 67.6 115.1 67.89 115.17 68.17 115.24 68.46 115.31 68.75 115.38 69.03 115.45 69.31 115.52 69.59 115.59 69.87 115.66 70.14 115.73 70.42 115.8 70.69 115.87 70.96 115.94 71.23 116.01 71.5 116.08 71.76 116.16 72.03 116.23 72.29 116.3 72.55 116.37 72.81 116.44 73.07 116.51 73.32 116.58 73.57 116.65 73.82 116.72 74.07 116.79 74.31 116.86 74.55 116.93 74.79 117 75.03 117.07 75.26 117.14 75.5 117.21 75.73 117.28 75.96 117.35 76.19 117.42 76.42 117.49 76.64 117.56 76.87 117.63 77.1 117.7 77.33 117.78 77.56 117.85 77.79 117.92 78.02 117.99 78.25 118.06 78.49 118.13 78.72 118.2 78.96 118.27 79.21 118.34 79.45 118.41 79.7 118.48 79.95 118.55 80.2 118.62 80.45 118.69 80.71 118.76 80.97 118.83 81.23 118.9 81.49 118.97 81.75 119.04 82.02 119.11 82.28 119.18 82.54 119.25 82.81 119.32 83.07 119.4 83.33 119.47 83.59 119.54 83.85 119.61 84.11 119.68 84.36 119.75 84.61 119.82 84.86 119.89 85.11 119.96 85.35 120.03 85.59 120.1 85.83 120.17 86.06 120.24 86.29 120.31 86.52 120.38 86.74 120.45 86.95 120.52 87.17 120.59 87.38 120.66 87.59 120.73 87.79 120.8 87.99 120.87 88.19 120.95 88.38 121.02 88.57 121.09 88.76 121.16 88.95 121.23 89.13 121.3 89.31 121.37 89.49 121.44 89.66 121.51 89.84 121.58 90.01 121.65 90.18 121.72 90.35 121.79 90.52 121.86 90.69 121.93 90.85 122 91.02 122.07 91.19 122.14 91.35 122.21 91.52 122.28 91.68 122.35 91.85 122.42 92.01 122.49 92.18 122.57 92.35 122.64 92.51 122.71 92.68 122.78 92.85 122.85 93.02 122.92 93.19 122.99 93.36 123.06 93.54 123.13 93.71 123.2 93.89 123.27 94.06 123.34 94.24 123.41 94.42 123.48 94.6 123.55 94.78 123.62 94.96 123.69 95.15 123.76 95.33 123.83 95.51 123.9 95.7 123.97 95.88 124.04 96.07 124.11 96.25 124.19 96.44 124.26 96.62 124.33 96.8 124.4 96.99 124.47 97.17 124.54 97.35 124.61 97.54 124.68 97.72 124.75 97.9 124.82 98.08 124.89 98.25 124.96 98.43 125.03 98.61 125.1 98.78 125.17 98.95 125.24 99.13 125.31 99.3 125.38 99.47 125.45 99.64 125.52 99.81 125.59 99.97 125.66 100.14 125.73 100.31 125.81 100.47 125.88 100.64 125.95 100.8 126.02 100.97 126.09 101.13 126.16 101.3 126.23 101.46 126.3 101.63 126.37 101.79 126.44 101.96 126.51 102.12 126.58 102.29 126.65 102.45 126.72 102.61 126.79 102.78 126.86 102.94 126.93 103.1 127 103.27 127.07 103.43 127.14 103.59 127.21 103.74 127.28 103.9 127.35 104.05 127.43 104.2 127.5 104.35 127.57 104.5 127.64 104.64 127.71 104.79 127.78 104.92 127.85 105.06 127.92 105.19 127.99 105.32 128.06 105.45 128.13 105.57 128.2 105.69 128.27 105.81 128.34 105.92 128.41 106.04 128.48 106.15 128.55 106.26 128.62 106.36 128.69 106.47 128.76 106.57 128.83 106.68 128.9 106.78 128.97 106.89 129.05 106.99 129.12 107.09 129.19 107.2 129.26 107.3 129.33 107.41 129.4 107.52 129.47 107.62 129.54 107.74 129.61 107.85 129.68 107.96 129.75 108.08 129.82 108.19 129.89 108.31 129.96 108.43 130.03 108.55 130.1 108.68 130.17 108.8 130.24 108.93 130.31 109.05 130.38 109.18 130.45 109.3 130.52 109.43 130.6 109.56 130.67 109.68 130.74 109.81 130.81 109.93 130.88 110.05 130.95 110.18 131.02 110.3 131.09 110.41 131.16 110.53 131.23 110.65 131.3 110.76 131.37 110.87 131.44 110.98 131.51 111.09 131.58 111.19 131.65 111.29 131.72 111.39 131.79 111.49 131.86 111.59 131.93 111.68 132 111.78 132.07 111.87 132.14 111.96 132.22 112.05 132.29 112.13 132.36 112.22 132.43 112.31 132.5 112.39 132.57 112.47 132.64 112.56 132.71 112.64 132.78 112.72 132.85 112.8 132.92 112.88 132.99 112.96 133.06 113.04 133.13 113.12 133.2 113.2 133.27 113.28 133.34 113.36 133.41 113.44 133.48 113.52 133.55 113.6 133.62 113.68 133.69 113.76 133.76 113.84 133.84 113.92 133.91 114.01 133.98 114.09 134.05 114.17 134.12 114.26 134.19 114.35 134.26 114.43 134.33 114.52 134.4 114.61 134.47 114.7 134.54 114.79 134.61 114.88 134.68 114.97 134.75 115.06 134.82 115.16 134.89 115.25 134.96 115.35 135.03 115.44 135.1 115.54 135.17 115.63 135.24 115.73 135.31 115.82 135.38 115.92 135.46 116.02 135.53 116.11 135.6 116.21 135.67 116.3 135.74 116.4 135.81 116.49 135.88 116.58 135.95 116.68 136.02 116.77 136.09 116.86 136.16 116.94 136.23 117.03 136.3 117.12 136.37 117.2 136.44 117.28 136.51 117.36 136.58 117.44 136.65 117.52 136.72 117.59 136.79 117.67 136.86 117.74 136.93 117.81 137 117.88 137.08 117.94 137.15 118.01 137.22 118.07 137.29 118.13 137.36 118.19 137.43 118.25 137.5 118.31 137.57 118.37 137.64 118.42 137.71 118.48 137.78 118.53 137.85 118.59 137.92 118.64 137.99 118.69 138.06 118.75 138.13 118.8 138.2 118.85 138.27 118.9 138.34 118.96 138.41 119.01 138.48 119.06 138.55 119.11 138.62 119.16 138.7 119.22 138.77 119.27 138.84 119.32 138.91 119.38 138.98 119.43 139.05 119.48 139.12 119.53 139.19 119.59 139.26 119.64 139.33 119.7 139.4 119.75 139.47 119.8 139.54 119.86 139.61 119.91 139.68 119.96 139.75 120.01 139.82 120.07 139.89 120.12 139.96 120.17 140.03 120.22 140.1 120.28 140.17 120.33 140.24 120.38 140.32 120.43 140.39 120.48 140.46 120.53 140.53 120.59 140.6 120.64 140.67 120.69 140.74 120.74 140.81 120.8 140.88 120.85 140.95 120.9 141.02 120.96 141.09 121.01 141.16 121.07 141.23 121.12 141.3 121.18 141.37 121.24 141.44 121.3 141.51 121.35 141.58 121.41 141.65 121.47 141.72 121.53 141.79 121.59 141.87 121.65 141.94 121.71 142.01 121.78 142.08 121.84 142.15 121.9 142.22 121.96 142.29 122.02 142.36 122.08 142.43 122.14 142.5 122.19 142.57 122.25 142.64 122.31 142.71 122.36 142.78 122.42 142.85 122.47 142.92 122.52 142.99 122.57 143.06 122.62 143.13 122.67 143.2 122.71 143.27 122.76 143.34 122.8 143.41 122.84 143.49 122.88 143.56 122.92 143.63 122.96 143.7 122.99 143.77 123.03 143.84 123.06 143.91 123.09 143.98 123.12 144.05 123.15 144.12 123.18 144.19 123.2 144.26 123.23 144.33 123.25 144.4 123.28 144.47 123.3 144.54 123.32 144.61 123.34 144.68 123.35 144.75 123.37 144.82 123.39 144.89 123.4 144.96 123.42 145.03 123.43 145.11 123.44 145.18 123.45 145.25 123.46 145.32 123.47 145.39 123.49 145.46 123.49 145.53 123.5 145.6 123.51 145.67 123.52 145.74 123.53 145.81 123.54 145.88 123.55 145.95 123.57 146.02 123.58 146.09 123.59 146.16 123.6 146.23 123.62 146.3 123.63 146.37 123.65 146.44 123.66 146.51 123.68 146.58 123.7 146.65 123.72 146.73 123.74 146.8 123.76 146.87 123.78 146.94 123.8 147.01 123.82 147.08 123.85 147.15 123.87 147.22 123.9 147.29 123.92 147.36 123.95 147.43 123.97 147.5 124 147.57 124.03 147.64 124.05 147.71 124.08 147.78 124.11 147.85 124.13 147.92 124.16 147.99 124.18 148.06 124.21 148.13 124.24 148.2 124.26 148.27 124.29 148.35 124.31 148.42 124.34 148.49 124.36 148.56 124.39 148.63 124.41 148.7 124.44 148.77 124.46 148.84 124.48 148.91 124.5 148.98 124.53 149.05 124.55 149.12 124.57 149.19 124.59 149.26 124.61 149.33 124.63 149.4 124.65 149.47 124.67 149.54 124.69 149.61 124.71 149.68 124.73 149.75 124.74 149.82 124.76 149.89 124.78 149.97 124.79 150.04 124.81 150.11 124.83 150.18 124.84 150.25 124.86 150.32 124.87 150.39 124.89 150.46 124.91 150.53 124.92 150.6 124.94 150.67 124.95 150.74 124.96 150.81 124.98 150.88 124.99 150.95 125.01 151.02 125.02 151.09 125.04 151.16 125.05 151.23 125.07 151.3 125.08 151.37 125.1 151.44 125.11 151.51 125.13 151.59 125.14 151.66 125.16 151.73 125.17 151.8 125.19 151.87 125.2 151.94 125.22 152.01 125.23 152.08 125.25 152.15 125.26 152.22 125.28 152.29 125.29 152.36 125.31 152.43 125.32 152.5 125.34 152.57 125.36 152.64 125.37 152.71 125.39 152.78 125.4 152.85 125.42 152.92 125.44 152.99 125.45 153.06 125.47 153.14 125.49 153.21 125.5 153.28 125.52 153.35 125.54 153.42 125.55 153.49 125.57 153.56 125.59 153.63 125.6 153.7 125.62 153.77 125.63 153.84 125.65 153.91 125.67 153.98 125.68 154.05 125.7 154.12 125.72 154.19 125.73 154.26 125.75 154.33 125.76 154.4 125.78 154.47 125.8 154.54 125.81 154.61 125.83 154.68 125.84 154.76 125.86 154.83 125.88 154.9 125.9 154.97 125.91 155.04 125.93 155.11 125.95 155.18 125.97 155.25 125.99 155.32 126.01 155.39 126.02 155.46 126.04 155.53 126.06 155.6 126.08 155.67 126.1 155.74 126.13 155.81 126.15 155.88 126.17 155.95 126.19 156.02 126.21 156.09 126.23 156.16 126.25 156.23 126.27 156.3 126.29 156.38 126.31 156.45 126.33 156.52 126.35 156.59 126.36 156.66 126.38 156.73 126.4 156.8 126.41 156.87 126.43 156.94 126.44 157.01 126.46 157.08 126.47 157.15 126.48 157.22 126.5 157.29 126.51 157.36 126.52 157.43 126.53 157.5 126.54 157.57 126.55 157.64 126.55 157.71 126.56 157.78 126.57 157.85 126.58 157.92 126.58 158 126.59 158.07 126.59 158.14 126.6 158.21 126.6 158.28 126.61 158.35 126.61 158.42 126.61 158.49 126.62 158.56 126.62 158.63 126.62 158.7 126.63 158.77 126.63 158.84 126.63 158.91 126.63 158.98 126.64 159.05 126.64 159.12 126.64 159.19 126.64 159.26 126.64 159.33 126.65 159.4 126.65 159.47 126.65 159.54 126.65 159.62 126.66 159.69 126.66 159.76 126.66 159.83 126.67 159.9 126.67 159.97 126.67 160.04 126.68 160.11 126.68 160.18 126.69 160.25 126.69 160.32 126.7 160.39 126.7 160.46 126.71 160.53 126.72 160.6 126.72 160.67 126.73 160.74 126.74 160.81 126.75 160.88 126.75 160.95 126.76 161.02 126.77 161.09 126.78 161.16 126.79 161.24 126.8 161.31 126.8 161.38 126.81 161.45 126.82 161.52 126.83 161.59 126.84 161.66 126.85 161.73 126.86 161.8 126.87 161.87 126.88 161.94 126.89 162.01 126.89 162.08 126.9 162.15 126.91 162.22 126.92 162.29 126.93 162.36 126.93 162.43 126.94 162.5 126.95 162.57 126.96 162.64 126.96 162.71 126.97 162.79 126.98 162.86 126.98 162.93 126.99 163 126.99 163.07 127 163.14 127.01 163.21 127.01 163.28 127.02 163.35 127.02 163.42 127.03 163.49 127.04 163.56 127.04 163.63 127.05 163.7 127.06 163.77 127.06 163.84 127.07 163.91 127.08 163.98 127.08 164.05 127.09 164.12 127.1 164.19 127.11 164.26 127.12 164.33 127.12 164.41 127.13 164.48 127.14 164.55 127.15 164.62 127.16 164.69 127.17 164.76 127.18 164.83 127.19 164.9 127.2 164.97 127.21 165.04 127.22 165.11 127.23 165.18 127.23 165.25 127.24 165.32 127.25 165.39 127.26 165.46 127.27 165.53 127.28 165.6 127.28 165.67 127.29 165.74 127.3 165.81 127.3 165.88 127.31 165.95 127.32 166.03 127.32 166.1 127.33 166.17 127.34 166.24 127.34 166.31 127.35 166.38 127.35 166.45 127.36 166.52 127.36 166.59 127.37 166.66 127.37 166.73 127.38 166.8 127.38 166.87 127.39 166.94 127.4 167.01 127.4 167.08 127.41 167.15 127.41 167.22 127.42 167.29 127.42 167.36 127.43 167.43 127.44 167.5 127.44 167.57 127.45 167.65 127.45 167.72 127.46 167.79 127.46 167.86 127.47 167.93 127.47 168 127.48 168.07 127.48 168.14 127.49 168.21 127.49 168.28 127.5 168.35 127.5 168.42 127.5 168.49 127.51 168.56 127.51 168.63 127.51 168.7 127.52 168.77 127.52 168.84 127.52 168.91 127.52 168.98 127.52 169.05 127.53 169.12 127.53 169.19 127.53 169.27 127.53 169.34 127.53 169.41 127.53 169.48 127.53 169.55 127.53 169.62 127.53 169.69 127.53 169.76 127.53 169.83 127.53 169.9 127.52 169.97 127.52 170.04 127.52 170.11 127.52 170.18 127.52 170.25 127.52 170.32 127.52 170.39 127.52 170.46 127.51 170.53 127.51 170.6 127.51 170.67 127.51 170.74 127.51 170.81 127.51 170.89 127.51 170.96 127.51 171.03 127.51 171.1 127.51 171.17 127.51 171.24 127.51 171.31 127.51 171.38 127.52 171.45 127.52 171.52 127.52 171.59 127.52 171.66 127.52 171.73 127.53 171.8 127.53 171.87 127.53 171.94 127.54 172.01 127.54 172.08 127.54 172.15 127.54 172.22 127.55 172.29 127.55 172.36 127.55 172.43 127.56 172.51 127.56 172.58 127.56 172.65 127.57 172.72 127.57 172.79 127.57 172.86 127.57 172.93 127.57 173 127.58 173.07 127.58 173.14 127.58 173.21 127.58 173.28 127.58 173.35 127.58 173.42 127.58 173.49 127.58 173.56 127.58 173.63 127.58 173.7 127.58 173.77 127.59 173.84 127.59 173.91 127.59 173.98 127.59 174.06 127.59 174.13 127.59 174.2 127.59 174.27 127.59 174.34 127.59 174.41 127.59 174.48 127.59 174.55 127.59 174.62 127.59 174.69 127.59 174.76 127.59 174.83 127.6 174.9 127.6 174.97 127.6 175.04 127.6 175.11 127.6 175.18 127.61 175.25 127.61 175.32 127.61 175.39 127.61 175.46 127.62 175.53 127.62 175.6 127.62 175.68 127.62 175.75 127.63 175.82 127.63 175.89 127.63 175.96 127.63 176.03 127.64 176.1 127.64 176.17 127.64 176.24 127.64 176.31 127.64 176.38 127.65 176.45 127.65 176.52 127.65 176.59 127.65 176.66 127.65 176.73 127.65 176.8 127.66 176.87 127.66 176.94 127.66 177.01 127.66 177.08 127.66 177.15 127.66 177.22 127.67 177.3 127.67 177.37 127.67 177.44 127.67 177.51 127.67 177.58 127.67 177.65 127.68 177.72 127.68 177.79 127.68 177.86 127.68 177.93 127.68 178 127.69 178.07 127.69 178.14 127.69 178.21 127.7 178.28 127.7 178.35 127.7 178.42 127.7 178.49 127.71 178.56 127.71 178.63 127.71 178.7 127.71 178.77 127.72 178.84 127.72 178.92 127.72 178.99 127.72 179.06 127.73 179.13 127.73 179.2 127.73 179.27 127.73 179.34 127.73 179.41 127.73 179.48 127.73 179.55 127.73 179.62 127.73 179.69 127.73 179.76 127.73 179.83 127.73 179.9 127.73 179.97 127.73 180.04 127.73 180.11 127.73 180.18 127.73 180.25 127.73 180.32 127.73 180.39 127.73 180.46 127.73 180.54 127.73 180.61 127.73 180.68 127.72 180.75 127.72 180.82 127.72 180.89 127.72 180.96 127.72 181.03 127.72 181.1 127.72 181.17 127.72 181.24 127.72 181.31 127.72 181.38 127.72 181.45 127.72 181.52 127.72 181.59 127.72 181.66 127.73 181.73 127.73 181.8 127.73 181.87 127.73 181.94 127.73 182.01 127.73 182.08 127.74 182.16 127.74 182.23 127.74 182.3 127.74 182.37 127.74 182.44 127.75 182.51 127.75 182.58 127.75 182.65 127.75 182.72 127.75 182.79 127.76 182.86 127.76 182.93 127.76 183 127.76 183.07 127.76 183.14 127.76 183.21 127.76 183.28 127.76 183.35 127.76 183.42 127.76 183.49 127.76 183.56 127.76 183.63 127.76 183.7 127.76 183.78 127.76 183.85 127.76 183.92 127.76 183.99 127.76 184.06 127.76 184.13 127.76 184.2 127.75 184.27 127.75 184.34 127.75 184.41 127.75 184.48 127.75 184.55 127.75 184.62 127.75 184.69 127.74 184.76 127.74 184.83 127.74 184.9 127.74 184.97 127.74 185.04 127.74 185.11 127.74 185.18 127.74 185.25 127.74 185.33 127.74 185.4 127.74 185.47 127.74 185.54 127.74 185.61 127.74 185.68 127.75 185.75 127.75 185.82 127.75 185.89 127.75 185.96 127.75 186.03 127.76 186.1 127.76 186.17 127.76 186.24 127.76 186.31 127.77 186.38 127.77 186.45 127.77 186.52 127.77 186.59 127.78 186.66 127.78 186.73 127.78 186.8 127.78 186.87 127.79 186.95 127.79 187.02 127.79 187.09 127.79 187.16 127.79 187.23 127.8 187.3 127.8 187.37 127.8 187.44 127.8 187.51 127.8 187.58 127.8 187.65 127.8 187.72 127.8 187.79 127.81 187.86 127.81 187.93 127.81 188 127.81 188.07 127.81 188.14 127.81 188.21 127.81 188.28 127.81 188.35 127.81 188.42 127.81 188.49 127.81 188.57 127.81 188.64 127.81 188.71 127.81 188.78 127.81 188.85 127.81 188.92 127.81 188.99 127.81 189.06 127.81 189.13 127.81 189.2 127.82 189.27 127.82 189.34 127.82 189.41 127.82 189.48 127.82 189.55 127.82 189.62 127.82 189.69 127.82 189.76 127.82 189.83 127.82 189.9 127.82 189.97 127.82 190.04 127.82 190.11 127.82 190.19 127.82 190.26 127.83 190.33 127.83 190.4 127.83 190.47 127.83 190.54 127.83 190.61 127.83 190.68 127.83 190.75 127.83 190.82 127.83 190.89 127.83 190.96 127.83 191.03 127.83 191.1 127.83 191.17 127.84 191.24 127.84 191.31 127.84 191.38 127.84 191.45 127.84 191.52 127.84 191.59 127.84 191.66 127.84 191.73 127.84 191.81 127.84 191.88 127.84 191.95 127.84 192.02 127.84 192.09 127.84 192.16 127.84 192.23 127.84 192.3 127.84 192.37 127.84 192.44 127.84 192.51 127.84 192.58 127.84 192.65 127.84 192.72 127.84 192.79 127.84 192.86 127.84 192.93 127.84 193 127.84 193.07 127.84 193.14 127.84 193.21 127.84 193.28 127.84 193.35 127.84 193.43 127.84 193.5 127.84 193.57 127.84 193.64 127.84 193.71 127.83 193.78 127.83 193.85 127.83 193.92 127.83 193.99 127.83 194.06 127.83 194.13 127.83 194.2 127.83 194.27 127.82 194.34 127.82 194.41 127.82 194.48 127.82 194.55 127.82 194.62 127.82 194.69 127.81 194.76 127.81 194.83 127.81 194.9 127.81 194.97 127.81 195.05 127.81 195.12 127.81 195.19 127.8 195.26 127.8 195.33 127.8 195.4 127.8 195.47 127.8 195.54 127.8 195.61 127.8 195.68 127.8 195.75 127.8 195.82 127.8 195.89 127.8 195.96 127.8 196.03 127.8 196.1 127.8 196.17 127.8 196.24 127.8 196.31 127.8 196.38 127.8 196.45 127.8 196.52 127.8 196.6 127.8 196.67 127.8 196.74 127.8 196.81 127.81 196.88 127.81 196.95 127.81 197.02 127.81 197.09 127.81 197.16 127.81 197.23 127.82 197.3 127.82 197.37 127.82 197.44 127.82 197.51 127.82 197.58 127.82 197.65 127.83 197.72 127.83 197.79 127.83 197.86 127.83 197.93 127.83 198 127.83 198.07 127.83 198.14 127.83 198.22 127.84 198.29 127.84 198.36 127.84 198.43 127.84 198.5 127.84 198.57 127.84 198.64 127.84 198.71 127.84 198.78 127.84 198.85 127.85 198.92 127.85 198.99 127.85 199.06 127.85 199.13 127.85 199.2 127.85 199.27 127.85 199.34 127.85 199.41 127.85 199.48 127.85 199.55 127.85 199.62 127.85 199.69 127.85 199.76 127.85 199.84 127.85 199.91 127.85 199.98 127.85 200.05 127.85 200.12 127.86 200.19 127.86 200.26 127.86 200.33 127.86 200.4 127.86 200.47 127.86 200.54 127.86 200.61 127.86 200.68 127.86 200.75 127.86 200.82 127.86 200.89 127.86 200.96 127.86 201.03 127.85 201.1 127.85 201.17 127.85 201.24 127.85 201.31 127.85 201.38 127.85 201.46 127.85 201.53 127.85 201.6 127.85 201.67 127.85 201.74 127.85 201.81 127.85 201.88 127.85 201.95 127.85 202.02 127.85 202.09 127.85 202.16 127.85 202.23 127.85 202.3 127.85 202.37 127.85 202.44 127.85 202.51 127.85 202.58 127.85 202.65 127.85 202.72 127.85 202.79 127.85 202.86 127.85 202.93 127.85 203 127.85 203.08 127.85 203.15 127.85 203.22 127.85 203.29 127.85 203.36 127.85 203.43 127.85 203.5 127.85 203.57 127.86 203.64 127.86 203.71 127.86 203.78 127.86 203.85 127.86 203.92 127.86 203.99 127.86 204.06 127.86 204.13 127.86 204.2 127.86 204.27 127.86 204.34 127.86 204.41 127.86 204.48 127.86 204.55 127.86 204.62 127.86 204.7 127.86 204.77 127.86 204.84 127.86 204.91 127.86 204.98 127.86 205.05 127.86 205.12 127.86 205.19 127.86 205.26 127.86 205.33 127.86 205.4 127.86 205.47 127.86 205.54 127.86 205.61 127.86 205.68 127.86 205.75 127.86 205.82 127.86 205.89 127.86 205.96 127.86 206.03 127.86 206.1 127.86 206.17 127.86 206.25 127.86 206.32 127.86 206.39 127.86 206.46 127.86 206.53 127.86 206.6 127.86 206.67 127.86 206.74 127.86 206.81 127.86 206.88 127.86 206.95 127.86 207.02 127.86 207.09 127.86 207.16 127.86 207.23 127.86 207.3 127.86 207.37 127.86 207.44 127.86 207.51 127.86 207.58 127.86 207.65 127.86 207.72 127.86 207.79 127.86 207.87 127.86 207.94 127.86 208.01 127.86 208.08 127.86 208.15 127.86 208.22 127.86 208.29 127.86 208.36 127.86 208.43 127.86 208.5 127.86 208.57 127.86 208.64 127.86 208.71 127.86 208.78 127.86 208.85 127.86 208.92 127.86 208.99 127.86 209.06 127.86 209.13 127.86 209.2 127.86 209.27 127.86 209.34 127.86 209.41 127.86 209.49 127.86 209.56 127.86 209.63 127.86 209.7 127.86 209.77 127.86 209.84 127.86 209.91 127.86 209.98 127.86 210.05 127.86 210.12 127.86 210.19 127.86 210.26 127.86 210.33 127.86 210.4 127.86 210.47 127.86 210.54 127.86 210.61 127.86 210.68 127.86 210.75 127.86 210.82 127.86 210.89 127.86 210.96 127.86 211.03 127.86 211.11 127.86 211.18 127.86 211.25 127.86 211.32 127.86 211.39 127.86 211.46 127.86 211.53 127.86 211.6 127.86 211.67 127.86 211.74 127.86 211.81 127.86 211.88 127.86 211.95 127.86 212.02 127.86 212.09 127.86 212.16 127.86 212.23 127.86 212.3 127.85 212.37 127.85 212.44 127.85 212.51 127.85 212.58 127.85 212.65 127.85 212.73 127.85 212.8 127.85 212.87 127.85 212.94 127.85 213.01 127.85 213.08 127.85 213.15 127.85 213.22 127.85 213.29 127.85 213.36 127.85 213.43 127.85 213.5 127.85 213.57 127.85 213.64 127.85 213.71 127.85 213.78 127.85 213.85 127.85 213.92 127.85 213.99 127.85 214.06 127.85 214.13 127.85 214.2 127.85 214.27 127.85 214.35 127.85 214.42 127.85 214.49 127.85 214.56 127.85 214.63 127.86 214.7 127.86 214.77 127.86 214.84 127.86 214.91 127.86 214.98 127.86 215.05 127.86 215.12 127.86 215.19 127.86 215.26 127.86 215.33 127.86 215.4 127.86 215.47 127.86 215.54 127.86 215.61 127.86 215.68 127.86 215.75 127.86 215.82 127.86 215.89 127.86 215.97 127.86 216.04 127.86 216.11 127.86 216.18 127.86 216.25 127.86 216.32 127.86 216.39 127.86 216.46 127.86 216.53 127.86 216.6 127.86 216.67 127.86 216.74 127.86 216.81 127.86 216.88 127.86 216.95 127.86 217.02 127.86 217.09 127.86 217.16 127.86 217.23 127.86 217.3 127.86 217.37 127.86 217.44 127.86 217.52 127.86 217.59 127.86 217.66 127.86 217.73 127.86 217.8 127.86 217.87 127.86 217.94 127.86 218.01 127.86 218.08 127.86 218.15 127.86 218.22 127.86 218.29 127.86 218.36 127.86 218.43 127.86 218.5 127.86 218.57 127.86 218.64 127.86 218.71 127.86 218.78 127.86 218.85 127.86 218.92 127.86 218.99 127.86 219.06 127.86 219.14 127.86 219.21 127.86 219.28 127.86 219.35 127.86 219.42 127.86 219.49 127.86 219.56 127.86 219.63 127.86 219.7 127.86 219.77 127.86 219.84 127.86 219.91 127.86 219.98 127.86 220.05 127.86 220.12 127.86 220.19 127.86 220.26 127.86 220.33 127.86 220.4 127.86 220.47 127.86 220.54 127.86 220.61 127.86 220.68 127.86 220.76 127.86 220.83 127.86 220.9 127.86 220.97 127.86 221.04 127.86 221.11 127.86 221.18 127.86 221.25 127.86 221.32 127.86 221.39 127.86 221.46 127.85 221.53 127.85 221.6 127.85 221.67 127.85 221.74 127.85 221.81 127.85 221.88 127.85 221.95 127.85 222.02 127.85 222.09 127.85 222.16 127.85 222.23 127.85 222.3 127.85 222.38 127.85 222.45 127.85 222.52 127.85 222.59 127.85 222.66 127.85 222.73 127.85 222.8 127.85 222.87 127.85 222.94 127.85 223.01 127.85 223.08 127.85 223.15 127.85 223.22 127.85 223.29 127.85 223.36 127.85 223.43 127.85 223.5 127.85 223.57 127.85 223.64 127.85 223.71 127.85 223.78 127.86 223.85 127.86 223.92 127.86 224 127.86 224.07 127.86 224.14 127.86 224.21 127.86 224.28 127.86 224.35 127.86 224.42 127.86 224.49 127.86 224.56 127.86 224.63 127.86 224.7 127.86 224.77 127.86 224.84 127.86 224.91 127.86 224.98 127.86 225.05 127.86 225.12 127.86 225.19 127.86 225.26 127.86 225.33 127.86 225.4 127.86 225.47 127.86 225.54 127.86 225.62 127.86 225.69 127.86 225.76 127.86 225.83 127.86 225.9 127.86 225.97 127.86\");\n",
        "    }(g.append(\"g\")));\n",
        "  }(g.append(\"g\")));\n",
        "}(g.append(\"g\")));\n",
        "}\n",
        "\n",
        "var data = [\n",
        "];\n",
        "\n",
        "var draw = function(parent_id) {\n",
        "    draw_with_data(data, parent_id);\n",
        "};\n",
        "\n",
        "draw(\"#gadflyplot-CdSwQSW5n2FqdU7sMXQM\");\n",
        "</script>\n"
       ],
       "metadata": {},
       "output_type": "display_data",
       "text": [
        "D3(250mm,150mm,IOBuffer([0x66,0x75,0x6e,0x63,0x74,0x69,0x6f,0x6e,0x20,0x64  \u2026  0x74,0x5f,0x69,0x64,0x29,0x3b,0x0a,0x7d,0x3b,0x0a],true,true,true,false,37533,9223372036854775807,37534),false,0,[],[],0,4,Dict{Uint64,(Any,Int64)}(),true,true)"
       ]
      },
      {
       "html": [],
       "metadata": {},
       "output_type": "pyout",
       "prompt_number": 39,
       "text": [
        "Plot(...)"
       ]
      }
     ],
     "prompt_number": 39
    },
    {
     "cell_type": "heading",
     "level": 1,
     "metadata": {
      "slideshow": {
       "slide_type": "slide"
      }
     },
     "source": [
      "Tabular Data and Missing Values in Julia"
     ]
    },
    {
     "cell_type": "heading",
     "level": 1,
     "metadata": {
      "slideshow": {
       "slide_type": "slide"
      }
     },
     "source": [
      "Representing Missing Values"
     ]
    },
    {
     "cell_type": "code",
     "collapsed": false,
     "input": [
      "using DataFrames"
     ],
     "language": "python",
     "metadata": {
      "slideshow": {
       "slide_type": "slide"
      }
     },
     "outputs": [],
     "prompt_number": 40
    },
    {
     "cell_type": "code",
     "collapsed": false,
     "input": [
      "NA + 1"
     ],
     "language": "python",
     "metadata": {
      "slideshow": {
       "slide_type": "slide"
      }
     },
     "outputs": [
      {
       "metadata": {},
       "output_type": "pyout",
       "prompt_number": 41,
       "text": [
        "NA"
       ]
      }
     ],
     "prompt_number": 41
    },
    {
     "cell_type": "code",
     "collapsed": false,
     "input": [
      "x = DataArray([1, 2, 3])"
     ],
     "language": "python",
     "metadata": {
      "slideshow": {
       "slide_type": "slide"
      }
     },
     "outputs": [
      {
       "metadata": {},
       "output_type": "pyout",
       "prompt_number": 42,
       "text": [
        "3-element DataArray{Int64,1}:\n",
        " 1\n",
        " 2\n",
        " 3"
       ]
      }
     ],
     "prompt_number": 42
    },
    {
     "cell_type": "code",
     "collapsed": false,
     "input": [
      "{1, 2, NA}"
     ],
     "language": "python",
     "metadata": {
      "slideshow": {
       "slide_type": "slide"
      }
     },
     "outputs": [
      {
       "metadata": {},
       "output_type": "pyout",
       "prompt_number": 43,
       "text": [
        "3-element Array{Any,1}:\n",
        " 1  \n",
        " 2  \n",
        "  NA"
       ]
      }
     ],
     "prompt_number": 43
    },
    {
     "cell_type": "code",
     "collapsed": false,
     "input": [
      "x[1] = NA"
     ],
     "language": "python",
     "metadata": {
      "slideshow": {
       "slide_type": "slide"
      }
     },
     "outputs": [
      {
       "metadata": {},
       "output_type": "pyout",
       "prompt_number": 44,
       "text": [
        "NA"
       ]
      }
     ],
     "prompt_number": 44
    },
    {
     "cell_type": "code",
     "collapsed": false,
     "input": [
      "mean(x)"
     ],
     "language": "python",
     "metadata": {
      "slideshow": {
       "slide_type": "slide"
      }
     },
     "outputs": [
      {
       "metadata": {},
       "output_type": "pyout",
       "prompt_number": 45,
       "text": [
        "NA"
       ]
      }
     ],
     "prompt_number": 45
    },
    {
     "cell_type": "code",
     "collapsed": false,
     "input": [
      "x[!isna(x)]"
     ],
     "language": "python",
     "metadata": {
      "slideshow": {
       "slide_type": "slide"
      }
     },
     "outputs": [
      {
       "metadata": {},
       "output_type": "pyout",
       "prompt_number": 46,
       "text": [
        "2-element DataArray{Int64,1}:\n",
        " 2\n",
        " 3"
       ]
      }
     ],
     "prompt_number": 46
    },
    {
     "cell_type": "code",
     "collapsed": false,
     "input": [
      "mean(x[!isna(x)])"
     ],
     "language": "python",
     "metadata": {
      "slideshow": {
       "slide_type": "slide"
      }
     },
     "outputs": [
      {
       "metadata": {},
       "output_type": "pyout",
       "prompt_number": 47,
       "text": [
        "2.5"
       ]
      }
     ],
     "prompt_number": 47
    },
    {
     "cell_type": "heading",
     "level": 1,
     "metadata": {
      "slideshow": {
       "slide_type": "slide"
      }
     },
     "source": [
      "Factor-Like Variables"
     ]
    },
    {
     "cell_type": "code",
     "collapsed": false,
     "input": [
      "y = PooledDataArray([1, 1, 2, 3])"
     ],
     "language": "python",
     "metadata": {
      "slideshow": {
       "slide_type": "slide"
      }
     },
     "outputs": [
      {
       "metadata": {},
       "output_type": "pyout",
       "prompt_number": 48,
       "text": [
        "4-element PooledDataArray{Int64,Uint32,1}:\n",
        " 1\n",
        " 1\n",
        " 2\n",
        " 3"
       ]
      }
     ],
     "prompt_number": 48
    },
    {
     "cell_type": "code",
     "collapsed": false,
     "input": [
      "levels(y)"
     ],
     "language": "python",
     "metadata": {
      "slideshow": {
       "slide_type": "slide"
      }
     },
     "outputs": [
      {
       "metadata": {},
       "output_type": "pyout",
       "prompt_number": 49,
       "text": [
        "3-element Array{Int64,1}:\n",
        " 1\n",
        " 2\n",
        " 3"
       ]
      }
     ],
     "prompt_number": 49
    },
    {
     "cell_type": "heading",
     "level": 1,
     "metadata": {
      "slideshow": {
       "slide_type": "slide"
      }
     },
     "source": [
      "Representing Tabular Data"
     ]
    },
    {
     "cell_type": "code",
     "collapsed": false,
     "input": [
      "df = DataFrame(A = float(1:10), B = rand(10))"
     ],
     "language": "python",
     "metadata": {
      "slideshow": {
       "slide_type": "slide"
      }
     },
     "outputs": [
      {
       "metadata": {},
       "output_type": "pyout",
       "prompt_number": 50,
       "text": [
        "10x2 DataFrame:\n",
        "            A         B\n",
        "[1,]      1.0  0.945278\n",
        "[2,]      2.0  0.799989\n",
        "[3,]      3.0  0.481181\n",
        "[4,]      4.0   0.16643\n",
        "[5,]      5.0  0.952686\n",
        "[6,]      6.0  0.136218\n",
        "[7,]      7.0   0.63685\n",
        "[8,]      8.0  0.246825\n",
        "[9,]      9.0 0.0947379\n",
        "[10,]    10.0  0.445974\n"
       ]
      }
     ],
     "prompt_number": 50
    },
    {
     "cell_type": "code",
     "collapsed": false,
     "input": [
      "head(df)"
     ],
     "language": "python",
     "metadata": {
      "slideshow": {
       "slide_type": "slide"
      }
     },
     "outputs": [
      {
       "metadata": {},
       "output_type": "pyout",
       "prompt_number": 51,
       "text": [
        "6x2 DataFrame:\n",
        "          A        B\n",
        "[1,]    1.0 0.945278\n",
        "[2,]    2.0 0.799989\n",
        "[3,]    3.0 0.481181\n",
        "[4,]    4.0  0.16643\n",
        "[5,]    5.0 0.952686\n",
        "[6,]    6.0 0.136218\n"
       ]
      }
     ],
     "prompt_number": 51
    },
    {
     "cell_type": "code",
     "collapsed": false,
     "input": [
      "tail(df)"
     ],
     "language": "python",
     "metadata": {
      "slideshow": {
       "slide_type": "slide"
      }
     },
     "outputs": [
      {
       "metadata": {},
       "output_type": "pyout",
       "prompt_number": 52,
       "text": [
        "6x2 DataFrame:\n",
        "           A         B\n",
        "[1,]     5.0  0.952686\n",
        "[2,]     6.0  0.136218\n",
        "[3,]     7.0   0.63685\n",
        "[4,]     8.0  0.246825\n",
        "[5,]     9.0 0.0947379\n",
        "[6,]    10.0  0.445974\n"
       ]
      }
     ],
     "prompt_number": 52
    },
    {
     "cell_type": "code",
     "collapsed": false,
     "input": [
      "df[\"C\"] = repeat([\"G1\", \"G2\"], inner = [5])"
     ],
     "language": "python",
     "metadata": {
      "slideshow": {
       "slide_type": "slide"
      }
     },
     "outputs": [
      {
       "metadata": {},
       "output_type": "pyout",
       "prompt_number": 53,
       "text": [
        "10-element Array{ASCIIString,1}:\n",
        " \"G1\"\n",
        " \"G1\"\n",
        " \"G1\"\n",
        " \"G1\"\n",
        " \"G1\"\n",
        " \"G2\"\n",
        " \"G2\"\n",
        " \"G2\"\n",
        " \"G2\"\n",
        " \"G2\""
       ]
      }
     ],
     "prompt_number": 53
    },
    {
     "cell_type": "code",
     "collapsed": false,
     "input": [
      "pool!(df, [\"C\"])"
     ],
     "language": "python",
     "metadata": {
      "slideshow": {
       "slide_type": "slide"
      }
     },
     "outputs": [],
     "prompt_number": 54
    },
    {
     "cell_type": "code",
     "collapsed": false,
     "input": [
      "df[\"C\"]"
     ],
     "language": "python",
     "metadata": {
      "slideshow": {
       "slide_type": "slide"
      }
     },
     "outputs": [
      {
       "metadata": {},
       "output_type": "pyout",
       "prompt_number": 55,
       "text": [
        "10-element PooledDataArray{ASCIIString,Uint8,1}:\n",
        " \"G1\"\n",
        " \"G1\"\n",
        " \"G1\"\n",
        " \"G1\"\n",
        " \"G1\"\n",
        " \"G2\"\n",
        " \"G2\"\n",
        " \"G2\"\n",
        " \"G2\"\n",
        " \"G2\""
       ]
      }
     ],
     "prompt_number": 55
    },
    {
     "cell_type": "code",
     "collapsed": false,
     "input": [
      "levels(df[\"C\"])"
     ],
     "language": "python",
     "metadata": {
      "slideshow": {
       "slide_type": "slide"
      }
     },
     "outputs": [
      {
       "metadata": {},
       "output_type": "pyout",
       "prompt_number": 56,
       "text": [
        "2-element Array{ASCIIString,1}:\n",
        " \"G1\"\n",
        " \"G2\""
       ]
      }
     ],
     "prompt_number": 56
    },
    {
     "cell_type": "code",
     "collapsed": false,
     "input": [
      "repeat([1 2; 3 4], inner = [2, 1], outer = [1, 2],)"
     ],
     "language": "python",
     "metadata": {
      "slideshow": {
       "slide_type": "slide"
      }
     },
     "outputs": [
      {
       "metadata": {},
       "output_type": "pyout",
       "prompt_number": 57,
       "text": [
        "4x4 Array{Int64,2}:\n",
        " 1  2  1  2\n",
        " 1  2  1  2\n",
        " 3  4  3  4\n",
        " 3  4  3  4"
       ]
      }
     ],
     "prompt_number": 57
    },
    {
     "cell_type": "code",
     "collapsed": false,
     "input": [
      "z = DataArray([1 + 2im])"
     ],
     "language": "python",
     "metadata": {
      "slideshow": {
       "slide_type": "slide"
      }
     },
     "outputs": [
      {
       "metadata": {},
       "output_type": "pyout",
       "prompt_number": 58,
       "text": [
        "1-element DataArray{Complex{Int64},1}:\n",
        " 1+2im"
       ]
      }
     ],
     "prompt_number": 58
    },
    {
     "cell_type": "code",
     "collapsed": false,
     "input": [
      "z[1] = NA"
     ],
     "language": "python",
     "metadata": {
      "slideshow": {
       "slide_type": "slide"
      }
     },
     "outputs": [
      {
       "metadata": {},
       "output_type": "pyout",
       "prompt_number": 59,
       "text": [
        "NA"
       ]
      }
     ],
     "prompt_number": 59
    },
    {
     "cell_type": "code",
     "collapsed": false,
     "input": [
      "DataFrame(A = [DataFrame(B = 1:2), DataFrame(C = 3:4)])"
     ],
     "language": "python",
     "metadata": {
      "slideshow": {
       "slide_type": "slide"
      }
     },
     "outputs": [
      {
       "metadata": {},
       "output_type": "pyout",
       "prompt_number": 60,
       "text": [
        "1x1 DataFrame:\n",
        "                                                                                            A\n",
        "[1,]    4x2 DataFrame:\n",
        "         B  C\n",
        "[1,]     1 NA\n",
        "[2,]     2 NA\n",
        "[3,]    NA  3\n",
        "[4,]    NA  4\n",
        "\n"
       ]
      }
     ],
     "prompt_number": 60
    },
    {
     "cell_type": "code",
     "collapsed": false,
     "input": [
      "df[1:10, :]"
     ],
     "language": "python",
     "metadata": {
      "slideshow": {
       "slide_type": "slide"
      }
     },
     "outputs": [
      {
       "metadata": {},
       "output_type": "pyout",
       "prompt_number": 61,
       "text": [
        "10x3 DataFrame:\n",
        "            A         B    C\n",
        "[1,]      1.0  0.945278 \"G1\"\n",
        "[2,]      2.0  0.799989 \"G1\"\n",
        "[3,]      3.0  0.481181 \"G1\"\n",
        "[4,]      4.0   0.16643 \"G1\"\n",
        "[5,]      5.0  0.952686 \"G1\"\n",
        "[6,]      6.0  0.136218 \"G2\"\n",
        "[7,]      7.0   0.63685 \"G2\"\n",
        "[8,]      8.0  0.246825 \"G2\"\n",
        "[9,]      9.0 0.0947379 \"G2\"\n",
        "[10,]    10.0  0.445974 \"G2\"\n"
       ]
      }
     ],
     "prompt_number": 61
    },
    {
     "cell_type": "code",
     "collapsed": false,
     "input": [
      "by(df, \"C\", df -> mean(df[\"B\"]))"
     ],
     "language": "python",
     "metadata": {
      "slideshow": {
       "slide_type": "slide"
      }
     },
     "outputs": [
      {
       "metadata": {},
       "output_type": "pyout",
       "prompt_number": 62,
       "text": [
        "2x2 DataFrame:\n",
        "           C       x1\n",
        "[1,]    \"G1\" 0.669113\n",
        "[2,]    \"G2\" 0.312121\n"
       ]
      }
     ],
     "prompt_number": 62
    },
    {
     "cell_type": "code",
     "collapsed": false,
     "input": [
      "select(:(C .== \"G1\"), df)"
     ],
     "language": "python",
     "metadata": {
      "slideshow": {
       "slide_type": "slide"
      }
     },
     "outputs": [
      {
       "metadata": {},
       "output_type": "pyout",
       "prompt_number": 63,
       "text": [
        "5x3 SubDataFrame:\n",
        "          A        B    C\n",
        "[1,]    1.0 0.945278 \"G1\"\n",
        "[2,]    2.0 0.799989 \"G1\"\n",
        "[3,]    3.0 0.481181 \"G1\"\n",
        "[4,]    4.0  0.16643 \"G1\"\n",
        "[5,]    5.0 0.952686 \"G1\"\n"
       ]
      }
     ],
     "prompt_number": 63
    },
    {
     "cell_type": "code",
     "collapsed": false,
     "input": [
      "df[:(C .== \"G1\"), :]"
     ],
     "language": "python",
     "metadata": {
      "slideshow": {
       "slide_type": "slide"
      }
     },
     "outputs": [
      {
       "metadata": {},
       "output_type": "pyout",
       "prompt_number": 64,
       "text": [
        "5x3 DataFrame:\n",
        "          A        B    C\n",
        "[1,]    1.0 0.945278 \"G1\"\n",
        "[2,]    2.0 0.799989 \"G1\"\n",
        "[3,]    3.0 0.481181 \"G1\"\n",
        "[4,]    4.0  0.16643 \"G1\"\n",
        "[5,]    5.0 0.952686 \"G1\"\n"
       ]
      }
     ],
     "prompt_number": 64
    },
    {
     "cell_type": "code",
     "collapsed": false,
     "input": [
      "df[\"C\"] .== \"G1\""
     ],
     "language": "python",
     "metadata": {
      "slideshow": {
       "slide_type": "slide"
      }
     },
     "outputs": [
      {
       "metadata": {},
       "output_type": "pyout",
       "prompt_number": 65,
       "text": [
        "10-element PooledDataArray{Bool,Uint8,1}:\n",
        "  true\n",
        "  true\n",
        "  true\n",
        "  true\n",
        "  true\n",
        " false\n",
        " false\n",
        " false\n",
        " false\n",
        " false"
       ]
      }
     ],
     "prompt_number": 65
    },
    {
     "cell_type": "code",
     "collapsed": false,
     "input": [
      "with(df, :(A + B))"
     ],
     "language": "python",
     "metadata": {
      "slideshow": {
       "slide_type": "slide"
      }
     },
     "outputs": [
      {
       "metadata": {},
       "output_type": "pyout",
       "prompt_number": 66,
       "text": [
        "10-element DataArray{Float64,1}:\n",
        "  1.94528\n",
        "  2.79999\n",
        "  3.48118\n",
        "  4.16643\n",
        "  5.95269\n",
        "  6.13622\n",
        "  7.63685\n",
        "  8.24682\n",
        "  9.09474\n",
        " 10.446  "
       ]
      }
     ],
     "prompt_number": 66
    },
    {
     "cell_type": "heading",
     "level": 1,
     "metadata": {
      "slideshow": {
       "slide_type": "slide"
      }
     },
     "source": [
      "Accessing Classical Datasets"
     ]
    },
    {
     "cell_type": "code",
     "collapsed": false,
     "input": [
      "using RDatasets"
     ],
     "language": "python",
     "metadata": {
      "slideshow": {
       "slide_type": "slide"
      }
     },
     "outputs": [],
     "prompt_number": 67
    },
    {
     "cell_type": "code",
     "collapsed": false,
     "input": [
      "iris = data(\"datasets\", \"iris\")"
     ],
     "language": "python",
     "metadata": {
      "slideshow": {
       "slide_type": "slide"
      }
     },
     "outputs": [
      {
       "metadata": {},
       "output_type": "pyout",
       "prompt_number": 68,
       "text": [
        "150x6 DataFrame:\n",
        "              Sepal.Length Sepal.Width Petal.Length Petal.Width     Species\n",
        "[1,]        1          5.1         3.5          1.4         0.2    \"setosa\"\n",
        "[2,]        2          4.9         3.0          1.4         0.2    \"setosa\"\n",
        "[3,]        3          4.7         3.2          1.3         0.2    \"setosa\"\n",
        "[4,]        4          4.6         3.1          1.5         0.2    \"setosa\"\n",
        "[5,]        5          5.0         3.6          1.4         0.2    \"setosa\"\n",
        "[6,]        6          5.4         3.9          1.7         0.4    \"setosa\"\n",
        "[7,]        7          4.6         3.4          1.4         0.3    \"setosa\"\n",
        "[8,]        8          5.0         3.4          1.5         0.2    \"setosa\"\n",
        "[9,]        9          4.4         2.9          1.4         0.2    \"setosa\"\n",
        "[10,]      10          4.9         3.1          1.5         0.1    \"setosa\"\n",
        "[11,]      11          5.4         3.7          1.5         0.2    \"setosa\"\n",
        "[12,]      12          4.8         3.4          1.6         0.2    \"setosa\"\n",
        "[13,]      13          4.8         3.0          1.4         0.1    \"setosa\"\n",
        "[14,]      14          4.3         3.0          1.1         0.1    \"setosa\"\n",
        "[15,]      15          5.8         4.0          1.2         0.2    \"setosa\"\n",
        "[16,]      16          5.7         4.4          1.5         0.4    \"setosa\"\n",
        "[17,]      17          5.4         3.9          1.3         0.4    \"setosa\"\n",
        "[18,]      18          5.1         3.5          1.4         0.3    \"setosa\"\n",
        "[19,]      19          5.7         3.8          1.7         0.3    \"setosa\"\n",
        "[20,]      20          5.1         3.8          1.5         0.3    \"setosa\"\n",
        "  :\n",
        "[131,]    131          7.4         2.8          6.1         1.9 \"virginica\"\n",
        "[132,]    132          7.9         3.8          6.4         2.0 \"virginica\"\n",
        "[133,]    133          6.4         2.8          5.6         2.2 \"virginica\"\n",
        "[134,]    134          6.3         2.8          5.1         1.5 \"virginica\"\n",
        "[135,]    135          6.1         2.6          5.6         1.4 \"virginica\"\n",
        "[136,]    136          7.7         3.0          6.1         2.3 \"virginica\"\n",
        "[137,]    137          6.3         3.4          5.6         2.4 \"virginica\"\n",
        "[138,]    138          6.4         3.1          5.5         1.8 \"virginica\"\n",
        "[139,]    139          6.0         3.0          4.8         1.8 \"virginica\"\n",
        "[140,]    140          6.9         3.1          5.4         2.1 \"virginica\"\n",
        "[141,]    141          6.7         3.1          5.6         2.4 \"virginica\"\n",
        "[142,]    142          6.9         3.1          5.1         2.3 \"virginica\"\n",
        "[143,]    143          5.8         2.7          5.1         1.9 \"virginica\"\n",
        "[144,]    144          6.8         3.2          5.9         2.3 \"virginica\"\n",
        "[145,]    145          6.7         3.3          5.7         2.5 \"virginica\"\n",
        "[146,]    146          6.7         3.0          5.2         2.3 \"virginica\"\n",
        "[147,]    147          6.3         2.5          5.0         1.9 \"virginica\"\n",
        "[148,]    148          6.5         3.0          5.2         2.0 \"virginica\"\n",
        "[149,]    149          6.2         3.4          5.4         2.3 \"virginica\"\n",
        "[150,]    150          5.9         3.0          5.1         1.8 \"virginica\"\n"
       ]
      }
     ],
     "prompt_number": 68
    },
    {
     "cell_type": "code",
     "collapsed": false,
     "input": [
      "head(iris)"
     ],
     "language": "python",
     "metadata": {
      "slideshow": {
       "slide_type": "slide"
      }
     },
     "outputs": [
      {
       "metadata": {},
       "output_type": "pyout",
       "prompt_number": 69,
       "text": [
        "6x6 DataFrame:\n",
        "          Sepal.Length Sepal.Width Petal.Length Petal.Width  Species\n",
        "[1,]    1          5.1         3.5          1.4         0.2 \"setosa\"\n",
        "[2,]    2          4.9         3.0          1.4         0.2 \"setosa\"\n",
        "[3,]    3          4.7         3.2          1.3         0.2 \"setosa\"\n",
        "[4,]    4          4.6         3.1          1.5         0.2 \"setosa\"\n",
        "[5,]    5          5.0         3.6          1.4         0.2 \"setosa\"\n",
        "[6,]    6          5.4         3.9          1.7         0.4 \"setosa\"\n"
       ]
      }
     ],
     "prompt_number": 69
    },
    {
     "cell_type": "code",
     "collapsed": false,
     "input": [
      "plot(iris,\n",
      "     x = \"Petal.Length\", y = \"Petal.Width\", color = \"Species\",\n",
      "     Geom.point)"
     ],
     "language": "python",
     "metadata": {
      "slideshow": {
       "slide_type": "slide"
      }
     },
     "outputs": [
      {
       "ename": "ErrorException",
       "evalue": "too many parameters for type DataForm",
       "output_type": "pyerr",
       "traceback": [
        "too many parameters for type DataForm",
        " in anonymous at no file",
        " in _methods at reflection.jl:80",
        " in _methods at reflection.jl:77",
        " in abstract_eval_call at inference.jl:743",
        " in abstract_eval at inference.jl:780",
        " in abstract_eval_arg at inference.jl:714",
        " in typeinf at inference.jl:1290",
        " in abstract_call_gf at inference.jl:589",
        " in abstract_call at inference.jl:667",
        " in abstract_eval_call at inference.jl:755",
        " in abstract_eval at inference.jl:780",
        " in abstract_eval_arg at inference.jl:714",
        " in typeinf at inference.jl:1290",
        " in abstract_call_gf at inference.jl:589",
        " in abstract_call at inference.jl:667",
        " in abstract_eval_call at inference.jl:755",
        " in abstract_eval at inference.jl:780",
        " in abstract_eval_arg at inference.jl:714",
        " in abstract_eval_call at inference.jl:723",
        " in abstract_eval at inference.jl:780",
        " in abstract_eval_arg at inference.jl:714",
        " in typeinf at inference.jl:1290",
        " in typeinf_ext at inference.jl:1058",
        " in render_prepared at /Users/johnmyleswhite/.julia/Gadfly/src/Gadfly.jl:620",
        " in render at /Users/johnmyleswhite/.julia/Gadfly/src/Gadfly.jl:573",
        " in writemime at /Users/johnmyleswhite/.julia/Gadfly/src/Gadfly.jl:652",
        " in sprint at io.jl:426",
        " in display_dict at /Users/johnmyleswhite/.julia/IJulia/src/execute_request.jl:29"
       ]
      }
     ],
     "prompt_number": 70
    },
    {
     "cell_type": "heading",
     "level": 1,
     "metadata": {
      "slideshow": {
       "slide_type": "slide"
      }
     },
     "source": [
      "Converting DataFrames to Design Matrices"
     ]
    },
    {
     "cell_type": "code",
     "collapsed": false,
     "input": [
      "ModelMatrix(ModelFrame(:(A ~ B), df))"
     ],
     "language": "python",
     "metadata": {
      "slideshow": {
       "slide_type": "slide"
      }
     },
     "outputs": [
      {
       "metadata": {},
       "output_type": "pyout",
       "prompt_number": 71,
       "text": [
        "ModelMatrix{Float64}(10x2 Array{Float64,2}:\n",
        " 1.0  0.945278 \n",
        " 1.0  0.799989 \n",
        " 1.0  0.481181 \n",
        " 1.0  0.16643  \n",
        " 1.0  0.952686 \n",
        " 1.0  0.136218 \n",
        " 1.0  0.63685  \n",
        " 1.0  0.246825 \n",
        " 1.0  0.0947379\n",
        " 1.0  0.445974 ,[0,1])"
       ]
      }
     ],
     "prompt_number": 71
    },
    {
     "cell_type": "heading",
     "level": 1,
     "metadata": {
      "slideshow": {
       "slide_type": "slide"
      }
     },
     "source": [
      "DataFrame I/O"
     ]
    },
    {
     "cell_type": "code",
     "collapsed": false,
     "input": [
      "writetable(\"df.csv\", df)"
     ],
     "language": "python",
     "metadata": {
      "slideshow": {
       "slide_type": "slide"
      }
     },
     "outputs": [],
     "prompt_number": 72
    },
    {
     "cell_type": "code",
     "collapsed": false,
     "input": [
      "df"
     ],
     "language": "python",
     "metadata": {
      "slideshow": {
       "slide_type": "slide"
      }
     },
     "outputs": [
      {
       "metadata": {},
       "output_type": "pyout",
       "prompt_number": 73,
       "text": [
        "10x3 DataFrame:\n",
        "            A         B    C\n",
        "[1,]      1.0  0.945278 \"G1\"\n",
        "[2,]      2.0  0.799989 \"G1\"\n",
        "[3,]      3.0  0.481181 \"G1\"\n",
        "[4,]      4.0   0.16643 \"G1\"\n",
        "[5,]      5.0  0.952686 \"G1\"\n",
        "[6,]      6.0  0.136218 \"G2\"\n",
        "[7,]      7.0   0.63685 \"G2\"\n",
        "[8,]      8.0  0.246825 \"G2\"\n",
        "[9,]      9.0 0.0947379 \"G2\"\n",
        "[10,]    10.0  0.445974 \"G2\"\n"
       ]
      }
     ],
     "prompt_number": 73
    },
    {
     "cell_type": "code",
     "collapsed": false,
     "input": [
      "df2 = readtable(\"df.csv\")"
     ],
     "language": "python",
     "metadata": {
      "slideshow": {
       "slide_type": "slide"
      }
     },
     "outputs": [
      {
       "metadata": {},
       "output_type": "pyout",
       "prompt_number": 74,
       "text": [
        "10x3 DataFrame:\n",
        "            A         B    C\n",
        "[1,]      1.0  0.945278 \"G1\"\n",
        "[2,]      2.0  0.799989 \"G1\"\n",
        "[3,]      3.0  0.481181 \"G1\"\n",
        "[4,]      4.0   0.16643 \"G1\"\n",
        "[5,]      5.0  0.952686 \"G1\"\n",
        "[6,]      6.0  0.136218 \"G2\"\n",
        "[7,]      7.0   0.63685 \"G2\"\n",
        "[8,]      8.0  0.246825 \"G2\"\n",
        "[9,]      9.0 0.0947379 \"G2\"\n",
        "[10,]    10.0  0.445974 \"G2\"\n"
       ]
      }
     ],
     "prompt_number": 74
    },
    {
     "cell_type": "heading",
     "level": 1,
     "metadata": {
      "slideshow": {
       "slide_type": "slide"
      }
     },
     "source": [
      "Merging Data Sets"
     ]
    },
    {
     "cell_type": "code",
     "collapsed": false,
     "input": [
      "A = DataFrame(X = 1:3, Z = [\"A\", \"B\", \"C\"])"
     ],
     "language": "python",
     "metadata": {
      "slideshow": {
       "slide_type": "slide"
      }
     },
     "outputs": [
      {
       "metadata": {},
       "output_type": "pyout",
       "prompt_number": 75,
       "text": [
        "3x2 DataFrame:\n",
        "        X   Z\n",
        "[1,]    1 \"A\"\n",
        "[2,]    2 \"B\"\n",
        "[3,]    3 \"C\"\n"
       ]
      }
     ],
     "prompt_number": 75
    },
    {
     "cell_type": "code",
     "collapsed": false,
     "input": [
      "B = DataFrame(Y = 4:6, Z = [\"A\", \"B\", \"B\"])"
     ],
     "language": "python",
     "metadata": {
      "slideshow": {
       "slide_type": "slide"
      }
     },
     "outputs": [
      {
       "metadata": {},
       "output_type": "pyout",
       "prompt_number": 76,
       "text": [
        "3x2 DataFrame:\n",
        "        Y   Z\n",
        "[1,]    4 \"A\"\n",
        "[2,]    5 \"B\"\n",
        "[3,]    6 \"B\"\n"
       ]
      }
     ],
     "prompt_number": 76
    },
    {
     "cell_type": "code",
     "collapsed": false,
     "input": [
      "join(A, B, on = \"Z\")"
     ],
     "language": "python",
     "metadata": {
      "slideshow": {
       "slide_type": "slide"
      }
     },
     "outputs": [
      {
       "metadata": {},
       "output_type": "pyout",
       "prompt_number": 77,
       "text": [
        "3x3 DataFrame:\n",
        "        X   Z Y\n",
        "[1,]    1 \"A\" 4\n",
        "[2,]    2 \"B\" 5\n",
        "[3,]    2 \"B\" 6\n"
       ]
      }
     ],
     "prompt_number": 77
    },
    {
     "cell_type": "code",
     "collapsed": false,
     "input": [
      "join(A, B, on = \"Z\", kind = :inner)"
     ],
     "language": "python",
     "metadata": {
      "slideshow": {
       "slide_type": "slide"
      }
     },
     "outputs": [
      {
       "metadata": {},
       "output_type": "pyout",
       "prompt_number": 78,
       "text": [
        "3x3 DataFrame:\n",
        "        X   Z Y\n",
        "[1,]    1 \"A\" 4\n",
        "[2,]    2 \"B\" 5\n",
        "[3,]    2 \"B\" 6\n"
       ]
      }
     ],
     "prompt_number": 78
    },
    {
     "cell_type": "code",
     "collapsed": false,
     "input": [
      "join(A, B, on = \"Z\", kind = :left)"
     ],
     "language": "python",
     "metadata": {
      "slideshow": {
       "slide_type": "slide"
      }
     },
     "outputs": [
      {
       "metadata": {},
       "output_type": "pyout",
       "prompt_number": 79,
       "text": [
        "4x3 DataFrame:\n",
        "        X   Z  Y\n",
        "[1,]    1 \"A\"  4\n",
        "[2,]    2 \"B\"  5\n",
        "[3,]    2 \"B\"  6\n",
        "[4,]    3 \"C\" NA\n"
       ]
      }
     ],
     "prompt_number": 79
    },
    {
     "cell_type": "code",
     "collapsed": false,
     "input": [
      "join(A, B, on = \"Z\", kind = :right)"
     ],
     "language": "python",
     "metadata": {
      "slideshow": {
       "slide_type": "slide"
      }
     },
     "outputs": [
      {
       "metadata": {},
       "output_type": "pyout",
       "prompt_number": 80,
       "text": [
        "3x3 DataFrame:\n",
        "        X Y   Z\n",
        "[1,]    1 4 \"A\"\n",
        "[2,]    2 5 \"B\"\n",
        "[3,]    2 6 \"B\"\n"
       ]
      }
     ],
     "prompt_number": 80
    },
    {
     "cell_type": "code",
     "collapsed": false,
     "input": [
      "join(A, B, on = \"Z\", kind = :outer)"
     ],
     "language": "python",
     "metadata": {
      "slideshow": {
       "slide_type": "slide"
      }
     },
     "outputs": [
      {
       "metadata": {},
       "output_type": "pyout",
       "prompt_number": 81,
       "text": [
        "4x3 DataFrame:\n",
        "        X   Z  Y\n",
        "[1,]    1 \"A\"  4\n",
        "[2,]    2 \"B\"  5\n",
        "[3,]    2 \"B\"  6\n",
        "[4,]    3 \"C\" NA\n"
       ]
      }
     ],
     "prompt_number": 81
    },
    {
     "cell_type": "heading",
     "level": 1,
     "metadata": {
      "slideshow": {
       "slide_type": "slide"
      }
     },
     "source": [
      "Split-Apply-Combine Operations"
     ]
    },
    {
     "cell_type": "code",
     "collapsed": false,
     "input": [
      "by(iris, \"Species\", nrow)"
     ],
     "language": "python",
     "metadata": {
      "slideshow": {
       "slide_type": "slide"
      }
     },
     "outputs": [
      {
       "metadata": {},
       "output_type": "pyout",
       "prompt_number": 82,
       "text": [
        "3x2 DataFrame:\n",
        "             Species x1\n",
        "[1,]        \"setosa\" 50\n",
        "[2,]    \"versicolor\" 50\n",
        "[3,]     \"virginica\" 50\n"
       ]
      }
     ],
     "prompt_number": 82
    },
    {
     "cell_type": "code",
     "collapsed": false,
     "input": [
      "by(iris, \"Species\", df -> mean(df[\"Petal.Length\"]))"
     ],
     "language": "python",
     "metadata": {
      "slideshow": {
       "slide_type": "slide"
      }
     },
     "outputs": [
      {
       "metadata": {},
       "output_type": "pyout",
       "prompt_number": 83,
       "text": [
        "3x2 DataFrame:\n",
        "             Species    x1\n",
        "[1,]        \"setosa\" 1.462\n",
        "[2,]    \"versicolor\"  4.26\n",
        "[3,]     \"virginica\" 5.552\n"
       ]
      }
     ],
     "prompt_number": 83
    },
    {
     "cell_type": "code",
     "collapsed": false,
     "input": [
      "by(iris, \"Species\", :(N = size(_DF, 1)))"
     ],
     "language": "python",
     "metadata": {
      "slideshow": {
       "slide_type": "slide"
      }
     },
     "outputs": [
      {
       "metadata": {},
       "output_type": "pyout",
       "prompt_number": 84,
       "text": [
        "3x2 DataFrame:\n",
        "             Species  N\n",
        "[1,]        \"setosa\" 50\n",
        "[2,]    \"versicolor\" 50\n",
        "[3,]     \"virginica\" 50\n"
       ]
      }
     ],
     "prompt_number": 84
    },
    {
     "cell_type": "heading",
     "level": 1,
     "metadata": {
      "slideshow": {
       "slide_type": "slide"
      }
     },
     "source": [
      "GLM's in Julia"
     ]
    },
    {
     "cell_type": "code",
     "collapsed": false,
     "input": [
      "using GLM"
     ],
     "language": "python",
     "metadata": {
      "slideshow": {
       "slide_type": "slide"
      }
     },
     "outputs": [
      {
       "output_type": "stream",
       "stream": "stderr",
       "text": [
        "Warning: using NumericExtensions.Gamma in module Main conflicts with an existing identifier.\n"
       ]
      }
     ],
     "prompt_number": 85
    },
    {
     "cell_type": "code",
     "collapsed": false,
     "input": [
      "glm(:(B ~ A), df, Binomial())"
     ],
     "language": "python",
     "metadata": {
      "slideshow": {
       "slide_type": "slide"
      }
     },
     "outputs": [
      {
       "metadata": {},
       "output_type": "pyout",
       "prompt_number": 86,
       "text": [
        "\n",
        "Formula: B ~ A\n",
        "\n",
        "Coefficients:\n",
        "\n",
        "2x4 DataFrame:\n",
        "         Estimate Std.Error  z value Pr(>|z|)\n",
        "[1,]      1.40071   1.51223 0.926253 0.354314\n",
        "[2,]    -0.262443  0.247784 -1.05916 0.289526\n",
        "\n"
       ]
      }
     ],
     "prompt_number": 86
    },
    {
     "cell_type": "code",
     "collapsed": false,
     "input": [
      "glm(:(A ~ B), df, Poisson())"
     ],
     "language": "python",
     "metadata": {
      "slideshow": {
       "slide_type": "slide"
      }
     },
     "outputs": [
      {
       "metadata": {},
       "output_type": "pyout",
       "prompt_number": 87,
       "text": [
        "\n",
        "Formula: A ~ B\n",
        "\n",
        "Coefficients:\n",
        "\n",
        "2x4 DataFrame:\n",
        "         Estimate Std.Error  z value    Pr(>|z|)\n",
        "[1,]      2.13814   0.22781   9.3856 6.25577e-21\n",
        "[2,]    -0.975878  0.459442 -2.12405   0.0336659\n",
        "\n"
       ]
      }
     ],
     "prompt_number": 87
    },
    {
     "cell_type": "heading",
     "level": 1,
     "metadata": {
      "slideshow": {
       "slide_type": "slide"
      }
     },
     "source": [
      "Optimization in Julia"
     ]
    },
    {
     "cell_type": "code",
     "collapsed": false,
     "input": [
      "using Optim"
     ],
     "language": "python",
     "metadata": {
      "slideshow": {
       "slide_type": "slide"
      }
     },
     "outputs": [],
     "prompt_number": 88
    },
    {
     "cell_type": "code",
     "collapsed": false,
     "input": [
      "f(x::Vector) = (10.73 - x[1])^2 + (1134.29 - x[2])^4"
     ],
     "language": "python",
     "metadata": {
      "slideshow": {
       "slide_type": "slide"
      }
     },
     "outputs": [
      {
       "metadata": {},
       "output_type": "pyout",
       "prompt_number": 89,
       "text": [
        "f (generic function with 1 method)"
       ]
      }
     ],
     "prompt_number": 89
    },
    {
     "cell_type": "code",
     "collapsed": false,
     "input": [
      "f([0.0, 0.0])"
     ],
     "language": "python",
     "metadata": {
      "slideshow": {
       "slide_type": "slide"
      }
     },
     "outputs": [
      {
       "metadata": {},
       "output_type": "pyout",
       "prompt_number": 90,
       "text": [
        "1.6553750810158057e12"
       ]
      }
     ],
     "prompt_number": 90
    },
    {
     "cell_type": "code",
     "collapsed": false,
     "input": [
      "optimize(f, [0.0, 0.0])"
     ],
     "language": "python",
     "metadata": {
      "slideshow": {
       "slide_type": "slide"
      }
     },
     "outputs": [
      {
       "metadata": {},
       "output_type": "pyout",
       "prompt_number": 91,
       "text": [
        "Results of Optimization Algorithm\n",
        " * Algorithm: Nelder-Mead\n",
        " * Starting Point: 0\n",
        "0\n",
        "\n",
        " * Minimum: 10.729963758708099\n",
        "1134.2876531089082\n",
        "\n",
        " * Value of Function at Minimum: 0.000000\n",
        " * Iterations: 68\n",
        " * Convergence: true\n",
        "   * |x - x'| < NaN: false\n",
        "   * |f(x) - f(x')| / |f(x)| < 1.0e-08: true\n",
        "   * |g(x)| < NaN: false\n",
        "   * Exceeded Maximum Number of Iterations: false\n",
        " * Objective Function Calls: 132\n",
        " * Gradient Call: 0"
       ]
      }
     ],
     "prompt_number": 91
    },
    {
     "cell_type": "code",
     "collapsed": false,
     "input": [
      "optimize(f, [0.0, 0.0], method = :l_bfgs)"
     ],
     "language": "python",
     "metadata": {
      "slideshow": {
       "slide_type": "slide"
      }
     },
     "outputs": [
      {
       "metadata": {},
       "output_type": "pyout",
       "prompt_number": 92,
       "text": [
        "Results of Optimization Algorithm\n",
        " * Algorithm: L-BFGS\n",
        " * Starting Point: 0\n",
        "0\n",
        "\n",
        " * Minimum: 10.730000000844589\n",
        "1134.290201363321\n",
        "\n",
        " * Value of Function at Minimum: 0.000000\n",
        " * Iterations: 23\n",
        " * Convergence: true\n",
        "   * |x - x'| < 1.0e-32: false\n",
        "   * |f(x) - f(x')| / |f(x)| < 1.0e-08: false\n",
        "   * |g(x)| < 1.0e-08: true\n",
        "   * Exceeded Maximum Number of Iterations: false\n",
        " * Objective Function Calls: 121\n",
        " * Gradient Call: 121"
       ]
      }
     ],
     "prompt_number": 92
    },
    {
     "cell_type": "heading",
     "level": 1,
     "metadata": {
      "slideshow": {
       "slide_type": "slide"
      }
     },
     "source": [
      "Maximum Likelihood Estimation in Julia"
     ]
    },
    {
     "cell_type": "code",
     "collapsed": false,
     "input": [
      "x = rand(Normal(11, 3), 1_000)"
     ],
     "language": "python",
     "metadata": {
      "slideshow": {
       "slide_type": "slide"
      }
     },
     "outputs": [
      {
       "metadata": {},
       "output_type": "pyout",
       "prompt_number": 93,
       "text": [
        "1000-element Array{Float64,1}:\n",
        " 10.002  \n",
        " 12.4459 \n",
        " 11.1788 \n",
        " 12.0539 \n",
        "  8.42252\n",
        "  7.69836\n",
        " 11.6191 \n",
        "  9.05103\n",
        "  6.6923 \n",
        "  9.62217\n",
        " 15.1917 \n",
        " 18.1431 \n",
        " 12.9639 \n",
        "  \u22ee      \n",
        " 14.9493 \n",
        "  8.58663\n",
        "  6.18818\n",
        "  9.74239\n",
        "  9.40224\n",
        " 11.8781 \n",
        " 11.7228 \n",
        " 11.1143 \n",
        " 10.1262 \n",
        " 10.2716 \n",
        " 11.7739 \n",
        "  9.35115"
       ]
      }
     ],
     "prompt_number": 93
    },
    {
     "cell_type": "code",
     "collapsed": false,
     "input": [
      "function makenll(x)\n",
      "    nll(params::Vector) = -loglikelihood(Normal(params[1], 3), x)\n",
      "end"
     ],
     "language": "python",
     "metadata": {
      "slideshow": {
       "slide_type": "slide"
      }
     },
     "outputs": [
      {
       "metadata": {},
       "output_type": "pyout",
       "prompt_number": 94,
       "text": [
        "makenll (generic function with 1 method)"
       ]
      }
     ],
     "prompt_number": 94
    },
    {
     "cell_type": "code",
     "collapsed": false,
     "input": [
      "nll = makenll(x)"
     ],
     "language": "python",
     "metadata": {
      "slideshow": {
       "slide_type": "slide"
      }
     },
     "outputs": [
      {
       "metadata": {},
       "output_type": "pyout",
       "prompt_number": 95,
       "text": [
        "nll (generic function with 1 method)"
       ]
      }
     ],
     "prompt_number": 95
    },
    {
     "cell_type": "code",
     "collapsed": false,
     "input": [
      "nll([0.0])"
     ],
     "language": "python",
     "metadata": {
      "slideshow": {
       "slide_type": "slide"
      }
     },
     "outputs": [
      {
       "metadata": {},
       "output_type": "pyout",
       "prompt_number": 96,
       "text": [
        "9255.413335553998"
       ]
      }
     ],
     "prompt_number": 96
    },
    {
     "cell_type": "code",
     "collapsed": false,
     "input": [
      "nll([10.0])"
     ],
     "language": "python",
     "metadata": {
      "slideshow": {
       "slide_type": "slide"
      }
     },
     "outputs": [
      {
       "metadata": {},
       "output_type": "pyout",
       "prompt_number": 97,
       "text": [
        "2564.9591247315657"
       ]
      }
     ],
     "prompt_number": 97
    },
    {
     "cell_type": "code",
     "collapsed": false,
     "input": [
      "optimize(nll, [0.0])"
     ],
     "language": "python",
     "metadata": {
      "slideshow": {
       "slide_type": "slide"
      }
     },
     "outputs": [
      {
       "metadata": {},
       "output_type": "pyout",
       "prompt_number": 98,
       "text": [
        "Results of Optimization Algorithm\n",
        " * Algorithm: Nelder-Mead\n",
        " * Starting Point: 0\n",
        "\n",
        " * Minimum: 11.021408081054688\n",
        "\n",
        " * Value of Function at Minimum: 2506.999352\n",
        " * Iterations: 21\n",
        " * Convergence: true\n",
        "   * |x - x'| < NaN: false\n",
        "   * |f(x) - f(x')| / |f(x)| < 1.0e-08: true\n",
        "   * |g(x)| < NaN: false\n",
        "   * Exceeded Maximum Number of Iterations: false\n",
        " * Objective Function Calls: 44\n",
        " * Gradient Call: 0"
       ]
      }
     ],
     "prompt_number": 98
    },
    {
     "cell_type": "code",
     "collapsed": false,
     "input": [
      "mean(x)"
     ],
     "language": "python",
     "metadata": {
      "slideshow": {
       "slide_type": "slide"
      }
     },
     "outputs": [
      {
       "metadata": {},
       "output_type": "pyout",
       "prompt_number": 99,
       "text": [
        "11.021408789740187"
       ]
      }
     ],
     "prompt_number": 99
    },
    {
     "cell_type": "markdown",
     "metadata": {
      "slideshow": {
       "slide_type": "slide"
      }
     },
     "source": [
      "More resources:\n",
      "\n",
      "* NLopt\n",
      "* JuMP"
     ]
    },
    {
     "cell_type": "heading",
     "level": 1,
     "metadata": {
      "slideshow": {
       "slide_type": "slide"
      }
     },
     "source": [
      "ML Algorithms"
     ]
    },
    {
     "cell_type": "code",
     "collapsed": false,
     "input": [
      "using RDatasets"
     ],
     "language": "python",
     "metadata": {
      "slideshow": {
       "slide_type": "slide"
      }
     },
     "outputs": [],
     "prompt_number": 100
    },
    {
     "cell_type": "code",
     "collapsed": false,
     "input": [
      "iris = data(\"datasets\", \"iris\")"
     ],
     "language": "python",
     "metadata": {
      "slideshow": {
       "slide_type": "slide"
      }
     },
     "outputs": [
      {
       "metadata": {},
       "output_type": "pyout",
       "prompt_number": 101,
       "text": [
        "150x6 DataFrame:\n",
        "              Sepal.Length Sepal.Width Petal.Length Petal.Width     Species\n",
        "[1,]        1          5.1         3.5          1.4         0.2    \"setosa\"\n",
        "[2,]        2          4.9         3.0          1.4         0.2    \"setosa\"\n",
        "[3,]        3          4.7         3.2          1.3         0.2    \"setosa\"\n",
        "[4,]        4          4.6         3.1          1.5         0.2    \"setosa\"\n",
        "[5,]        5          5.0         3.6          1.4         0.2    \"setosa\"\n",
        "[6,]        6          5.4         3.9          1.7         0.4    \"setosa\"\n",
        "[7,]        7          4.6         3.4          1.4         0.3    \"setosa\"\n",
        "[8,]        8          5.0         3.4          1.5         0.2    \"setosa\"\n",
        "[9,]        9          4.4         2.9          1.4         0.2    \"setosa\"\n",
        "[10,]      10          4.9         3.1          1.5         0.1    \"setosa\"\n",
        "[11,]      11          5.4         3.7          1.5         0.2    \"setosa\"\n",
        "[12,]      12          4.8         3.4          1.6         0.2    \"setosa\"\n",
        "[13,]      13          4.8         3.0          1.4         0.1    \"setosa\"\n",
        "[14,]      14          4.3         3.0          1.1         0.1    \"setosa\"\n",
        "[15,]      15          5.8         4.0          1.2         0.2    \"setosa\"\n",
        "[16,]      16          5.7         4.4          1.5         0.4    \"setosa\"\n",
        "[17,]      17          5.4         3.9          1.3         0.4    \"setosa\"\n",
        "[18,]      18          5.1         3.5          1.4         0.3    \"setosa\"\n",
        "[19,]      19          5.7         3.8          1.7         0.3    \"setosa\"\n",
        "[20,]      20          5.1         3.8          1.5         0.3    \"setosa\"\n",
        "  :\n",
        "[131,]    131          7.4         2.8          6.1         1.9 \"virginica\"\n",
        "[132,]    132          7.9         3.8          6.4         2.0 \"virginica\"\n",
        "[133,]    133          6.4         2.8          5.6         2.2 \"virginica\"\n",
        "[134,]    134          6.3         2.8          5.1         1.5 \"virginica\"\n",
        "[135,]    135          6.1         2.6          5.6         1.4 \"virginica\"\n",
        "[136,]    136          7.7         3.0          6.1         2.3 \"virginica\"\n",
        "[137,]    137          6.3         3.4          5.6         2.4 \"virginica\"\n",
        "[138,]    138          6.4         3.1          5.5         1.8 \"virginica\"\n",
        "[139,]    139          6.0         3.0          4.8         1.8 \"virginica\"\n",
        "[140,]    140          6.9         3.1          5.4         2.1 \"virginica\"\n",
        "[141,]    141          6.7         3.1          5.6         2.4 \"virginica\"\n",
        "[142,]    142          6.9         3.1          5.1         2.3 \"virginica\"\n",
        "[143,]    143          5.8         2.7          5.1         1.9 \"virginica\"\n",
        "[144,]    144          6.8         3.2          5.9         2.3 \"virginica\"\n",
        "[145,]    145          6.7         3.3          5.7         2.5 \"virginica\"\n",
        "[146,]    146          6.7         3.0          5.2         2.3 \"virginica\"\n",
        "[147,]    147          6.3         2.5          5.0         1.9 \"virginica\"\n",
        "[148,]    148          6.5         3.0          5.2         2.0 \"virginica\"\n",
        "[149,]    149          6.2         3.4          5.4         2.3 \"virginica\"\n",
        "[150,]    150          5.9         3.0          5.1         1.8 \"virginica\"\n"
       ]
      }
     ],
     "prompt_number": 101
    },
    {
     "cell_type": "code",
     "collapsed": false,
     "input": [
      "using Clustering"
     ],
     "language": "python",
     "metadata": {
      "slideshow": {
       "slide_type": "slide"
      }
     },
     "outputs": [],
     "prompt_number": 102
    },
    {
     "cell_type": "code",
     "collapsed": false,
     "input": [
      "kmeans(matrix(iris[:, 2:5])', 3)"
     ],
     "language": "python",
     "metadata": {
      "slideshow": {
       "slide_type": "slide"
      }
     },
     "outputs": [
      {
       "output_type": "stream",
       "stream": "stdout",
       "text": [
        "  "
       ]
      },
      {
       "output_type": "stream",
       "stream": "stdout",
       "text": [
        "Iters               objv        objv-change | affected \n",
        "-------------------------------------------------------------\n",
        "      1       8.597001e+01      -1.027000e+02 |        2\n",
        "      2       8.381508e+01      -2.154935e+00 |        2\n",
        "      3       8.304698e+01      -7.680968e-01 |        2\n",
        "      4       8.174960e+01      -1.297380e+00 |        2\n",
        "      5       8.080638e+01      -9.432261e-01 |        2\n",
        "      6       7.987358e+01      -9.327962e-01 |        2\n",
        "      7       7.934436e+01      -5.292157e-01 |        2\n",
        "      8       7.892131e+01      -4.230544e-01 |        2\n",
        "      9       7.885567e+01      -6.564390e-02 |        0\n",
        "     10       7.885567e+01       0.000000e+00 |        0\n",
        "K-means converged with 10 iterations (objv = 78.85566582597716)\n"
       ]
      },
      {
       "metadata": {},
       "output_type": "pyout",
       "prompt_number": 103,
       "text": [
        "KmeansResult{Float64}(4x3 Array{Float64,2}:\n",
        " 5.88361  5.006  6.85385\n",
        " 2.74098  3.428  3.07692\n",
        " 4.38852  1.462  5.71538\n",
        " 1.43443  0.246  2.05385,[2,2,2,2,2,2,2,2,2,2  \u2026  3,3,1,3,3,3,1,3,3,1],[0.019980000000018094,0.20038000000000977,0.17398000000001446,0.2759800000000041,0.03557999999999595,0.45838000000000534,0.17238000000000397,0.004380000000011819,0.6519799999999947,0.1415800000000189  \u2026  0.1573372781064677,0.4419526627218886,0.7316259070142337,0.1127218934910843,0.2727218934911093,0.3557988165680399,0.8221177102929005,0.3996449704141867,0.6919526627218318,0.7071996775060256],[61,50,39],[0.0,0.0,0.0],78.85566582597716,10,true)"
       ]
      }
     ],
     "prompt_number": 103
    },
    {
     "cell_type": "code",
     "collapsed": false,
     "input": [
      "by(iris, \"Species\", df -> DataFrame(A = mean(df[2]),\n",
      "                                    B = mean(df[3]),\n",
      "                                    C = mean(df[4]),\n",
      "                                    D = mean(df[5])))"
     ],
     "language": "python",
     "metadata": {
      "slideshow": {
       "slide_type": "slide"
      }
     },
     "outputs": [
      {
       "metadata": {},
       "output_type": "pyout",
       "prompt_number": 104,
       "text": [
        "3x5 DataFrame:\n",
        "             Species     A     B     C     D\n",
        "[1,]        \"setosa\" 5.006 3.428 1.462 0.246\n",
        "[2,]    \"versicolor\" 5.936  2.77  4.26 1.326\n",
        "[3,]     \"virginica\" 6.588 2.974 5.552 2.026\n"
       ]
      }
     ],
     "prompt_number": 104
    }
   ],
   "metadata": {}
  }
 ]
}