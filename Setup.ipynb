{
 "metadata": {
  "language": "Julia",
  "name": ""
 },
 "nbformat": 3,
 "nbformat_minor": 0,
 "worksheets": [
  {
   "cells": [
    {
     "cell_type": "heading",
     "level": 1,
     "metadata": {},
     "source": [
      "Install Julia"
     ]
    },
    {
     "cell_type": "markdown",
     "metadata": {},
     "source": [
      "Grab a binary of the latest Julia from [http://julialang.org/downloads/#beta](http://julialang.org/downloads/#beta).\n",
      "      \n",
      "__If the binaries do not work, please install from source. The initial source installation takes a long time because of the dependencies that have to be installed, but subsequent builds takes less than a minute on average.__"
     ]
    },
    {
     "cell_type": "heading",
     "level": 1,
     "metadata": {},
     "source": [
      "Make Julia Convenient to Run"
     ]
    },
    {
     "cell_type": "markdown",
     "metadata": {},
     "source": [
      "To make it easier to start a Julia REPL from a terminal session, I set up an alias that points to the executable copy of Julia that we just installed. On OS X, I use the following:\n",
      "\n",
      "```\n",
      "alias julia=\"/Applications/Julia-*.app/Contents/Resources/julia/bin/julia\"\n",
      "```\n",
      "\n",
      "I also setup an alias for IJulia to make it easier to launch from the command-line:\n",
      "\n",
      "```\n",
      "alias ijulia=\"ipython notebook --profile=julia\"\n",
      "```"
     ]
    },
    {
     "cell_type": "heading",
     "level": 1,
     "metadata": {},
     "source": [
      "Install Packages"
     ]
    },
    {
     "cell_type": "markdown",
     "metadata": {},
     "source": [
      "Start a Julia REPL and then run the following commands in the Julia REPL to install packages used in these notebooks:\n",
      "\n",
      "* `Pkg.add(\"Homebrew\")` (on OS X)\n",
      "* `Pkg.add(\"IJulia\")`\n",
      "* `Pkg.add(\"Gadfly\")`\n",
      "* `Pkg.add(\"RDatasets\")`\n",
      "* `Pkg.add(\"GLM\")`\n",
      "* `Pkg.add(\"Optim\")`"
     ]
    }
   ],
   "metadata": {}
  }
 ]
}